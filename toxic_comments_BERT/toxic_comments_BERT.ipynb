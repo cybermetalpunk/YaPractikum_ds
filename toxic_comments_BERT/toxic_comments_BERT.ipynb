{
 "cells": [
  {
   "cell_type": "markdown",
   "metadata": {
    "id": "Kn_NizLvlazP"
   },
   "source": [
    "# Проект для «Викишоп»\n",
    "\n",
    "Интернет-магазин «Викишоп» запускает новый сервис. Теперь пользователи могут редактировать и дополнять описания товаров, как в вики-сообществах. То есть клиенты предлагают свои правки и комментируют изменения других. Магазину нужен инструмент, который будет искать токсичные комментарии и отправлять их на модерацию. \n",
    "\n",
    "Нужно обучить модель классифицировать комментарии на позитивные и негативные. В нашем распоряжении набор данных с разметкой о токсичности правок.\n",
    "\n",
    "Нужно построить модель со значением метрики качества *F1* не меньше 0.75."
   ]
  },
  {
   "cell_type": "markdown",
   "metadata": {},
   "source": [
    "# Оглавление\n",
    "\n",
    "1. [Подготовка](#Подготовка)\n",
    "2. [Изучение данных](#Изучение-данных)\n",
    "3. [Обучение моделей](#Обучение-моделей)\n",
    "4. [Выводы](#Выводы)\n",
    "5. [Обучение с BERT](#Обучение-с-BERT)"
   ]
  },
  {
   "cell_type": "markdown",
   "metadata": {
    "id": "PSyV320hljcL"
   },
   "source": [
    "## Подготовка"
   ]
  },
  {
   "cell_type": "code",
   "execution_count": 1,
   "metadata": {
    "colab": {
     "base_uri": "https://localhost:8080/"
    },
    "id": "PbwtUF_sOONF",
    "outputId": "ec2e416e-be9f-437e-95d9-9917ad90a79c"
   },
   "outputs": [
    {
     "name": "stdout",
     "output_type": "stream",
     "text": [
      "Requirement already satisfied: ppb in /usr/local/lib/python3.7/dist-packages (0.12.0)\n",
      "Requirement already satisfied: ppb-vector~=1.0 in /usr/local/lib/python3.7/dist-packages (from ppb) (1.0)\n",
      "Requirement already satisfied: PySDL2 in /usr/local/lib/python3.7/dist-packages (from ppb) (0.9.7)\n"
     ]
    }
   ],
   "source": [
    "!pip install ppb"
   ]
  },
  {
   "cell_type": "code",
   "execution_count": 2,
   "metadata": {
    "colab": {
     "base_uri": "https://localhost:8080/"
    },
    "id": "VITJru3Rd6sc",
    "outputId": "b23c3bd5-3b5a-4556-d9f2-15767bdaf0b2"
   },
   "outputs": [
    {
     "name": "stdout",
     "output_type": "stream",
     "text": [
      "Requirement already satisfied: catboost in /usr/local/lib/python3.7/dist-packages (0.26)\n",
      "Requirement already satisfied: scipy in /usr/local/lib/python3.7/dist-packages (from catboost) (1.4.1)\n",
      "Requirement already satisfied: plotly in /usr/local/lib/python3.7/dist-packages (from catboost) (4.4.1)\n",
      "Requirement already satisfied: pandas>=0.24.0 in /usr/local/lib/python3.7/dist-packages (from catboost) (1.1.5)\n",
      "Requirement already satisfied: six in /usr/local/lib/python3.7/dist-packages (from catboost) (1.15.0)\n",
      "Requirement already satisfied: numpy>=1.16.0 in /usr/local/lib/python3.7/dist-packages (from catboost) (1.19.5)\n",
      "Requirement already satisfied: graphviz in /usr/local/lib/python3.7/dist-packages (from catboost) (0.10.1)\n",
      "Requirement already satisfied: matplotlib in /usr/local/lib/python3.7/dist-packages (from catboost) (3.2.2)\n",
      "Requirement already satisfied: retrying>=1.3.3 in /usr/local/lib/python3.7/dist-packages (from plotly->catboost) (1.3.3)\n",
      "Requirement already satisfied: pytz>=2017.2 in /usr/local/lib/python3.7/dist-packages (from pandas>=0.24.0->catboost) (2018.9)\n",
      "Requirement already satisfied: python-dateutil>=2.7.3 in /usr/local/lib/python3.7/dist-packages (from pandas>=0.24.0->catboost) (2.8.1)\n",
      "Requirement already satisfied: kiwisolver>=1.0.1 in /usr/local/lib/python3.7/dist-packages (from matplotlib->catboost) (1.3.1)\n",
      "Requirement already satisfied: pyparsing!=2.0.4,!=2.1.2,!=2.1.6,>=2.0.1 in /usr/local/lib/python3.7/dist-packages (from matplotlib->catboost) (2.4.7)\n",
      "Requirement already satisfied: cycler>=0.10 in /usr/local/lib/python3.7/dist-packages (from matplotlib->catboost) (0.10.0)\n"
     ]
    }
   ],
   "source": [
    "!pip install catboost"
   ]
  },
  {
   "cell_type": "code",
   "execution_count": 3,
   "metadata": {
    "colab": {
     "base_uri": "https://localhost:8080/"
    },
    "id": "8BnIAHdCA_P7",
    "outputId": "50b0cddb-2c9f-4db0-c04c-519c3a87937f"
   },
   "outputs": [
    {
     "name": "stdout",
     "output_type": "stream",
     "text": [
      "Requirement already satisfied: transformers in /usr/local/lib/python3.7/dist-packages (4.6.1)\n",
      "Requirement already satisfied: tokenizers<0.11,>=0.10.1 in /usr/local/lib/python3.7/dist-packages (from transformers) (0.10.3)\n",
      "Requirement already satisfied: regex!=2019.12.17 in /usr/local/lib/python3.7/dist-packages (from transformers) (2019.12.20)\n",
      "Requirement already satisfied: tqdm>=4.27 in /usr/local/lib/python3.7/dist-packages (from transformers) (4.41.1)\n",
      "Requirement already satisfied: sacremoses in /usr/local/lib/python3.7/dist-packages (from transformers) (0.0.45)\n",
      "Requirement already satisfied: filelock in /usr/local/lib/python3.7/dist-packages (from transformers) (3.0.12)\n",
      "Requirement already satisfied: huggingface-hub==0.0.8 in /usr/local/lib/python3.7/dist-packages (from transformers) (0.0.8)\n",
      "Requirement already satisfied: numpy>=1.17 in /usr/local/lib/python3.7/dist-packages (from transformers) (1.19.5)\n",
      "Requirement already satisfied: requests in /usr/local/lib/python3.7/dist-packages (from transformers) (2.23.0)\n",
      "Requirement already satisfied: importlib-metadata; python_version < \"3.8\" in /usr/local/lib/python3.7/dist-packages (from transformers) (4.0.1)\n",
      "Requirement already satisfied: packaging in /usr/local/lib/python3.7/dist-packages (from transformers) (20.9)\n",
      "Requirement already satisfied: six in /usr/local/lib/python3.7/dist-packages (from sacremoses->transformers) (1.15.0)\n",
      "Requirement already satisfied: joblib in /usr/local/lib/python3.7/dist-packages (from sacremoses->transformers) (1.0.1)\n",
      "Requirement already satisfied: click in /usr/local/lib/python3.7/dist-packages (from sacremoses->transformers) (7.1.2)\n",
      "Requirement already satisfied: chardet<4,>=3.0.2 in /usr/local/lib/python3.7/dist-packages (from requests->transformers) (3.0.4)\n",
      "Requirement already satisfied: certifi>=2017.4.17 in /usr/local/lib/python3.7/dist-packages (from requests->transformers) (2020.12.5)\n",
      "Requirement already satisfied: urllib3!=1.25.0,!=1.25.1,<1.26,>=1.21.1 in /usr/local/lib/python3.7/dist-packages (from requests->transformers) (1.24.3)\n",
      "Requirement already satisfied: idna<3,>=2.5 in /usr/local/lib/python3.7/dist-packages (from requests->transformers) (2.10)\n",
      "Requirement already satisfied: zipp>=0.5 in /usr/local/lib/python3.7/dist-packages (from importlib-metadata; python_version < \"3.8\"->transformers) (3.4.1)\n",
      "Requirement already satisfied: typing-extensions>=3.6.4; python_version < \"3.8\" in /usr/local/lib/python3.7/dist-packages (from importlib-metadata; python_version < \"3.8\"->transformers) (3.7.4.3)\n",
      "Requirement already satisfied: pyparsing>=2.0.2 in /usr/local/lib/python3.7/dist-packages (from packaging->transformers) (2.4.7)\n"
     ]
    }
   ],
   "source": [
    "!pip install transformers"
   ]
  },
  {
   "cell_type": "code",
   "execution_count": 4,
   "metadata": {
    "id": "VZA8aOtNlTYz"
   },
   "outputs": [],
   "source": [
    "import numpy as np\n",
    "import pandas as pd\n",
    "import re\n",
    "import nltk\n",
    "from nltk.stem import WordNetLemmatizer\n",
    "from nltk.corpus import stopwords as nltk_stopwords\n",
    "from nltk.corpus import wordnet\n",
    "from sklearn.feature_extraction.text import TfidfVectorizer\n",
    "from sklearn.linear_model import LogisticRegression\n",
    "from sklearn.tree import DecisionTreeClassifier\n",
    "from sklearn.ensemble import RandomForestClassifier\n",
    "from sklearn.model_selection import train_test_split\n",
    "from sklearn.metrics import f1_score\n",
    "import spacy\n",
    "from catboost import CatBoostClassifier\n",
    "from sklearn.metrics import confusion_matrix\n",
    "import seaborn as sn\n",
    "import matplotlib.pyplot as plt\n",
    "import torch\n",
    "import transformers as ppb\n",
    "from tqdm import notebook\n",
    "from sklearn.model_selection import cross_val_score\n",
    "from sklearn.model_selection import GridSearchCV\n",
    "import warnings\n",
    "warnings.filterwarnings(\"ignore\")"
   ]
  },
  {
   "cell_type": "markdown",
   "metadata": {
    "id": "MM18oy-345Fh"
   },
   "source": [
    "## Изучение данных"
   ]
  },
  {
   "cell_type": "markdown",
   "metadata": {
    "id": "LX1JE_m42Hnb"
   },
   "source": [
    "Прочитаем данные из файла, сохраним их в *data* и посмотрим на них."
   ]
  },
  {
   "cell_type": "code",
   "execution_count": 5,
   "metadata": {
    "colab": {
     "base_uri": "https://localhost:8080/",
     "height": 202
    },
    "id": "EFQ8YA4_lrGM",
    "outputId": "9ec05db0-b8fe-4479-d042-8f827cef9639"
   },
   "outputs": [
    {
     "data": {
      "text/html": [
       "<div>\n",
       "<style scoped>\n",
       "    .dataframe tbody tr th:only-of-type {\n",
       "        vertical-align: middle;\n",
       "    }\n",
       "\n",
       "    .dataframe tbody tr th {\n",
       "        vertical-align: top;\n",
       "    }\n",
       "\n",
       "    .dataframe thead th {\n",
       "        text-align: right;\n",
       "    }\n",
       "</style>\n",
       "<table border=\"1\" class=\"dataframe\">\n",
       "  <thead>\n",
       "    <tr style=\"text-align: right;\">\n",
       "      <th></th>\n",
       "      <th>text</th>\n",
       "      <th>toxic</th>\n",
       "    </tr>\n",
       "  </thead>\n",
       "  <tbody>\n",
       "    <tr>\n",
       "      <th>0</th>\n",
       "      <td>Explanation\\nWhy the edits made under my usern...</td>\n",
       "      <td>0</td>\n",
       "    </tr>\n",
       "    <tr>\n",
       "      <th>1</th>\n",
       "      <td>D'aww! He matches this background colour I'm s...</td>\n",
       "      <td>0</td>\n",
       "    </tr>\n",
       "    <tr>\n",
       "      <th>2</th>\n",
       "      <td>Hey man, I'm really not trying to edit war. It...</td>\n",
       "      <td>0</td>\n",
       "    </tr>\n",
       "    <tr>\n",
       "      <th>3</th>\n",
       "      <td>\"\\nMore\\nI can't make any real suggestions on ...</td>\n",
       "      <td>0</td>\n",
       "    </tr>\n",
       "    <tr>\n",
       "      <th>4</th>\n",
       "      <td>You, sir, are my hero. Any chance you remember...</td>\n",
       "      <td>0</td>\n",
       "    </tr>\n",
       "  </tbody>\n",
       "</table>\n",
       "</div>"
      ],
      "text/plain": [
       "                                                text  toxic\n",
       "0  Explanation\\nWhy the edits made under my usern...      0\n",
       "1  D'aww! He matches this background colour I'm s...      0\n",
       "2  Hey man, I'm really not trying to edit war. It...      0\n",
       "3  \"\\nMore\\nI can't make any real suggestions on ...      0\n",
       "4  You, sir, are my hero. Any chance you remember...      0"
      ]
     },
     "execution_count": 5,
     "metadata": {
      "tags": []
     },
     "output_type": "execute_result"
    }
   ],
   "source": [
    "data = pd.read_csv('/content/toxic_comments.csv') \n",
    "data.head()"
   ]
  },
  {
   "cell_type": "markdown",
   "metadata": {
    "id": "A4T3ZFbq2jkt"
   },
   "source": [
    "Перед нами размеченный датасет с сообщениями в первом столбце и определением позитивный или негативный комментарий во втором.\n",
    "\n",
    "Взглянем на долю негативных комментариев."
   ]
  },
  {
   "cell_type": "code",
   "execution_count": 6,
   "metadata": {
    "colab": {
     "base_uri": "https://localhost:8080/"
    },
    "id": "RKdHzm5bmL9A",
    "outputId": "d0661a4e-ffa6-4db4-880e-bac683685305"
   },
   "outputs": [
    {
     "data": {
      "text/plain": [
       "0.10167887648758234"
      ]
     },
     "execution_count": 6,
     "metadata": {
      "tags": []
     },
     "output_type": "execute_result"
    }
   ],
   "source": [
    "data['toxic'].mean()"
   ]
  },
  {
   "cell_type": "markdown",
   "metadata": {
    "id": "12dsxlJu3Z1V"
   },
   "source": [
    "Мы имеем 10% негативных комментариев и 90% позитивных."
   ]
  },
  {
   "cell_type": "markdown",
   "metadata": {
    "id": "4WV1lBjf3yNC"
   },
   "source": [
    "Проверим, есть ли в данных дубликаты."
   ]
  },
  {
   "cell_type": "code",
   "execution_count": 7,
   "metadata": {
    "colab": {
     "base_uri": "https://localhost:8080/"
    },
    "id": "79EYTeULmMov",
    "outputId": "ddc9b1a4-a7f4-4cc1-e982-20e2f213b6eb"
   },
   "outputs": [
    {
     "data": {
      "text/plain": [
       "0"
      ]
     },
     "execution_count": 7,
     "metadata": {
      "tags": []
     },
     "output_type": "execute_result"
    }
   ],
   "source": [
    "data.duplicated().sum()"
   ]
  },
  {
   "cell_type": "code",
   "execution_count": 8,
   "metadata": {
    "colab": {
     "base_uri": "https://localhost:8080/"
    },
    "id": "vkwBLCPST0Zx",
    "outputId": "e9a64205-1c3e-4f74-c745-390b7b773b1f"
   },
   "outputs": [
    {
     "data": {
      "text/plain": [
       "(159571, 2)"
      ]
     },
     "execution_count": 8,
     "metadata": {
      "tags": []
     },
     "output_type": "execute_result"
    }
   ],
   "source": [
    "data.shape"
   ]
  },
  {
   "cell_type": "markdown",
   "metadata": {
    "id": "c5zZpTA-3r2m"
   },
   "source": [
    "Дубликатов не найдено. \n",
    "\n",
    "Поскольку данных слишком много, сократим их, взяв сто тысяч твитов."
   ]
  },
  {
   "cell_type": "code",
   "execution_count": 9,
   "metadata": {
    "id": "a7eyFMCrTx6J"
   },
   "outputs": [],
   "source": [
    "data = data.sample(n=100000, random_state=42).reset_index(drop=True)"
   ]
  },
  {
   "cell_type": "markdown",
   "metadata": {},
   "source": [
    "Проверим соотношение меток в целевом признаке после того, как убрали часть данных."
   ]
  },
  {
   "cell_type": "code",
   "execution_count": 10,
   "metadata": {
    "colab": {
     "base_uri": "https://localhost:8080/"
    },
    "id": "N0cXr1HNUS-V",
    "outputId": "f3d1bb7b-611b-458f-a99a-b44a8291bd55"
   },
   "outputs": [
    {
     "data": {
      "text/plain": [
       "0.1012"
      ]
     },
     "execution_count": 10,
     "metadata": {
      "tags": []
     },
     "output_type": "execute_result"
    }
   ],
   "source": [
    "data['toxic'].mean()"
   ]
  },
  {
   "cell_type": "markdown",
   "metadata": {
    "id": "c5zZpTA-3r2m"
   },
   "source": [
    "Соотношение в 10% сохраняется.\n",
    "\n",
    "Посмотрим на первое сообщение."
   ]
  },
  {
   "cell_type": "code",
   "execution_count": 11,
   "metadata": {
    "colab": {
     "base_uri": "https://localhost:8080/",
     "height": 68
    },
    "id": "rBwBTKWKmO2n",
    "outputId": "af5fe867-222e-4385-aa71-a0a4d686dc8c"
   },
   "outputs": [
    {
     "data": {
      "application/vnd.google.colaboratory.intrinsic+json": {
       "type": "string"
      },
      "text/plain": [
       "\"Geez, are you forgetful!  We've already discussed why Marx  was  not an anarchist, i.e. he wanted to use a State to mold his 'socialist man.'  Ergo, he is a statist - the opposite of an  anarchist.  I know a guy who says that, when he gets old and his teeth fall out, he'll quit eating meat.  Would you call him a vegetarian?\""
      ]
     },
     "execution_count": 11,
     "metadata": {
      "tags": []
     },
     "output_type": "execute_result"
    }
   ],
   "source": [
    " data['text'][0]"
   ]
  },
  {
   "cell_type": "markdown",
   "metadata": {
    "id": "3sQmUKQ34FIP"
   },
   "source": [
    "Помимо текста на английском в сообщениях также встречаются и цифры."
   ]
  },
  {
   "cell_type": "markdown",
   "metadata": {
    "id": "Pn-VZFlx4fe0"
   },
   "source": [
    "С данными всё в порядке. Подготовим данные для моделей. Первым делом проведём лемматизацию объектов. Для этого сначала инициализируем модель **spacy** с английским языком, необходимую для лемматизации. "
   ]
  },
  {
   "cell_type": "code",
   "execution_count": 12,
   "metadata": {
    "id": "XJgBo_VwmaCB"
   },
   "outputs": [],
   "source": [
    "nlp = spacy.load('en_core_web_sm')"
   ]
  },
  {
   "cell_type": "markdown",
   "metadata": {
    "id": "VlGrp0CR6Bvo"
   },
   "source": [
    "Лемматизируем текст и сохраним его в новую колонку, чтобы не потерять."
   ]
  },
  {
   "cell_type": "code",
   "execution_count": 13,
   "metadata": {
    "id": "Pu02b9swstEe"
   },
   "outputs": [],
   "source": [
    "data['new_text'] = data['text'].apply(lambda x: \" \".join([token.lemma_ for token in nlp(x)]))"
   ]
  },
  {
   "cell_type": "markdown",
   "metadata": {
    "id": "jW3RMoT16dgf"
   },
   "source": [
    "Взглянем на первые объект датасета после лемматизации."
   ]
  },
  {
   "cell_type": "code",
   "execution_count": 14,
   "metadata": {
    "colab": {
     "base_uri": "https://localhost:8080/"
    },
    "id": "ijqgK7SZs-Qf",
    "outputId": "d18fa602-8357-4a65-c31b-b03ea9fb476d"
   },
   "outputs": [
    {
     "data": {
      "text/plain": [
       "0        Geez , be -PRON- forgetful !   -PRON- have alr...\n",
       "1        Carioca rfa \\n\\n thank for -PRON- support on -...\n",
       "2        \" \\n\\n  birthday \\n\\n no worry , -PRON- be wha...\n",
       "3        pseudoscience category ? \\n\\n -PRON- be assume...\n",
       "4        ( and if such phrase exist , -PRON- would be p...\n",
       "                               ...                        \n",
       "99995    Absolute Nonsense \\n this article be nothing b...\n",
       "99996    please reactivate user name \\n\\n greeting , \\n...\n",
       "99997                  what \\n\\n why do -PRON- do that ! !\n",
       "99998    so -PRON- would be too difficult for -PRON- to...\n",
       "99999    \" \\n\\n just a clarification : some form of rel...\n",
       "Name: new_text, Length: 100000, dtype: object"
      ]
     },
     "execution_count": 14,
     "metadata": {
      "tags": []
     },
     "output_type": "execute_result"
    }
   ],
   "source": [
    "data['new_text']"
   ]
  },
  {
   "cell_type": "markdown",
   "metadata": {
    "id": "d36SOigj6os3"
   },
   "source": [
    "Мы видим, что слова приведены к словарной форме вполне корректно. Так *`are you`* превратилась в *`be -PRON-`*. Также у нас остались все знаки препинания и цифры, которые ничего не могут сказать о тональности комментариев, поэтому мы почистим тексты удалив эти объекты."
   ]
  },
  {
   "cell_type": "code",
   "execution_count": 15,
   "metadata": {
    "id": "ff4EEEnd3z_8"
   },
   "outputs": [],
   "source": [
    "data['clear'] = data['new_text'].apply(lambda x: \" \".join(re.sub(r'[^a-zA-Z ]', ' ', x).split()))"
   ]
  },
  {
   "cell_type": "markdown",
   "metadata": {
    "id": "osvFAeRx79Jj"
   },
   "source": [
    "Взглянем на результат чистки на примере первого сообщения."
   ]
  },
  {
   "cell_type": "code",
   "execution_count": 16,
   "metadata": {
    "colab": {
     "base_uri": "https://localhost:8080/"
    },
    "id": "FKa9FnEr_1ZG",
    "outputId": "9c9dcb9a-e06a-4601-e4b6-af8504150a2b"
   },
   "outputs": [
    {
     "data": {
      "text/plain": [
       "0        Geez be PRON forgetful PRON have already discu...\n",
       "1        Carioca rfa thank for PRON support on PRON req...\n",
       "2        birthday no worry PRON be what PRON do enjoy u...\n",
       "3        pseudoscience category PRON be assume that thi...\n",
       "4        and if such phrase exist PRON would be provide...\n",
       "                               ...                        \n",
       "99995    Absolute Nonsense this article be nothing but ...\n",
       "99996    please reactivate user name greeting PRON be a...\n",
       "99997                             what why do PRON do that\n",
       "99998    so PRON would be too difficult for PRON to wri...\n",
       "99999    just a clarification some form of religion be ...\n",
       "Name: clear, Length: 100000, dtype: object"
      ]
     },
     "execution_count": 16,
     "metadata": {
      "tags": []
     },
     "output_type": "execute_result"
    }
   ],
   "source": [
    "data['clear']"
   ]
  },
  {
   "cell_type": "markdown",
   "metadata": {
    "id": "Zq_2a5qR8WnH"
   },
   "source": [
    "Теперь мы можем удалить промежуточный столбец из таблицы."
   ]
  },
  {
   "cell_type": "code",
   "execution_count": 17,
   "metadata": {
    "id": "NE1wqHAj4OuM"
   },
   "outputs": [],
   "source": [
    "data = data.drop(['new_text'], axis=1)"
   ]
  },
  {
   "cell_type": "code",
   "execution_count": 18,
   "metadata": {
    "colab": {
     "base_uri": "https://localhost:8080/",
     "height": 202
    },
    "id": "4vAbLs_54e8X",
    "outputId": "3465e31a-1d4b-4538-d231-872fe1ceb4f9"
   },
   "outputs": [
    {
     "data": {
      "text/html": [
       "<div>\n",
       "<style scoped>\n",
       "    .dataframe tbody tr th:only-of-type {\n",
       "        vertical-align: middle;\n",
       "    }\n",
       "\n",
       "    .dataframe tbody tr th {\n",
       "        vertical-align: top;\n",
       "    }\n",
       "\n",
       "    .dataframe thead th {\n",
       "        text-align: right;\n",
       "    }\n",
       "</style>\n",
       "<table border=\"1\" class=\"dataframe\">\n",
       "  <thead>\n",
       "    <tr style=\"text-align: right;\">\n",
       "      <th></th>\n",
       "      <th>text</th>\n",
       "      <th>toxic</th>\n",
       "      <th>clear</th>\n",
       "    </tr>\n",
       "  </thead>\n",
       "  <tbody>\n",
       "    <tr>\n",
       "      <th>0</th>\n",
       "      <td>Geez, are you forgetful!  We've already discus...</td>\n",
       "      <td>0</td>\n",
       "      <td>Geez be PRON forgetful PRON have already discu...</td>\n",
       "    </tr>\n",
       "    <tr>\n",
       "      <th>1</th>\n",
       "      <td>Carioca RFA \\n\\nThanks for your support on my ...</td>\n",
       "      <td>0</td>\n",
       "      <td>Carioca rfa thank for PRON support on PRON req...</td>\n",
       "    </tr>\n",
       "    <tr>\n",
       "      <th>2</th>\n",
       "      <td>\"\\n\\n Birthday \\n\\nNo worries, It's what I do ...</td>\n",
       "      <td>0</td>\n",
       "      <td>birthday no worry PRON be what PRON do enjoy u...</td>\n",
       "    </tr>\n",
       "    <tr>\n",
       "      <th>3</th>\n",
       "      <td>Pseudoscience category? \\n\\nI'm assuming that ...</td>\n",
       "      <td>0</td>\n",
       "      <td>pseudoscience category PRON be assume that thi...</td>\n",
       "    </tr>\n",
       "    <tr>\n",
       "      <th>4</th>\n",
       "      <td>(and if such phrase exists, it would be provid...</td>\n",
       "      <td>0</td>\n",
       "      <td>and if such phrase exist PRON would be provide...</td>\n",
       "    </tr>\n",
       "  </tbody>\n",
       "</table>\n",
       "</div>"
      ],
      "text/plain": [
       "                                                text  ...                                              clear\n",
       "0  Geez, are you forgetful!  We've already discus...  ...  Geez be PRON forgetful PRON have already discu...\n",
       "1  Carioca RFA \\n\\nThanks for your support on my ...  ...  Carioca rfa thank for PRON support on PRON req...\n",
       "2  \"\\n\\n Birthday \\n\\nNo worries, It's what I do ...  ...  birthday no worry PRON be what PRON do enjoy u...\n",
       "3  Pseudoscience category? \\n\\nI'm assuming that ...  ...  pseudoscience category PRON be assume that thi...\n",
       "4  (and if such phrase exists, it would be provid...  ...  and if such phrase exist PRON would be provide...\n",
       "\n",
       "[5 rows x 3 columns]"
      ]
     },
     "execution_count": 18,
     "metadata": {
      "tags": []
     },
     "output_type": "execute_result"
    }
   ],
   "source": [
    "data.head()"
   ]
  },
  {
   "cell_type": "markdown",
   "metadata": {
    "id": "EDKjzXN48lnc"
   },
   "source": [
    "Взглянем, есть ли пропущенные значения в обновлённой таблице."
   ]
  },
  {
   "cell_type": "code",
   "execution_count": 19,
   "metadata": {
    "colab": {
     "base_uri": "https://localhost:8080/"
    },
    "id": "ZleIV7v5APX2",
    "outputId": "d4d6bcbd-b9ef-488e-fa4b-4206864e51b8"
   },
   "outputs": [
    {
     "data": {
      "text/plain": [
       "text     0\n",
       "toxic    0\n",
       "clear    0\n",
       "dtype: int64"
      ]
     },
     "execution_count": 19,
     "metadata": {
      "tags": []
     },
     "output_type": "execute_result"
    }
   ],
   "source": [
    "data.isna().sum()"
   ]
  },
  {
   "cell_type": "markdown",
   "metadata": {
    "id": "X-LJSDWH89BA"
   },
   "source": [
    "Пропусков не обнаружено.\n",
    "\n",
    "После подготовки текста, можем переходить к разделению нашей выборки на признаки и целевой признак. Признаком у нас будет служить подготовленный очищенный текст, а целевым признаком - *toxic*."
   ]
  },
  {
   "cell_type": "code",
   "execution_count": 20,
   "metadata": {
    "id": "w7KvGbcx_2pi"
   },
   "outputs": [],
   "source": [
    "features = data.drop(['text', 'toxic'], axis=1)\n",
    "target = data['toxic']"
   ]
  },
  {
   "cell_type": "markdown",
   "metadata": {
    "id": "r0bfevGH9uKK"
   },
   "source": [
    "Теперь поделим выборку на обучающую и тестовую, выделив для тесторования 25% всех данных."
   ]
  },
  {
   "cell_type": "code",
   "execution_count": 21,
   "metadata": {
    "id": "R6e8j95RAhHj"
   },
   "outputs": [],
   "source": [
    "features_train, features_test, target_train, target_test = train_test_split(features, \n",
    "                                                                            target, \n",
    "                                                                            test_size=0.25, \n",
    "                                                                            random_state=42)"
   ]
  },
  {
   "cell_type": "markdown",
   "metadata": {
    "id": "YQ6F8zK_99wD"
   },
   "source": [
    "Взглянем на размер выборок."
   ]
  },
  {
   "cell_type": "code",
   "execution_count": 22,
   "metadata": {
    "colab": {
     "base_uri": "https://localhost:8080/"
    },
    "id": "JzWNOkbJAtI-",
    "outputId": "7a124435-1880-4c53-fca8-b4060ba94741"
   },
   "outputs": [
    {
     "data": {
      "text/plain": [
       "((75000, 1), (25000, 1))"
      ]
     },
     "execution_count": 22,
     "metadata": {
      "tags": []
     },
     "output_type": "execute_result"
    }
   ],
   "source": [
    "features_train.shape,  features_test.shape"
   ]
  },
  {
   "cell_type": "markdown",
   "metadata": {
    "id": "tKGlCzS--EAc"
   },
   "source": [
    "У нас получилось почти 75 тысяч объектов для обучения и 25 тысяч для проверки. Проверим долю негативных комментариев на обучении и тесте."
   ]
  },
  {
   "cell_type": "code",
   "execution_count": 23,
   "metadata": {
    "colab": {
     "base_uri": "https://localhost:8080/"
    },
    "id": "na-2u32i-eLi",
    "outputId": "e5339e3d-75ca-4658-8f88-a8e883f567b7"
   },
   "outputs": [
    {
     "data": {
      "text/plain": [
       "(0.101, 0.1018)"
      ]
     },
     "execution_count": 23,
     "metadata": {
      "tags": []
     },
     "output_type": "execute_result"
    }
   ],
   "source": [
    "target_train.mean(), target_test.mean()"
   ]
  },
  {
   "cell_type": "markdown",
   "metadata": {
    "id": "X0p8B-a_-cfp"
   },
   "source": [
    "Доля в 10% сохраняется на обеих выборках."
   ]
  },
  {
   "cell_type": "markdown",
   "metadata": {
    "id": "uqVCLSl-_BVK"
   },
   "source": [
    "Определим корпуса для трейна и теста на которых будем обучать и трансформировать наши тексты, определяя частоту слов."
   ]
  },
  {
   "cell_type": "code",
   "execution_count": 24,
   "metadata": {
    "id": "GQgoceBVAvza"
   },
   "outputs": [],
   "source": [
    "corpus_train = features_train['clear'].values.astype('U')"
   ]
  },
  {
   "cell_type": "code",
   "execution_count": 25,
   "metadata": {
    "id": "VC5GlUcMAzJl"
   },
   "outputs": [],
   "source": [
    "corpus_test = features_test['clear'].values.astype('U')"
   ]
  },
  {
   "cell_type": "markdown",
   "metadata": {
    "id": "XGB0KXjBAlkb"
   },
   "source": [
    "Теперь определим векторизатор, указав ему стоп-слова."
   ]
  },
  {
   "cell_type": "code",
   "execution_count": 26,
   "metadata": {
    "colab": {
     "base_uri": "https://localhost:8080/"
    },
    "id": "52foZYEeA4N8",
    "outputId": "d0b6246c-e3df-473e-8e05-6aed460b6113"
   },
   "outputs": [
    {
     "name": "stdout",
     "output_type": "stream",
     "text": [
      "[nltk_data] Downloading package stopwords to /root/nltk_data...\n",
      "[nltk_data]   Package stopwords is already up-to-date!\n"
     ]
    }
   ],
   "source": [
    "nltk.download('stopwords')\n",
    "stopwords = set(nltk_stopwords.words('english'))\n",
    "count_tf_idf = TfidfVectorizer(stop_words=stopwords)"
   ]
  },
  {
   "cell_type": "markdown",
   "metadata": {
    "id": "B6ESayIlA7Ia"
   },
   "source": [
    "Наконец обучим и трансформируем тексты, определив две выборки, по которым мы и будем непосредственно обучать модели."
   ]
  },
  {
   "cell_type": "code",
   "execution_count": 27,
   "metadata": {
    "id": "3c9GD--GBHh9"
   },
   "outputs": [],
   "source": [
    "tf_idf = count_tf_idf.fit_transform(corpus_train)"
   ]
  },
  {
   "cell_type": "code",
   "execution_count": 28,
   "metadata": {
    "id": "IpauZezmBXew"
   },
   "outputs": [],
   "source": [
    "tf_idf_test = count_tf_idf.transform(corpus_test)"
   ]
  },
  {
   "cell_type": "markdown",
   "metadata": {
    "id": "b7VqNBRBBNYK"
   },
   "source": [
    "Посмотрим на размер полученных признаков."
   ]
  },
  {
   "cell_type": "code",
   "execution_count": 29,
   "metadata": {
    "colab": {
     "base_uri": "https://localhost:8080/"
    },
    "id": "GpoxwQixCWzo",
    "outputId": "03f4e534-f77e-4215-a564-cf51b9ee4fdc"
   },
   "outputs": [
    {
     "data": {
      "text/plain": [
       "((75000, 100225), (25000, 100225))"
      ]
     },
     "execution_count": 29,
     "metadata": {
      "tags": []
     },
     "output_type": "execute_result"
    }
   ],
   "source": [
    "tf_idf.shape, tf_idf_test.shape"
   ]
  },
  {
   "cell_type": "markdown",
   "metadata": {
    "id": "-pnU6lJrBV59"
   },
   "source": [
    "Теперь количество признаков увеличилось с одного до 100 тысяч."
   ]
  },
  {
   "cell_type": "markdown",
   "metadata": {
    "id": "0cWjYUT6C_8P"
   },
   "source": [
    "## Обучение моделей"
   ]
  },
  {
   "cell_type": "markdown",
   "metadata": {
    "id": "HNoq54V-CywA"
   },
   "source": [
    "Пришло время обучать модели и предсказывать целевой признак. Начнём с *логистической регрессии*. Поскольку у нас выборка не сбалансирована, укажем параметр *`class weight - balanced`*."
   ]
  },
  {
   "cell_type": "code",
   "execution_count": 30,
   "metadata": {
    "id": "mXfWh9cbBwsl"
   },
   "outputs": [],
   "source": [
    "model_lr = LogisticRegression(random_state=42, class_weight='balanced')"
   ]
  },
  {
   "cell_type": "markdown",
   "metadata": {
    "id": "BxxEUV95DQGO"
   },
   "source": [
    "Обучим модель указав в качестве призаков переменную *tf_idf*."
   ]
  },
  {
   "cell_type": "code",
   "execution_count": 31,
   "metadata": {
    "colab": {
     "base_uri": "https://localhost:8080/"
    },
    "id": "eGlCQfS0CBqa",
    "outputId": "b838d484-fc94-4b30-a559-253c0cb31b76"
   },
   "outputs": [
    {
     "data": {
      "text/plain": [
       "LogisticRegression(C=1.0, class_weight='balanced', dual=False,\n",
       "                   fit_intercept=True, intercept_scaling=1, l1_ratio=None,\n",
       "                   max_iter=100, multi_class='auto', n_jobs=None, penalty='l2',\n",
       "                   random_state=42, solver='lbfgs', tol=0.0001, verbose=0,\n",
       "                   warm_start=False)"
      ]
     },
     "execution_count": 31,
     "metadata": {
      "tags": []
     },
     "output_type": "execute_result"
    }
   ],
   "source": [
    "model_lr.fit(tf_idf, target_train)"
   ]
  },
  {
   "cell_type": "markdown",
   "metadata": {
    "id": "afgvL5ZBEJCA"
   },
   "source": [
    "Выполним предсказание на обучающей выборке и посчитаем f1, как меру качества модели."
   ]
  },
  {
   "cell_type": "code",
   "execution_count": 32,
   "metadata": {
    "id": "HSiyDmgSCr-K"
   },
   "outputs": [],
   "source": [
    "pred_lr = model_lr.predict(tf_idf)"
   ]
  },
  {
   "cell_type": "code",
   "execution_count": 33,
   "metadata": {
    "colab": {
     "base_uri": "https://localhost:8080/"
    },
    "id": "qasjXTIQDKb8",
    "outputId": "5d71ee24-8cc9-4cae-a69a-49087f3b672d"
   },
   "outputs": [
    {
     "data": {
      "text/plain": [
       "0.8367637835680484"
      ]
     },
     "execution_count": 33,
     "metadata": {
      "tags": []
     },
     "output_type": "execute_result"
    }
   ],
   "source": [
    "f1_lr = f1_score(target_train, pred_lr)\n",
    "f1_lr"
   ]
  },
  {
   "cell_type": "markdown",
   "metadata": {
    "id": "PlZVPTKVEYCs"
   },
   "source": [
    "*Логистическая регрессия* показала хороший результат - 84%.\n",
    "\n",
    "Теперь определим и обучим модель *дерева решений*."
   ]
  },
  {
   "cell_type": "code",
   "execution_count": 34,
   "metadata": {
    "id": "7M0evwWKjgtU"
   },
   "outputs": [],
   "source": [
    "model_dtc = DecisionTreeClassifier(max_depth=100, random_state=42, min_samples_leaf=5, class_weight='balanced')"
   ]
  },
  {
   "cell_type": "code",
   "execution_count": 35,
   "metadata": {
    "colab": {
     "base_uri": "https://localhost:8080/"
    },
    "id": "-JtQm_xij7X9",
    "outputId": "725490e3-f7d0-4812-caac-8098fc1e83c9"
   },
   "outputs": [
    {
     "data": {
      "text/plain": [
       "DecisionTreeClassifier(ccp_alpha=0.0, class_weight='balanced', criterion='gini',\n",
       "                       max_depth=100, max_features=None, max_leaf_nodes=None,\n",
       "                       min_impurity_decrease=0.0, min_impurity_split=None,\n",
       "                       min_samples_leaf=5, min_samples_split=2,\n",
       "                       min_weight_fraction_leaf=0.0, presort='deprecated',\n",
       "                       random_state=42, splitter='best')"
      ]
     },
     "execution_count": 35,
     "metadata": {
      "tags": []
     },
     "output_type": "execute_result"
    }
   ],
   "source": [
    "model_dtc.fit(tf_idf, target_train)"
   ]
  },
  {
   "cell_type": "markdown",
   "metadata": {
    "id": "58WglN8uFB5L"
   },
   "source": [
    "Теперь предскажем и подсчитаем f1 для *дерева*."
   ]
  },
  {
   "cell_type": "code",
   "execution_count": 36,
   "metadata": {
    "id": "rmUyiIfGkNL0"
   },
   "outputs": [],
   "source": [
    "pred_dtc = model_dtc.predict(tf_idf)"
   ]
  },
  {
   "cell_type": "code",
   "execution_count": 37,
   "metadata": {
    "colab": {
     "base_uri": "https://localhost:8080/"
    },
    "id": "r8AldfeVkc3S",
    "outputId": "269349e4-7745-43fb-f33e-6fdf4399152e"
   },
   "outputs": [
    {
     "data": {
      "text/plain": [
       "0.7521564749189605"
      ]
     },
     "execution_count": 37,
     "metadata": {
      "tags": []
     },
     "output_type": "execute_result"
    }
   ],
   "source": [
    "f1_dtc = f1_score(target_train, pred_dtc)\n",
    "f1_dtc"
   ]
  },
  {
   "cell_type": "markdown",
   "metadata": {
    "id": "HNVtE8yVFQOm"
   },
   "source": [
    "Эта модель справилась чуть хуже предыдущей, её качество предсказаний составило 75%.\n",
    "\n",
    "Теперь возьмём модель *случайного леса*."
   ]
  },
  {
   "cell_type": "code",
   "execution_count": 38,
   "metadata": {
    "id": "Hq-5DBMOlqaR"
   },
   "outputs": [],
   "source": [
    "model_rfc = RandomForestClassifier(max_depth=100, random_state=42, min_samples_leaf=5, n_estimators=100, class_weight='balanced')"
   ]
  },
  {
   "cell_type": "code",
   "execution_count": 39,
   "metadata": {
    "colab": {
     "base_uri": "https://localhost:8080/"
    },
    "id": "A22K9T2fk3WJ",
    "outputId": "dfee2724-de7b-4079-e249-278f98d78f06"
   },
   "outputs": [
    {
     "data": {
      "text/plain": [
       "RandomForestClassifier(bootstrap=True, ccp_alpha=0.0, class_weight='balanced',\n",
       "                       criterion='gini', max_depth=100, max_features='auto',\n",
       "                       max_leaf_nodes=None, max_samples=None,\n",
       "                       min_impurity_decrease=0.0, min_impurity_split=None,\n",
       "                       min_samples_leaf=5, min_samples_split=2,\n",
       "                       min_weight_fraction_leaf=0.0, n_estimators=100,\n",
       "                       n_jobs=None, oob_score=False, random_state=42, verbose=0,\n",
       "                       warm_start=False)"
      ]
     },
     "execution_count": 39,
     "metadata": {
      "tags": []
     },
     "output_type": "execute_result"
    }
   ],
   "source": [
    "model_rfc.fit(tf_idf, target_train)"
   ]
  },
  {
   "cell_type": "code",
   "execution_count": 40,
   "metadata": {
    "id": "tH4DUEfOl8ZV"
   },
   "outputs": [],
   "source": [
    "pred_rfc = model_rfc.predict(tf_idf)"
   ]
  },
  {
   "cell_type": "code",
   "execution_count": 41,
   "metadata": {
    "colab": {
     "base_uri": "https://localhost:8080/"
    },
    "id": "UuLCWeComAm4",
    "outputId": "bbdcb166-e7a8-4be3-bf5d-53c4cba78651"
   },
   "outputs": [
    {
     "data": {
      "text/plain": [
       "0.5955001547098085"
      ]
     },
     "execution_count": 41,
     "metadata": {
      "tags": []
     },
     "output_type": "execute_result"
    }
   ],
   "source": [
    "f1_rfc = f1_score(target_train, pred_rfc)\n",
    "f1_rfc"
   ]
  },
  {
   "cell_type": "markdown",
   "metadata": {
    "id": "8sSJI_2eFnGH"
   },
   "source": [
    "*Случайный лес* показал худший результат - 59%."
   ]
  },
  {
   "cell_type": "markdown",
   "metadata": {
    "id": "_0GI-zm-F2AN"
   },
   "source": [
    "Возьмём модель *CatBoost*. У этой модели есть встроенный инструмент обработки текстовых признаков, поэтому в качестве признака, на котором модель будет обучаться выберем лемматизированный текст, указав его как текстовый признак."
   ]
  },
  {
   "cell_type": "code",
   "execution_count": 42,
   "metadata": {
    "id": "zIToFrwGZxl0"
   },
   "outputs": [],
   "source": [
    "text_features = ['clear']"
   ]
  },
  {
   "cell_type": "markdown",
   "metadata": {
    "id": "qRQf4pB4Gk4s"
   },
   "source": [
    "Обучать будем, указав в качестве параметров *learning rate* 1 и метрику качества F1."
   ]
  },
  {
   "cell_type": "code",
   "execution_count": 43,
   "metadata": {
    "id": "rt3JOt_lMa_J"
   },
   "outputs": [],
   "source": [
    "model_cb = CatBoostClassifier(random_state=42, verbose=100, learning_rate=1, eval_metric='F1')"
   ]
  },
  {
   "cell_type": "code",
   "execution_count": 44,
   "metadata": {
    "colab": {
     "base_uri": "https://localhost:8080/"
    },
    "id": "SZzGtHGiMyfy",
    "outputId": "66f8e516-28a7-4c2c-89a4-140405c48d4b"
   },
   "outputs": [
    {
     "name": "stdout",
     "output_type": "stream",
     "text": [
      "0:\tlearn: 0.6775636\ttotal: 353ms\tremaining: 5m 52s\n",
      "100:\tlearn: 0.8326168\ttotal: 30.2s\tremaining: 4m 28s\n",
      "200:\tlearn: 0.8771930\ttotal: 59s\tremaining: 3m 54s\n",
      "300:\tlearn: 0.9073394\ttotal: 1m 27s\tremaining: 3m 23s\n",
      "400:\tlearn: 0.9297801\ttotal: 1m 56s\tremaining: 2m 54s\n",
      "500:\tlearn: 0.9468966\ttotal: 2m 26s\tremaining: 2m 25s\n",
      "600:\tlearn: 0.9604047\ttotal: 2m 55s\tremaining: 1m 56s\n",
      "700:\tlearn: 0.9693466\ttotal: 3m 24s\tremaining: 1m 27s\n",
      "800:\tlearn: 0.9753582\ttotal: 3m 53s\tremaining: 57.9s\n",
      "900:\tlearn: 0.9802324\ttotal: 4m 21s\tremaining: 28.8s\n",
      "999:\tlearn: 0.9838753\ttotal: 4m 49s\tremaining: 0us\n"
     ]
    },
    {
     "data": {
      "text/plain": [
       "<catboost.core.CatBoostClassifier at 0x7f0eb02e9510>"
      ]
     },
     "execution_count": 44,
     "metadata": {
      "tags": []
     },
     "output_type": "execute_result"
    }
   ],
   "source": [
    "model_cb.fit(features_train, target_train, text_features=text_features)"
   ]
  },
  {
   "cell_type": "markdown",
   "metadata": {
    "id": "H18zL4nQG1Md"
   },
   "source": [
    "Предскажем целевой признак и посмотрим на точность модели."
   ]
  },
  {
   "cell_type": "code",
   "execution_count": 45,
   "metadata": {
    "id": "fbyga8JDIyme"
   },
   "outputs": [],
   "source": [
    "pred_cb = model_cb.predict(features_train)"
   ]
  },
  {
   "cell_type": "code",
   "execution_count": 46,
   "metadata": {
    "colab": {
     "base_uri": "https://localhost:8080/"
    },
    "id": "q9rbqkYzJJA-",
    "outputId": "327a2f2a-44c7-4a9c-8201-2933c3860bf3"
   },
   "outputs": [
    {
     "data": {
      "text/plain": [
       "0.9596811690468283"
      ]
     },
     "execution_count": 46,
     "metadata": {
      "tags": []
     },
     "output_type": "execute_result"
    }
   ],
   "source": [
    "f1_cb = f1_score(target_train, pred_cb)\n",
    "f1_cb"
   ]
  },
  {
   "cell_type": "markdown",
   "metadata": {
    "id": "hHBOD1zcG7n8"
   },
   "source": [
    "*CatBoost* выдал точность в 95%."
   ]
  },
  {
   "cell_type": "markdown",
   "metadata": {
    "id": "7sDZmR83HEOQ"
   },
   "source": [
    "Сравним полученные результаты."
   ]
  },
  {
   "cell_type": "code",
   "execution_count": 47,
   "metadata": {
    "colab": {
     "base_uri": "https://localhost:8080/",
     "height": 372
    },
    "id": "0cjSJRoS38C2",
    "outputId": "a7f85551-2c73-4463-d661-6e512ca3cbfb"
   },
   "outputs": [
    {
     "data": {
      "image/png": "[encoded data removed]",
      "text/plain": [
       "<Figure size 576x432 with 1 Axes>"
      ]
     },
     "metadata": {
      "needs_background": "light",
      "tags": []
     },
     "output_type": "display_data"
    }
   ],
   "source": [
    "f1_all = pd.DataFrame({'f1_lr': [f1_lr],\n",
    "                         'f1_dtc': [f1_dtc],\n",
    "                         'f1_rfc': [f1_rfc],\n",
    "                         'f1_cb': [f1_cb]\n",
    "                        })\n",
    "f1_all.plot(kind='bar', grid=True, figsize=(8,6), alpha=0.7);"
   ]
  },
  {
   "cell_type": "markdown",
   "metadata": {
    "id": "KBTHAMF0HL0-"
   },
   "source": [
    "Из всех моделей наилучшая точность предсказаний оказалась у *CatBoost* - 95%. Второй результат по точности оказался у *логистической регрессии*, её F1-мера составила 84%. Далее расположилась модель *дерева решений*, её точность составила 75%. Модель *случайного леса* хуже всех определяет тональность текстов, её точность 59%."
   ]
  },
  {
   "cell_type": "markdown",
   "metadata": {
    "id": "dtZgkbfgIyDu"
   },
   "source": [
    "Теперь проверим, как хорошо предсказывают наши модели на тестовых данных. Напомню, что нам нужно достичь точность в 75%. Начнём с *логистической регрессии*."
   ]
  },
  {
   "cell_type": "code",
   "execution_count": 48,
   "metadata": {
    "colab": {
     "base_uri": "https://localhost:8080/"
    },
    "id": "fNYmBRvl52aU",
    "outputId": "f325eb69-369d-42a4-cc0e-4bd2b145124b"
   },
   "outputs": [
    {
     "data": {
      "text/plain": [
       "0.738809809638141"
      ]
     },
     "execution_count": 48,
     "metadata": {
      "tags": []
     },
     "output_type": "execute_result"
    }
   ],
   "source": [
    "predicted_lr = model_lr.predict(tf_idf_test)\n",
    "f1_lr_test = f1_score(target_test, predicted_lr)\n",
    "f1_lr_test"
   ]
  },
  {
   "cell_type": "markdown",
   "metadata": {
    "id": "lL-Xd8ZEJB-y"
   },
   "source": [
    "Точность *логистической регрессии* на тесте равна 74%. Посмотрим на матрицу ошибок предсказаний данной модели."
   ]
  },
  {
   "cell_type": "code",
   "execution_count": 49,
   "metadata": {
    "colab": {
     "base_uri": "https://localhost:8080/",
     "height": 404
    },
    "id": "HldhBqXEnke_",
    "outputId": "e79e8efb-4446-423b-a4a0-b5b3b1b13547"
   },
   "outputs": [
    {
     "data": {
      "image/png": "[encoded data removed]",
      "text/plain": [
       "<Figure size 576x432 with 2 Axes>"
      ]
     },
     "metadata": {
      "needs_background": "light",
      "tags": []
     },
     "output_type": "display_data"
    }
   ],
   "source": [
    "conf_matr_lr = confusion_matrix(target_test, predicted_lr)\n",
    "plt.figure(figsize=(8,6))\n",
    "sn.heatmap(conf_matr_lr, linecolor='grey', linewidths=.5, annot=True, fmt='d')\n",
    "plt.xlabel('Predicted')\n",
    "plt.ylabel('Target')\n",
    "plt.title('Матрица ошибок лигостической регрессии')\n",
    "plt.show()"
   ]
  },
  {
   "cell_type": "markdown",
   "metadata": {
    "id": "3_jwHjvkJvUV"
   },
   "source": [
    "Общее число правильно предсказанных результатов равно 23,5 тыс. Ошиблась модель в 1523 случаях. Больше всего ошибок в определении позитивных комментариев - 1132. Однако, если учесть, что негативных было всего 10% от общего числа и общее их число около 2,5 тысяч, то процент правильно предсказанных токсичных комментариев - 94%."
   ]
  },
  {
   "cell_type": "markdown",
   "metadata": {
    "id": "feuMmUSkN3cL"
   },
   "source": [
    "Теперь предскажем целевой признак и посчитаем точность этих предсказаний модели *дерева решений*."
   ]
  },
  {
   "cell_type": "code",
   "execution_count": 50,
   "metadata": {
    "colab": {
     "base_uri": "https://localhost:8080/"
    },
    "id": "4MKGbdLJ8VRE",
    "outputId": "b7c4d283-e20e-437f-c8bc-3b71af56477b"
   },
   "outputs": [
    {
     "data": {
      "text/plain": [
       "0.5993844160051839"
      ]
     },
     "execution_count": 50,
     "metadata": {
      "tags": []
     },
     "output_type": "execute_result"
    }
   ],
   "source": [
    "predicted_dtc = model_dtc.predict(tf_idf_test)\n",
    "f1_dtc_test = f1_score(target_test, predicted_dtc)\n",
    "f1_dtc_test"
   ]
  },
  {
   "cell_type": "markdown",
   "metadata": {
    "id": "tFccjJU_OMqz"
   },
   "source": [
    "Её точность составила 60%, и эта модель не справилась с поставленной задачей. Посмотрим на её матрицу ошибок."
   ]
  },
  {
   "cell_type": "code",
   "execution_count": 51,
   "metadata": {
    "colab": {
     "base_uri": "https://localhost:8080/",
     "height": 404
    },
    "id": "azXRP-YT8jQG",
    "outputId": "021db31c-0fdf-4097-a424-dee25fb7341e"
   },
   "outputs": [
    {
     "data": {
      "image/png": "[encoded data removed]",
      "text/plain": [
       "<Figure size 576x432 with 2 Axes>"
      ]
     },
     "metadata": {
      "needs_background": "light",
      "tags": []
     },
     "output_type": "display_data"
    }
   ],
   "source": [
    "conf_matr_dtc = confusion_matrix(target_test, predicted_dtc)\n",
    "plt.figure(figsize=(8,6))\n",
    "sn.heatmap(conf_matr_dtc, linecolor='grey', linewidths=.5, annot=True, fmt='d')\n",
    "plt.xlabel('Predicted')\n",
    "plt.ylabel('Target')\n",
    "plt.title('Матрица ошибок дерева решений')\n",
    "plt.show()"
   ]
  },
  {
   "cell_type": "markdown",
   "metadata": {
    "id": "TY6YapHLOqrJ"
   },
   "source": [
    "Как мы видим точность как негативных, так и позитивных комментариев здесь заметно хуже предыдущей модели. Общее количество ошибок составляет 2473. Среди негативных комментариев правильно предсказано лишь 2/3 из всех. Чуть больше половины всех негативно размеченных моделью сообщений оказались правильно размеченными."
   ]
  },
  {
   "cell_type": "markdown",
   "metadata": {
    "id": "YLz6aPGlQRZ2"
   },
   "source": [
    "Взгялнем на модель *случайного леса*"
   ]
  },
  {
   "cell_type": "code",
   "execution_count": 52,
   "metadata": {
    "colab": {
     "base_uri": "https://localhost:8080/"
    },
    "id": "sTNp4P0z82EC",
    "outputId": "23638125-5ebf-485f-dcb5-63c1d6a1e53f"
   },
   "outputs": [
    {
     "data": {
      "text/plain": [
       "0.5465409640154031"
      ]
     },
     "execution_count": 52,
     "metadata": {
      "tags": []
     },
     "output_type": "execute_result"
    }
   ],
   "source": [
    "predicted_rfc = model_rfc.predict(tf_idf_test)\n",
    "f1_rfc_test = f1_score(target_test, predicted_rfc)\n",
    "f1_rfc_test"
   ]
  },
  {
   "cell_type": "markdown",
   "metadata": {
    "id": "K4TeEuZyQYAl"
   },
   "source": [
    "Её точность оказалась ещё хуже предыдущей модели - всего 55%."
   ]
  },
  {
   "cell_type": "code",
   "execution_count": 53,
   "metadata": {
    "colab": {
     "base_uri": "https://localhost:8080/",
     "height": 404
    },
    "id": "a-FkByo79Dbh",
    "outputId": "147463b8-833f-4f72-b3e8-a89156bef4ae"
   },
   "outputs": [
    {
     "data": {
      "image/png": "[encoded data removed]",
      "text/plain": [
       "<Figure size 576x432 with 2 Axes>"
      ]
     },
     "metadata": {
      "needs_background": "light",
      "tags": []
     },
     "output_type": "display_data"
    }
   ],
   "source": [
    "conf_matr_rfc = confusion_matrix(target_test, predicted_rfc)\n",
    "plt.figure(figsize=(8,6))\n",
    "sn.heatmap(conf_matr_rfc, linecolor='grey', linewidths=.5, annot=True, fmt='d')\n",
    "plt.xlabel('Predicted')\n",
    "plt.ylabel('Target')\n",
    "plt.title('Матрица ошибок случайного леса')\n",
    "plt.show()"
   ]
  },
  {
   "cell_type": "markdown",
   "metadata": {
    "id": "aTTUhGNWQq2_"
   },
   "source": [
    "Согласно матрице ошибок, общее числол ошибок равно 3406 случаям. Большая часть из этих ошибок это неправильно размеченные позитивные комментарии. Из всех, предсказанных как негативные, модель ошиблась в 59% случаев, это очень много."
   ]
  },
  {
   "cell_type": "markdown",
   "metadata": {
    "id": "6Ty28WIBRf_3"
   },
   "source": [
    "Посмотрим на результаты последней модели."
   ]
  },
  {
   "cell_type": "code",
   "execution_count": 54,
   "metadata": {
    "colab": {
     "base_uri": "https://localhost:8080/"
    },
    "id": "Y42DGUBV9UMe",
    "outputId": "d3653ca2-fb42-4fe1-ffdc-06c01e287868"
   },
   "outputs": [
    {
     "data": {
      "text/plain": [
       "0.7640308783642813"
      ]
     },
     "execution_count": 54,
     "metadata": {
      "tags": []
     },
     "output_type": "execute_result"
    }
   ],
   "source": [
    "predicted_cb = model_cb.predict(features_test)\n",
    "f1_cb_test = f1_score(target_test, predicted_cb)\n",
    "f1_cb_test"
   ]
  },
  {
   "cell_type": "markdown",
   "metadata": {
    "id": "d3oAJUHRRmRY"
   },
   "source": [
    "Единственная модель, которая справилась с задачей, выдав точность в 76%."
   ]
  },
  {
   "cell_type": "code",
   "execution_count": 55,
   "metadata": {
    "colab": {
     "base_uri": "https://localhost:8080/",
     "height": 404
    },
    "id": "n6_J-ZjG9j7O",
    "outputId": "62facab9-1bbc-4c62-a8db-f6674a6fdadc"
   },
   "outputs": [
    {
     "data": {
      "image/png": "[encoded data removed]",
      "text/plain": [
       "<Figure size 576x432 with 2 Axes>"
      ]
     },
     "metadata": {
      "needs_background": "light",
      "tags": []
     },
     "output_type": "display_data"
    }
   ],
   "source": [
    "conf_matr_cb = confusion_matrix(target_test, predicted_cb)\n",
    "plt.figure(figsize=(8,6))\n",
    "sn.heatmap(conf_matr_cb, linecolor='grey', linewidths=.5, annot=True, fmt='d')\n",
    "plt.xlabel('Predicted')\n",
    "plt.ylabel('Target')\n",
    "plt.title('Матрица ошибок CatBoost')\n",
    "plt.show()"
   ]
  },
  {
   "cell_type": "markdown",
   "metadata": {
    "id": "tFaq93cvRxIR"
   },
   "source": [
    "Однако и *CatBoost* не идеален, он совершил 1131 ошибку в предсказаниях. Правда в отличие от остальных моделей, данная модель хуже всех справилась с предсказанием негативных комментариев, их количество - 714, *CatBoost* их посчитал за позитивные."
   ]
  },
  {
   "cell_type": "markdown",
   "metadata": {
    "id": "JsMWWcHzBn4Y"
   },
   "source": [
    "## Выводы"
   ]
  },
  {
   "cell_type": "markdown",
   "metadata": {
    "id": "kif9MTNBTYm1"
   },
   "source": [
    "Сравним все показатели на одном графике."
   ]
  },
  {
   "cell_type": "code",
   "execution_count": 56,
   "metadata": {
    "colab": {
     "base_uri": "https://localhost:8080/",
     "height": 373
    },
    "id": "DlybTw6Z-OZ8",
    "outputId": "40bf56e7-0051-45a2-d1e5-f5efa1bfda38"
   },
   "outputs": [
    {
     "data": {
      "image/png": "[encoded data removed]",
      "text/plain": [
       "<Figure size 576x432 with 1 Axes>"
      ]
     },
     "metadata": {
      "needs_background": "light",
      "tags": []
     },
     "output_type": "display_data"
    }
   ],
   "source": [
    "f1_final = pd.DataFrame({'f1_lr_test': [f1_lr_test],\n",
    "                         'f1_dtc_test': [f1_dtc_test],\n",
    "                         'f1_rfc_test': [f1_rfc_test],\n",
    "                         'f1_cb_test': [f1_cb_test]\n",
    "                        })\n",
    "f1_final.plot(kind='bar', grid=True, figsize=(8,6), alpha=0.7);\n",
    "plt.axhline(y=0.75, color='r', linestyle='-')\n",
    "plt.show()"
   ]
  },
  {
   "cell_type": "markdown",
   "metadata": {
    "id": "B-hWimFKTnFr"
   },
   "source": [
    "Не смотря на то, что для классических моделей мы использовали преобразования, увеличивающие количество признаков, лучшей по определению негативных комментариев оказалась бустинговая модель *CatBoost*, имеющая внутри себя собственный инструмент работы с текстовыми признаками. Её точность составила 76%. Справилась с поставленной задачей и модель *логистической регрессии*, которая чуть-чуть не достигла 75% точности предсказаний. Модель *дерева решений* и *случайного леса* не справились с задачей, а последняя и вовсе показала результат в чуть более 50%."
   ]
  },
  {
   "cell_type": "markdown",
   "metadata": {},
   "source": [
    "# Обучение с BERT"
   ]
  },
  {
   "cell_type": "markdown",
   "metadata": {},
   "source": [
    "Теперь сравним, как справляется `BERT` в связке с моделью машинного обучения с поиском негативных комментариев."
   ]
  },
  {
   "cell_type": "code",
   "execution_count": 57,
   "metadata": {
    "colab": {
     "base_uri": "https://localhost:8080/"
    },
    "id": "ZDXIQP3XduWm",
    "outputId": "56624d70-7edb-4c7c-f883-9d03a2f376b0"
   },
   "outputs": [
    {
     "data": {
      "text/plain": [
       "device(type='cuda')"
      ]
     },
     "execution_count": 57,
     "metadata": {
      "tags": []
     },
     "output_type": "execute_result"
    }
   ],
   "source": [
    "cuda0 = torch.device('cuda')\n",
    "cuda0"
   ]
  },
  {
   "cell_type": "markdown",
   "metadata": {},
   "source": [
    "Для начала определим модель и токенайзер ждя обработки текста."
   ]
  },
  {
   "cell_type": "code",
   "execution_count": 58,
   "metadata": {
    "colab": {
     "base_uri": "https://localhost:8080/"
    },
    "id": "HY9kjbEgORwI",
    "outputId": "296227b2-02c5-4052-c8c3-456a16110767"
   },
   "outputs": [
    {
     "name": "stderr",
     "output_type": "stream",
     "text": [
      "Some weights of the model checkpoint at bert-base-uncased were not used when initializing BertModel: ['cls.seq_relationship.weight', 'cls.predictions.transform.LayerNorm.weight', 'cls.predictions.transform.dense.weight', 'cls.predictions.transform.LayerNorm.bias', 'cls.seq_relationship.bias', 'cls.predictions.bias', 'cls.predictions.transform.dense.bias', 'cls.predictions.decoder.weight']\n",
      "- This IS expected if you are initializing BertModel from the checkpoint of a model trained on another task or with another architecture (e.g. initializing a BertForSequenceClassification model from a BertForPreTraining model).\n",
      "- This IS NOT expected if you are initializing BertModel from the checkpoint of a model that you expect to be exactly identical (initializing a BertForSequenceClassification model from a BertForSequenceClassification model).\n"
     ]
    }
   ],
   "source": [
    "model_class, tokenizer_class, pretrained_weights = (ppb.BertModel, ppb.BertTokenizer, 'bert-base-uncased')\n",
    "\n",
    "tokenizer = tokenizer_class.from_pretrained(pretrained_weights)\n",
    "model = model_class.from_pretrained(pretrained_weights)"
   ]
  },
  {
   "cell_type": "markdown",
   "metadata": {},
   "source": [
    "Разобъём все наши твиты на токены. Будем использовать уже очищенные данные. Определим максимальную длину строки в 256 объектов."
   ]
  },
  {
   "cell_type": "code",
   "execution_count": 59,
   "metadata": {
    "colab": {
     "base_uri": "https://localhost:8080/"
    },
    "id": "AKUUINtoN14H",
    "outputId": "c67c3797-8d9c-48a2-8e4f-a8b365c43ed5"
   },
   "outputs": [
    {
     "name": "stderr",
     "output_type": "stream",
     "text": [
      "Truncation was not explicitly activated but `max_length` is provided a specific value, please use `truncation=True` to explicitly truncate examples to max length. Defaulting to 'longest_first' truncation strategy. If you encode pairs of sequences (GLUE-style) with the tokenizer you can select this strategy more precisely by providing a specific strategy to `truncation`.\n"
     ]
    },
    {
     "data": {
      "text/plain": [
       "0        [101, 20277, 2480, 2022, 4013, 2078, 5293, 399...\n",
       "1        [101, 2482, 3695, 3540, 21792, 2050, 4067, 200...\n",
       "2        [101, 5798, 2053, 4737, 4013, 2078, 2022, 2054...\n",
       "3        [101, 18404, 11020, 13684, 4696, 4013, 2078, 2...\n",
       "4        [101, 1998, 2065, 2107, 7655, 4839, 4013, 2078...\n",
       "                               ...                        \n",
       "99995    [101, 7619, 14652, 2023, 3720, 2022, 2498, 202...\n",
       "99996    [101, 3531, 10509, 21466, 5310, 2171, 14806, 4...\n",
       "99997    [101, 2054, 2339, 2079, 4013, 2078, 2079, 2008...\n",
       "99998    [101, 2061, 4013, 2078, 2052, 2022, 2205, 3697...\n",
       "99999    [101, 2074, 1037, 18856, 8486, 10803, 2070, 24...\n",
       "Name: clear, Length: 100000, dtype: object"
      ]
     },
     "execution_count": 59,
     "metadata": {
      "tags": []
     },
     "output_type": "execute_result"
    }
   ],
   "source": [
    "tokenized = data['clear'].apply(\n",
    "    lambda x: tokenizer.encode(x, add_special_tokens=True, max_length=256))\n",
    "tokenized"
   ]
  },
  {
   "cell_type": "markdown",
   "metadata": {},
   "source": [
    "Проверим максимальную длину"
   ]
  },
  {
   "cell_type": "code",
   "execution_count": 60,
   "metadata": {
    "colab": {
     "base_uri": "https://localhost:8080/"
    },
    "id": "iFQdjgqnOrjp",
    "outputId": "7a617d67-198d-4e0f-9141-8d7c63bdf9d4"
   },
   "outputs": [
    {
     "data": {
      "text/plain": [
       "256"
      ]
     },
     "execution_count": 60,
     "metadata": {
      "tags": []
     },
     "output_type": "execute_result"
    }
   ],
   "source": [
    "max_len = 0\n",
    "for i in tokenized.values:\n",
    "    if len(i) > max_len:\n",
    "        max_len = len(i)\n",
    "max_len"
   ]
  },
  {
   "cell_type": "markdown",
   "metadata": {},
   "source": [
    "Определим паддинги, чтобы выровнять тексты, и маски перед созданием эмбеддингов."
   ]
  },
  {
   "cell_type": "code",
   "execution_count": 61,
   "metadata": {
    "colab": {
     "base_uri": "https://localhost:8080/"
    },
    "id": "eR8WnVMZOvsS",
    "outputId": "b9722781-1b68-4932-f626-293d087c9b98"
   },
   "outputs": [
    {
     "data": {
      "text/plain": [
       "array([[  101, 20277,  2480, ...,     0,     0,     0],\n",
       "       [  101,  2482,  3695, ...,     0,     0,     0],\n",
       "       [  101,  5798,  2053, ...,     0,     0,     0],\n",
       "       ...,\n",
       "       [  101,  2054,  2339, ...,     0,     0,     0],\n",
       "       [  101,  2061,  4013, ...,     0,     0,     0],\n",
       "       [  101,  2074,  1037, ...,     0,     0,     0]])"
      ]
     },
     "execution_count": 61,
     "metadata": {
      "tags": []
     },
     "output_type": "execute_result"
    }
   ],
   "source": [
    "padded = np.array([i + [0]*(max_len - len(i)) for i in tokenized.values])\n",
    "padded"
   ]
  },
  {
   "cell_type": "code",
   "execution_count": 62,
   "metadata": {
    "colab": {
     "base_uri": "https://localhost:8080/"
    },
    "id": "xh1oexMdJjX9",
    "outputId": "7f732ea1-141d-4a08-8e8b-9a09881de8e5"
   },
   "outputs": [
    {
     "data": {
      "text/plain": [
       "(100000, 256)"
      ]
     },
     "execution_count": 62,
     "metadata": {
      "tags": []
     },
     "output_type": "execute_result"
    }
   ],
   "source": [
    "padded.shape"
   ]
  },
  {
   "cell_type": "code",
   "execution_count": 63,
   "metadata": {
    "colab": {
     "base_uri": "https://localhost:8080/"
    },
    "id": "JSBzaEUeOzSB",
    "outputId": "d761c174-5022-4123-fc0e-ef59dde66287"
   },
   "outputs": [
    {
     "data": {
      "text/plain": [
       "array([[1, 1, 1, ..., 0, 0, 0],\n",
       "       [1, 1, 1, ..., 0, 0, 0],\n",
       "       [1, 1, 1, ..., 0, 0, 0],\n",
       "       ...,\n",
       "       [1, 1, 1, ..., 0, 0, 0],\n",
       "       [1, 1, 1, ..., 0, 0, 0],\n",
       "       [1, 1, 1, ..., 0, 0, 0]])"
      ]
     },
     "execution_count": 63,
     "metadata": {
      "tags": []
     },
     "output_type": "execute_result"
    }
   ],
   "source": [
    "attention_mask = np.where(padded != 0, 1, 0)\n",
    "attention_mask"
   ]
  },
  {
   "cell_type": "code",
   "execution_count": 64,
   "metadata": {
    "colab": {
     "base_uri": "https://localhost:8080/"
    },
    "id": "znaWiM7NJnFs",
    "outputId": "b12e74d5-bacf-483a-c5bb-5b8495c32c42"
   },
   "outputs": [
    {
     "data": {
      "text/plain": [
       "(100000, 256)"
      ]
     },
     "execution_count": 64,
     "metadata": {
      "tags": []
     },
     "output_type": "execute_result"
    }
   ],
   "source": [
    "attention_mask.shape"
   ]
  },
  {
   "cell_type": "code",
   "execution_count": 65,
   "metadata": {
    "id": "ppj-orFBJvVh"
   },
   "outputs": [],
   "source": [
    "input_ids = torch.tensor(padded)  \n",
    "attention_mask = torch.tensor(attention_mask)"
   ]
  },
  {
   "cell_type": "markdown",
   "metadata": {},
   "source": [
    "Определим эмбеддинги, из которых потом соберём признаки, на которых будем обучаться."
   ]
  },
  {
   "cell_type": "code",
   "execution_count": 66,
   "metadata": {
    "colab": {
     "base_uri": "https://localhost:8080/",
     "height": 99,
     "referenced_widgets": [
      "fcf226a7283045eb895d6deb9d889918",
      "c4b3412d2b9e4b1e8f3e169f4201a5cb",
      "f4826e5270414fda8124f21f6122a123",
      "4f0cabaf6af54dbeaba77284a4421efd",
      "6181a14a10f64f5b98bd533ab5ee9f93",
      "12eede378089435689e4c6438d549725",
      "b4c07745ed8f4108a58384bdee8e6772",
      "918d255a3ce74124958fb4696e47eead"
     ]
    },
    "id": "0uUV2GvyO7cZ",
    "outputId": "a2abbaa4-d082-479e-9411-00e4a2bdfddb"
   },
   "outputs": [
    {
     "data": {
      "application/vnd.jupyter.widget-view+json": {
       "model_id": "fcf226a7283045eb895d6deb9d889918",
       "version_major": 2,
       "version_minor": 0
      },
      "text/plain": [
       "HBox(children=(FloatProgress(value=0.0, max=1000.0), HTML(value='')))"
      ]
     },
     "metadata": {
      "tags": []
     },
     "output_type": "display_data"
    },
    {
     "name": "stdout",
     "output_type": "stream",
     "text": [
      "\n",
      "CPU times: user 51min 44s, sys: 7.66 s, total: 51min 52s\n",
      "Wall time: 51min 40s\n"
     ]
    }
   ],
   "source": [
    "%%time\n",
    "batch_size = 100 \n",
    "embeddings = [] \n",
    "for i in notebook.tqdm(range(input_ids.shape[0] // batch_size)):\n",
    "        batch = torch.LongTensor(input_ids[batch_size*i:batch_size*(i+1)]).cuda() \n",
    "        attention_mask_batch = torch.LongTensor(attention_mask[batch_size*i:batch_size*(i+1)]).cuda()\n",
    " \n",
    "        with torch.no_grad():\n",
    "            model.cuda()\n",
    "            batch_embeddings = model(batch, attention_mask=attention_mask_batch)\n",
    " \n",
    "        embeddings.append(batch_embeddings[0][:,0,:].cpu().numpy())\n",
    "        del batch\n",
    "        del attention_mask_batch\n",
    "        del batch_embeddings"
   ]
  },
  {
   "cell_type": "markdown",
   "metadata": {},
   "source": [
    "Теперь выделим признаки и целевой признак и разделим их на обучающую и тестовую выборки в соотношении 75/25."
   ]
  },
  {
   "cell_type": "code",
   "execution_count": 67,
   "metadata": {
    "id": "ocfJsGNMO_MF"
   },
   "outputs": [],
   "source": [
    "features = np.concatenate(embeddings)\n",
    "target = data['toxic']"
   ]
  },
  {
   "cell_type": "code",
   "execution_count": 68,
   "metadata": {
    "colab": {
     "base_uri": "https://localhost:8080/"
    },
    "id": "jJr15gPSPNZq",
    "outputId": "c1691030-271c-4d0f-fb8c-e3a78c61b1a2"
   },
   "outputs": [
    {
     "data": {
      "text/plain": [
       "((100000, 768), (100000,))"
      ]
     },
     "execution_count": 68,
     "metadata": {
      "tags": []
     },
     "output_type": "execute_result"
    }
   ],
   "source": [
    "features.shape, target.shape"
   ]
  },
  {
   "cell_type": "code",
   "execution_count": 69,
   "metadata": {
    "id": "Nz6oSqJqf5E2"
   },
   "outputs": [],
   "source": [
    "features_train, features_test, target_train, target_test = train_test_split(features, \n",
    "                                                                            target, \n",
    "                                                                            test_size=0.25, \n",
    "                                                                            random_state=42)"
   ]
  },
  {
   "cell_type": "code",
   "execution_count": 70,
   "metadata": {
    "colab": {
     "base_uri": "https://localhost:8080/"
    },
    "id": "-46OBuIGhZwd",
    "outputId": "d5a4dfce-1051-490e-e8f0-243373be452a"
   },
   "outputs": [
    {
     "data": {
      "text/plain": [
       "((75000, 768), (25000, 768))"
      ]
     },
     "execution_count": 70,
     "metadata": {
      "tags": []
     },
     "output_type": "execute_result"
    }
   ],
   "source": [
    "features_train.shape, features_test.shape"
   ]
  },
  {
   "cell_type": "markdown",
   "metadata": {},
   "source": [
    "Будем сравнивать и обучаться на модели, показавшей неплохой результат ранее - *логистической регрессии*."
   ]
  },
  {
   "cell_type": "code",
   "execution_count": 71,
   "metadata": {
    "id": "ww_Ryst0gAGM"
   },
   "outputs": [],
   "source": [
    "model_BERT = LogisticRegression(random_state=42, class_weight='balanced')"
   ]
  },
  {
   "cell_type": "code",
   "execution_count": 72,
   "metadata": {
    "colab": {
     "base_uri": "https://localhost:8080/"
    },
    "id": "sIJRX2FvgYpQ",
    "outputId": "c603ef42-689a-4ef5-fc32-5248f34336da"
   },
   "outputs": [
    {
     "data": {
      "text/plain": [
       "LogisticRegression(C=1.0, class_weight='balanced', dual=False,\n",
       "                   fit_intercept=True, intercept_scaling=1, l1_ratio=None,\n",
       "                   max_iter=100, multi_class='auto', n_jobs=None, penalty='l2',\n",
       "                   random_state=42, solver='lbfgs', tol=0.0001, verbose=0,\n",
       "                   warm_start=False)"
      ]
     },
     "execution_count": 72,
     "metadata": {
      "tags": []
     },
     "output_type": "execute_result"
    }
   ],
   "source": [
    "model_BERT.fit(features_train, target_train)"
   ]
  },
  {
   "cell_type": "markdown",
   "metadata": {},
   "source": [
    "Сначала выполним предсказание и посчитаем f1_score на тренировочной выборке."
   ]
  },
  {
   "cell_type": "code",
   "execution_count": 73,
   "metadata": {
    "id": "2E7WrSDogdqU"
   },
   "outputs": [],
   "source": [
    "pred_BERT = model_BERT.predict(features_train)"
   ]
  },
  {
   "cell_type": "code",
   "execution_count": 74,
   "metadata": {
    "colab": {
     "base_uri": "https://localhost:8080/"
    },
    "id": "5pxjK_u2g6fC",
    "outputId": "a97d594a-78be-4a1a-bc72-fbfa3105833c"
   },
   "outputs": [
    {
     "data": {
      "text/plain": [
       "0.6391636055382877"
      ]
     },
     "execution_count": 74,
     "metadata": {
      "tags": []
     },
     "output_type": "execute_result"
    }
   ],
   "source": [
    "f1_BERT = f1_score(target_train, pred_BERT)\n",
    "f1_BERT"
   ]
  },
  {
   "cell_type": "markdown",
   "metadata": {},
   "source": [
    "Мы получили довольно скромный результат в 64%. Теперь посмотрим, что выдаст модель на тесте."
   ]
  },
  {
   "cell_type": "code",
   "execution_count": 75,
   "metadata": {
    "colab": {
     "base_uri": "https://localhost:8080/"
    },
    "id": "gJBNo1fUiiIG",
    "outputId": "f80cac75-9160-49d8-ffb8-d00edffc9420"
   },
   "outputs": [
    {
     "data": {
      "text/plain": [
       "0.6230476994512453"
      ]
     },
     "execution_count": 75,
     "metadata": {
      "tags": []
     },
     "output_type": "execute_result"
    }
   ],
   "source": [
    "pred_BERT_ = model_BERT.predict(features_test)\n",
    "f1_BERT_ = f1_score(target_test, pred_BERT_)\n",
    "f1_BERT_"
   ]
  },
  {
   "cell_type": "markdown",
   "metadata": {},
   "source": [
    "Предсказания на тесте выдали точность в 62%, что далеко не дотягивает до нужных 75%.\n",
    "\n",
    "Однако важно заметить, что если с использованием tf-idf векторизатора точность на тесте падала на 10%, то с использованием BERT точность на обучающей и тестовой выборке различается на 2%."
   ]
  },
  {
   "cell_type": "markdown",
   "metadata": {},
   "source": [
    "Попробуем улучшить результат с помощью кросс-валидации."
   ]
  },
  {
   "cell_type": "code",
   "execution_count": 76,
   "metadata": {
    "colab": {
     "base_uri": "https://localhost:8080/"
    },
    "id": "00BQT6D9lGDv",
    "outputId": "604071c4-0644-405a-a714-36a479aaf8ad"
   },
   "outputs": [
    {
     "name": "stdout",
     "output_type": "stream",
     "text": [
      "best parameters:  {'C': 100.0}\n",
      "best scrores:  0.9474666666666666\n"
     ]
    }
   ],
   "source": [
    "parameters = {'C': np.linspace(0.0001, 100, 20)}\n",
    "grid_search = GridSearchCV(LogisticRegression(), parameters)\n",
    "grid_search.fit(features_train, target_train)\n",
    "\n",
    "print('best parameters: ', grid_search.best_params_)\n",
    "print('best scrores: ', grid_search.best_score_)"
   ]
  },
  {
   "cell_type": "code",
   "execution_count": 77,
   "metadata": {
    "colab": {
     "base_uri": "https://localhost:8080/"
    },
    "id": "yFurW0bBlnf_",
    "outputId": "32c42f12-229e-4d56-8e6a-eb4b1097839a"
   },
   "outputs": [
    {
     "data": {
      "text/plain": [
       "0.7192749778956675"
      ]
     },
     "execution_count": 77,
     "metadata": {
      "tags": []
     },
     "output_type": "execute_result"
    }
   ],
   "source": [
    "predicted_test = grid_search.predict(features_test)\n",
    "f1_score(target_test, predicted_test)"
   ]
  },
  {
   "cell_type": "markdown",
   "metadata": {},
   "source": [
    "С помощью *GridSearchCV* удалось достичь на тесте 72% точности предсказаний. В сравнении с предыдущим показателем этомй модели результат получился чуть хуже на 2%."
   ]
  }
 ],
 "metadata": {
  "accelerator": "GPU",
  "colab": {
   "collapsed_sections": [],
   "name": "toxic_comments_BERT.ipynb",
   "provenance": [],
   "toc_visible": true
  },
  "kernelspec": {
   "display_name": "Python 3",
   "language": "python",
   "name": "python3"
  },
  "language_info": {
   "codemirror_mode": {
    "name": "ipython",
    "version": 3
   },
   "file_extension": ".py",
   "mimetype": "text/x-python",
   "name": "python",
   "nbconvert_exporter": "python",
   "pygments_lexer": "ipython3",
   "version": "3.8.5"
  },
  "toc": {
   "base_numbering": 1,
   "nav_menu": {},
   "number_sections": true,
   "sideBar": true,
   "skip_h1_title": true,
   "title_cell": "Table of Contents",
   "title_sidebar": "Contents",
   "toc_cell": false,
   "toc_position": {},
   "toc_section_display": true,
   "toc_window_display": false
  },
  "widgets": {
   "application/vnd.jupyter.widget-state+json": {
    "12eede378089435689e4c6438d549725": {
     "model_module": "@jupyter-widgets/base",
     "model_name": "LayoutModel",
     "state": {
      "_model_module": "@jupyter-widgets/base",
      "_model_module_version": "1.2.0",
      "_model_name": "LayoutModel",
      "_view_count": null,
      "_view_module": "@jupyter-widgets/base",
      "_view_module_version": "1.2.0",
      "_view_name": "LayoutView",
      "align_content": null,
      "align_items": null,
      "align_self": null,
      "border": null,
      "bottom": null,
      "display": null,
      "flex": null,
      "flex_flow": null,
      "grid_area": null,
      "grid_auto_columns": null,
      "grid_auto_flow": null,
      "grid_auto_rows": null,
      "grid_column": null,
      "grid_gap": null,
      "grid_row": null,
      "grid_template_areas": null,
      "grid_template_columns": null,
      "grid_template_rows": null,
      "height": null,
      "justify_content": null,
      "justify_items": null,
      "left": null,
      "margin": null,
      "max_height": null,
      "max_width": null,
      "min_height": null,
      "min_width": null,
      "object_fit": null,
      "object_position": null,
      "order": null,
      "overflow": null,
      "overflow_x": null,
      "overflow_y": null,
      "padding": null,
      "right": null,
      "top": null,
      "visibility": null,
      "width": null
     }
    },
    "4f0cabaf6af54dbeaba77284a4421efd": {
     "model_module": "@jupyter-widgets/controls",
     "model_name": "HTMLModel",
     "state": {
      "_dom_classes": [],
      "_model_module": "@jupyter-widgets/controls",
      "_model_module_version": "1.5.0",
      "_model_name": "HTMLModel",
      "_view_count": null,
      "_view_module": "@jupyter-widgets/controls",
      "_view_module_version": "1.5.0",
      "_view_name": "HTMLView",
      "description": "",
      "description_tooltip": null,
      "layout": "IPY_MODEL_918d255a3ce74124958fb4696e47eead",
      "placeholder": "​",
      "style": "IPY_MODEL_b4c07745ed8f4108a58384bdee8e6772",
      "value": " 1000/1000 [51:40&lt;00:00,  3.10s/it]"
     }
    },
    "6181a14a10f64f5b98bd533ab5ee9f93": {
     "model_module": "@jupyter-widgets/controls",
     "model_name": "ProgressStyleModel",
     "state": {
      "_model_module": "@jupyter-widgets/controls",
      "_model_module_version": "1.5.0",
      "_model_name": "ProgressStyleModel",
      "_view_count": null,
      "_view_module": "@jupyter-widgets/base",
      "_view_module_version": "1.2.0",
      "_view_name": "StyleView",
      "bar_color": null,
      "description_width": "initial"
     }
    },
    "918d255a3ce74124958fb4696e47eead": {
     "model_module": "@jupyter-widgets/base",
     "model_name": "LayoutModel",
     "state": {
      "_model_module": "@jupyter-widgets/base",
      "_model_module_version": "1.2.0",
      "_model_name": "LayoutModel",
      "_view_count": null,
      "_view_module": "@jupyter-widgets/base",
      "_view_module_version": "1.2.0",
      "_view_name": "LayoutView",
      "align_content": null,
      "align_items": null,
      "align_self": null,
      "border": null,
      "bottom": null,
      "display": null,
      "flex": null,
      "flex_flow": null,
      "grid_area": null,
      "grid_auto_columns": null,
      "grid_auto_flow": null,
      "grid_auto_rows": null,
      "grid_column": null,
      "grid_gap": null,
      "grid_row": null,
      "grid_template_areas": null,
      "grid_template_columns": null,
      "grid_template_rows": null,
      "height": null,
      "justify_content": null,
      "justify_items": null,
      "left": null,
      "margin": null,
      "max_height": null,
      "max_width": null,
      "min_height": null,
      "min_width": null,
      "object_fit": null,
      "object_position": null,
      "order": null,
      "overflow": null,
      "overflow_x": null,
      "overflow_y": null,
      "padding": null,
      "right": null,
      "top": null,
      "visibility": null,
      "width": null
     }
    },
    "b4c07745ed8f4108a58384bdee8e6772": {
     "model_module": "@jupyter-widgets/controls",
     "model_name": "DescriptionStyleModel",
     "state": {
      "_model_module": "@jupyter-widgets/controls",
      "_model_module_version": "1.5.0",
      "_model_name": "DescriptionStyleModel",
      "_view_count": null,
      "_view_module": "@jupyter-widgets/base",
      "_view_module_version": "1.2.0",
      "_view_name": "StyleView",
      "description_width": ""
     }
    },
    "c4b3412d2b9e4b1e8f3e169f4201a5cb": {
     "model_module": "@jupyter-widgets/base",
     "model_name": "LayoutModel",
     "state": {
      "_model_module": "@jupyter-widgets/base",
      "_model_module_version": "1.2.0",
      "_model_name": "LayoutModel",
      "_view_count": null,
      "_view_module": "@jupyter-widgets/base",
      "_view_module_version": "1.2.0",
      "_view_name": "LayoutView",
      "align_content": null,
      "align_items": null,
      "align_self": null,
      "border": null,
      "bottom": null,
      "display": null,
      "flex": null,
      "flex_flow": null,
      "grid_area": null,
      "grid_auto_columns": null,
      "grid_auto_flow": null,
      "grid_auto_rows": null,
      "grid_column": null,
      "grid_gap": null,
      "grid_row": null,
      "grid_template_areas": null,
      "grid_template_columns": null,
      "grid_template_rows": null,
      "height": null,
      "justify_content": null,
      "justify_items": null,
      "left": null,
      "margin": null,
      "max_height": null,
      "max_width": null,
      "min_height": null,
      "min_width": null,
      "object_fit": null,
      "object_position": null,
      "order": null,
      "overflow": null,
      "overflow_x": null,
      "overflow_y": null,
      "padding": null,
      "right": null,
      "top": null,
      "visibility": null,
      "width": null
     }
    },
    "f4826e5270414fda8124f21f6122a123": {
     "model_module": "@jupyter-widgets/controls",
     "model_name": "FloatProgressModel",
     "state": {
      "_dom_classes": [],
      "_model_module": "@jupyter-widgets/controls",
      "_model_module_version": "1.5.0",
      "_model_name": "FloatProgressModel",
      "_view_count": null,
      "_view_module": "@jupyter-widgets/controls",
      "_view_module_version": "1.5.0",
      "_view_name": "ProgressView",
      "bar_style": "success",
      "description": "100%",
      "description_tooltip": null,
      "layout": "IPY_MODEL_12eede378089435689e4c6438d549725",
      "max": 1000,
      "min": 0,
      "orientation": "horizontal",
      "style": "IPY_MODEL_6181a14a10f64f5b98bd533ab5ee9f93",
      "value": 1000
     }
    },
    "fcf226a7283045eb895d6deb9d889918": {
     "model_module": "@jupyter-widgets/controls",
     "model_name": "HBoxModel",
     "state": {
      "_dom_classes": [],
      "_model_module": "@jupyter-widgets/controls",
      "_model_module_version": "1.5.0",
      "_model_name": "HBoxModel",
      "_view_count": null,
      "_view_module": "@jupyter-widgets/controls",
      "_view_module_version": "1.5.0",
      "_view_name": "HBoxView",
      "box_style": "",
      "children": [
       "IPY_MODEL_f4826e5270414fda8124f21f6122a123",
       "IPY_MODEL_4f0cabaf6af54dbeaba77284a4421efd"
      ],
      "layout": "IPY_MODEL_c4b3412d2b9e4b1e8f3e169f4201a5cb"
     }
    }
   }
  }
 },
 "nbformat": 4,
 "nbformat_minor": 1
}
