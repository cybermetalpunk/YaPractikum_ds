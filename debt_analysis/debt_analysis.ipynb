{
 "cells": [
  {
   "cell_type": "markdown",
   "metadata": {
    "id": "QSPx4ZKOSt57"
   },
   "source": [
    "## Исследование надёжности заёмщиков\n",
    "\n",
    "Заказчик — кредитный отдел банка. Нужно разобраться, влияет ли семейное положение и количество детей клиента на факт погашения кредита в срок. Входные данные от банка — статистика о платёжеспособности клиентов.\n",
    "\n",
    "Результаты исследования будут учтены при построении модели **кредитного скоринга** — специальной системы, которая оценивает способность потенциального заёмщика вернуть кредит банку."
   ]
  },
  {
   "cell_type": "markdown",
   "metadata": {
    "id": "3w2oWwGHSt57"
   },
   "source": [
    "### Шаг 1. Откройте файл с данными и изучите общую информацию. "
   ]
  },
  {
   "cell_type": "code",
   "execution_count": 1,
   "metadata": {
    "colab": {
     "base_uri": "https://localhost:8080/",
     "height": 533
    },
    "id": "qJJy9n8fSt58",
    "outputId": "c5be07f0-8fdc-48bc-8711-6d1c60b8f13a"
   },
   "outputs": [],
   "source": [
    "import pandas as pd\n",
    "from collections import Counter\n",
    "from nltk.stem import SnowballStemmer "
   ]
  },
  {
   "cell_type": "code",
   "execution_count": 2,
   "metadata": {
    "colab": {
     "base_uri": "https://localhost:8080/",
     "height": 533
    },
    "id": "qJJy9n8fSt58",
    "outputId": "c5be07f0-8fdc-48bc-8711-6d1c60b8f13a",
    "scrolled": false
   },
   "outputs": [
    {
     "data": {
      "text/html": [
       "<div>\n",
       "<style scoped>\n",
       "    .dataframe tbody tr th:only-of-type {\n",
       "        vertical-align: middle;\n",
       "    }\n",
       "\n",
       "    .dataframe tbody tr th {\n",
       "        vertical-align: top;\n",
       "    }\n",
       "\n",
       "    .dataframe thead th {\n",
       "        text-align: right;\n",
       "    }\n",
       "</style>\n",
       "<table border=\"1\" class=\"dataframe\">\n",
       "  <thead>\n",
       "    <tr style=\"text-align: right;\">\n",
       "      <th></th>\n",
       "      <th>children</th>\n",
       "      <th>days_employed</th>\n",
       "      <th>dob_years</th>\n",
       "      <th>education</th>\n",
       "      <th>education_id</th>\n",
       "      <th>family_status</th>\n",
       "      <th>family_status_id</th>\n",
       "      <th>gender</th>\n",
       "      <th>income_type</th>\n",
       "      <th>debt</th>\n",
       "      <th>total_income</th>\n",
       "      <th>purpose</th>\n",
       "    </tr>\n",
       "  </thead>\n",
       "  <tbody>\n",
       "    <tr>\n",
       "      <th>0</th>\n",
       "      <td>1</td>\n",
       "      <td>-8437.673028</td>\n",
       "      <td>42</td>\n",
       "      <td>высшее</td>\n",
       "      <td>0</td>\n",
       "      <td>женат / замужем</td>\n",
       "      <td>0</td>\n",
       "      <td>F</td>\n",
       "      <td>сотрудник</td>\n",
       "      <td>0</td>\n",
       "      <td>253875.639453</td>\n",
       "      <td>покупка жилья</td>\n",
       "    </tr>\n",
       "    <tr>\n",
       "      <th>1</th>\n",
       "      <td>1</td>\n",
       "      <td>-4024.803754</td>\n",
       "      <td>36</td>\n",
       "      <td>среднее</td>\n",
       "      <td>1</td>\n",
       "      <td>женат / замужем</td>\n",
       "      <td>0</td>\n",
       "      <td>F</td>\n",
       "      <td>сотрудник</td>\n",
       "      <td>0</td>\n",
       "      <td>112080.014102</td>\n",
       "      <td>приобретение автомобиля</td>\n",
       "    </tr>\n",
       "    <tr>\n",
       "      <th>2</th>\n",
       "      <td>0</td>\n",
       "      <td>-5623.422610</td>\n",
       "      <td>33</td>\n",
       "      <td>Среднее</td>\n",
       "      <td>1</td>\n",
       "      <td>женат / замужем</td>\n",
       "      <td>0</td>\n",
       "      <td>M</td>\n",
       "      <td>сотрудник</td>\n",
       "      <td>0</td>\n",
       "      <td>145885.952297</td>\n",
       "      <td>покупка жилья</td>\n",
       "    </tr>\n",
       "    <tr>\n",
       "      <th>3</th>\n",
       "      <td>3</td>\n",
       "      <td>-4124.747207</td>\n",
       "      <td>32</td>\n",
       "      <td>среднее</td>\n",
       "      <td>1</td>\n",
       "      <td>женат / замужем</td>\n",
       "      <td>0</td>\n",
       "      <td>M</td>\n",
       "      <td>сотрудник</td>\n",
       "      <td>0</td>\n",
       "      <td>267628.550329</td>\n",
       "      <td>дополнительное образование</td>\n",
       "    </tr>\n",
       "    <tr>\n",
       "      <th>4</th>\n",
       "      <td>0</td>\n",
       "      <td>340266.072047</td>\n",
       "      <td>53</td>\n",
       "      <td>среднее</td>\n",
       "      <td>1</td>\n",
       "      <td>гражданский брак</td>\n",
       "      <td>1</td>\n",
       "      <td>F</td>\n",
       "      <td>пенсионер</td>\n",
       "      <td>0</td>\n",
       "      <td>158616.077870</td>\n",
       "      <td>сыграть свадьбу</td>\n",
       "    </tr>\n",
       "    <tr>\n",
       "      <th>5</th>\n",
       "      <td>0</td>\n",
       "      <td>-926.185831</td>\n",
       "      <td>27</td>\n",
       "      <td>высшее</td>\n",
       "      <td>0</td>\n",
       "      <td>гражданский брак</td>\n",
       "      <td>1</td>\n",
       "      <td>M</td>\n",
       "      <td>компаньон</td>\n",
       "      <td>0</td>\n",
       "      <td>255763.565419</td>\n",
       "      <td>покупка жилья</td>\n",
       "    </tr>\n",
       "    <tr>\n",
       "      <th>6</th>\n",
       "      <td>0</td>\n",
       "      <td>-2879.202052</td>\n",
       "      <td>43</td>\n",
       "      <td>высшее</td>\n",
       "      <td>0</td>\n",
       "      <td>женат / замужем</td>\n",
       "      <td>0</td>\n",
       "      <td>F</td>\n",
       "      <td>компаньон</td>\n",
       "      <td>0</td>\n",
       "      <td>240525.971920</td>\n",
       "      <td>операции с жильем</td>\n",
       "    </tr>\n",
       "    <tr>\n",
       "      <th>7</th>\n",
       "      <td>0</td>\n",
       "      <td>-152.779569</td>\n",
       "      <td>50</td>\n",
       "      <td>СРЕДНЕЕ</td>\n",
       "      <td>1</td>\n",
       "      <td>женат / замужем</td>\n",
       "      <td>0</td>\n",
       "      <td>M</td>\n",
       "      <td>сотрудник</td>\n",
       "      <td>0</td>\n",
       "      <td>135823.934197</td>\n",
       "      <td>образование</td>\n",
       "    </tr>\n",
       "    <tr>\n",
       "      <th>8</th>\n",
       "      <td>2</td>\n",
       "      <td>-6929.865299</td>\n",
       "      <td>35</td>\n",
       "      <td>ВЫСШЕЕ</td>\n",
       "      <td>0</td>\n",
       "      <td>гражданский брак</td>\n",
       "      <td>1</td>\n",
       "      <td>F</td>\n",
       "      <td>сотрудник</td>\n",
       "      <td>0</td>\n",
       "      <td>95856.832424</td>\n",
       "      <td>на проведение свадьбы</td>\n",
       "    </tr>\n",
       "    <tr>\n",
       "      <th>9</th>\n",
       "      <td>0</td>\n",
       "      <td>-2188.756445</td>\n",
       "      <td>41</td>\n",
       "      <td>среднее</td>\n",
       "      <td>1</td>\n",
       "      <td>женат / замужем</td>\n",
       "      <td>0</td>\n",
       "      <td>M</td>\n",
       "      <td>сотрудник</td>\n",
       "      <td>0</td>\n",
       "      <td>144425.938277</td>\n",
       "      <td>покупка жилья для семьи</td>\n",
       "    </tr>\n",
       "  </tbody>\n",
       "</table>\n",
       "</div>"
      ],
      "text/plain": [
       "   children  days_employed  dob_years education  education_id  \\\n",
       "0         1   -8437.673028         42    высшее             0   \n",
       "1         1   -4024.803754         36   среднее             1   \n",
       "2         0   -5623.422610         33   Среднее             1   \n",
       "3         3   -4124.747207         32   среднее             1   \n",
       "4         0  340266.072047         53   среднее             1   \n",
       "5         0    -926.185831         27    высшее             0   \n",
       "6         0   -2879.202052         43    высшее             0   \n",
       "7         0    -152.779569         50   СРЕДНЕЕ             1   \n",
       "8         2   -6929.865299         35    ВЫСШЕЕ             0   \n",
       "9         0   -2188.756445         41   среднее             1   \n",
       "\n",
       "      family_status  family_status_id gender income_type  debt   total_income  \\\n",
       "0   женат / замужем                 0      F   сотрудник     0  253875.639453   \n",
       "1   женат / замужем                 0      F   сотрудник     0  112080.014102   \n",
       "2   женат / замужем                 0      M   сотрудник     0  145885.952297   \n",
       "3   женат / замужем                 0      M   сотрудник     0  267628.550329   \n",
       "4  гражданский брак                 1      F   пенсионер     0  158616.077870   \n",
       "5  гражданский брак                 1      M   компаньон     0  255763.565419   \n",
       "6   женат / замужем                 0      F   компаньон     0  240525.971920   \n",
       "7   женат / замужем                 0      M   сотрудник     0  135823.934197   \n",
       "8  гражданский брак                 1      F   сотрудник     0   95856.832424   \n",
       "9   женат / замужем                 0      M   сотрудник     0  144425.938277   \n",
       "\n",
       "                      purpose  \n",
       "0               покупка жилья  \n",
       "1     приобретение автомобиля  \n",
       "2               покупка жилья  \n",
       "3  дополнительное образование  \n",
       "4             сыграть свадьбу  \n",
       "5               покупка жилья  \n",
       "6           операции с жильем  \n",
       "7                 образование  \n",
       "8       на проведение свадьбы  \n",
       "9     покупка жилья для семьи  "
      ]
     },
     "execution_count": 2,
     "metadata": {},
     "output_type": "execute_result"
    }
   ],
   "source": [
    "data = pd.read_csv('data.csv')\n",
    "data.head(10)"
   ]
  },
  {
   "cell_type": "code",
   "execution_count": 3,
   "metadata": {
    "colab": {
     "base_uri": "https://localhost:8080/"
    },
    "id": "eUON7h9ZSt5_",
    "outputId": "43f9931e-de99-4f74-97b1-3fa229bd0f3e"
   },
   "outputs": [
    {
     "name": "stdout",
     "output_type": "stream",
     "text": [
      "<class 'pandas.core.frame.DataFrame'>\n",
      "RangeIndex: 21525 entries, 0 to 21524\n",
      "Data columns (total 12 columns):\n",
      " #   Column            Non-Null Count  Dtype  \n",
      "---  ------            --------------  -----  \n",
      " 0   children          21525 non-null  int64  \n",
      " 1   days_employed     19351 non-null  float64\n",
      " 2   dob_years         21525 non-null  int64  \n",
      " 3   education         21525 non-null  object \n",
      " 4   education_id      21525 non-null  int64  \n",
      " 5   family_status     21525 non-null  object \n",
      " 6   family_status_id  21525 non-null  int64  \n",
      " 7   gender            21525 non-null  object \n",
      " 8   income_type       21525 non-null  object \n",
      " 9   debt              21525 non-null  int64  \n",
      " 10  total_income      19351 non-null  float64\n",
      " 11  purpose           21525 non-null  object \n",
      "dtypes: float64(2), int64(5), object(5)\n",
      "memory usage: 2.0+ MB\n"
     ]
    }
   ],
   "source": [
    "data.info()"
   ]
  },
  {
   "cell_type": "markdown",
   "metadata": {
    "id": "d-tqz5SPSt6C"
   },
   "source": [
    "### Вывод"
   ]
  },
  {
   "cell_type": "markdown",
   "metadata": {
    "id": "tLRBQE5ASt6D"
   },
   "source": [
    "Рассмотрим полученную информацию.\n",
    "\n",
    "Всего в таблице 12 столбцов с разными типами данных: два столбца с данными с плавающей точкой, пять - с целочисленными типами данных, пять - с типом данных строка.\n",
    "\n",
    "Количество значений в столбцах различается. Это говорит о том, что в данных есть нулевые значения. \n",
    "\n",
    "Подробно разберём, какие в *data* столбцы и какую информацию они содержат:\n",
    "\n",
    "* children — количество детей в семье;\n",
    "* days_employed — общий трудовой стаж в днях;\n",
    "* dob_years — возраст клиента в годах;\n",
    "* education — уровень образования клиента;\n",
    "* education_id — идентификатор уровня образования;\n",
    "* family_status — семейное положение;\n",
    "* family_status_id — идентификатор семейного положения;\n",
    "* gender — пол клиента;\n",
    "* income_type — тип занятости;\n",
    "* debt — имел ли задолженность по возврату кредитов;\n",
    "* total_income — ежемесячный доход;\n",
    "* purpose — цель получения кредита.\n",
    "\n",
    "По первыми десяти строкам данных также видно, что в столбце *days_employed* присутствуют отрицательные значения, а в столбце *education* у данных разный регистр, что тоже доставит проблем при анализе. Также столбец *days_employed*, в котором содержится трудовой стаж заёмщика в дня содержит дробные числа, да ещё и отрицательные, хотя должно быть целое число.\n"
   ]
  },
  {
   "cell_type": "markdown",
   "metadata": {
    "id": "Qyn1DCfBSt6E"
   },
   "source": [
    "### Шаг 2. Предобработка данных"
   ]
  },
  {
   "cell_type": "markdown",
   "metadata": {
    "id": "0JID40rhSt6F"
   },
   "source": [
    "### Обработка пропусков"
   ]
  },
  {
   "cell_type": "markdown",
   "metadata": {
    "id": "pe3_k-DoSt6F"
   },
   "source": [
    "Проверим данные на наличие пропусков вызовом набора методов для суммирования пропущенных значений."
   ]
  },
  {
   "cell_type": "code",
   "execution_count": 4,
   "metadata": {
    "colab": {
     "base_uri": "https://localhost:8080/"
    },
    "id": "qQiAZ3OdSt6F",
    "outputId": "64075ff1-0c5f-4d98-9b9c-d9d294b256fe"
   },
   "outputs": [
    {
     "data": {
      "text/plain": [
       "children               0\n",
       "days_employed       2174\n",
       "dob_years              0\n",
       "education              0\n",
       "education_id           0\n",
       "family_status          0\n",
       "family_status_id       0\n",
       "gender                 0\n",
       "income_type            0\n",
       "debt                   0\n",
       "total_income        2174\n",
       "purpose                0\n",
       "dtype: int64"
      ]
     },
     "execution_count": 4,
     "metadata": {},
     "output_type": "execute_result"
    }
   ],
   "source": [
    "data.isnull().sum()"
   ]
  },
  {
   "cell_type": "markdown",
   "metadata": {
    "id": "sbdeNluaSt6I"
   },
   "source": [
    "Мы видим что пропуски присутствуют в двух столбцах и их количество одинаково, вероятно это не случайно. 2174 пропуска - это около 10% от общего количества данных, мы не можем их потерять, иначе это отразится на точности нашего исследования.\n",
    "\n",
    "Выведем первые десять строк выбрав по столбцу *total_income* пропущенные значения."
   ]
  },
  {
   "cell_type": "code",
   "execution_count": 5,
   "metadata": {
    "colab": {
     "base_uri": "https://localhost:8080/",
     "height": 600
    },
    "id": "W19JObg3St6I",
    "outputId": "bb82f130-0b58-42ba-dcc9-6ff4faca89d4"
   },
   "outputs": [
    {
     "data": {
      "text/html": [
       "<div>\n",
       "<style scoped>\n",
       "    .dataframe tbody tr th:only-of-type {\n",
       "        vertical-align: middle;\n",
       "    }\n",
       "\n",
       "    .dataframe tbody tr th {\n",
       "        vertical-align: top;\n",
       "    }\n",
       "\n",
       "    .dataframe thead th {\n",
       "        text-align: right;\n",
       "    }\n",
       "</style>\n",
       "<table border=\"1\" class=\"dataframe\">\n",
       "  <thead>\n",
       "    <tr style=\"text-align: right;\">\n",
       "      <th></th>\n",
       "      <th>children</th>\n",
       "      <th>days_employed</th>\n",
       "      <th>dob_years</th>\n",
       "      <th>education</th>\n",
       "      <th>education_id</th>\n",
       "      <th>family_status</th>\n",
       "      <th>family_status_id</th>\n",
       "      <th>gender</th>\n",
       "      <th>income_type</th>\n",
       "      <th>debt</th>\n",
       "      <th>total_income</th>\n",
       "      <th>purpose</th>\n",
       "    </tr>\n",
       "  </thead>\n",
       "  <tbody>\n",
       "    <tr>\n",
       "      <th>12</th>\n",
       "      <td>0</td>\n",
       "      <td>NaN</td>\n",
       "      <td>65</td>\n",
       "      <td>среднее</td>\n",
       "      <td>1</td>\n",
       "      <td>гражданский брак</td>\n",
       "      <td>1</td>\n",
       "      <td>M</td>\n",
       "      <td>пенсионер</td>\n",
       "      <td>0</td>\n",
       "      <td>NaN</td>\n",
       "      <td>сыграть свадьбу</td>\n",
       "    </tr>\n",
       "    <tr>\n",
       "      <th>26</th>\n",
       "      <td>0</td>\n",
       "      <td>NaN</td>\n",
       "      <td>41</td>\n",
       "      <td>среднее</td>\n",
       "      <td>1</td>\n",
       "      <td>женат / замужем</td>\n",
       "      <td>0</td>\n",
       "      <td>M</td>\n",
       "      <td>госслужащий</td>\n",
       "      <td>0</td>\n",
       "      <td>NaN</td>\n",
       "      <td>образование</td>\n",
       "    </tr>\n",
       "    <tr>\n",
       "      <th>29</th>\n",
       "      <td>0</td>\n",
       "      <td>NaN</td>\n",
       "      <td>63</td>\n",
       "      <td>среднее</td>\n",
       "      <td>1</td>\n",
       "      <td>Не женат / не замужем</td>\n",
       "      <td>4</td>\n",
       "      <td>F</td>\n",
       "      <td>пенсионер</td>\n",
       "      <td>0</td>\n",
       "      <td>NaN</td>\n",
       "      <td>строительство жилой недвижимости</td>\n",
       "    </tr>\n",
       "    <tr>\n",
       "      <th>41</th>\n",
       "      <td>0</td>\n",
       "      <td>NaN</td>\n",
       "      <td>50</td>\n",
       "      <td>среднее</td>\n",
       "      <td>1</td>\n",
       "      <td>женат / замужем</td>\n",
       "      <td>0</td>\n",
       "      <td>F</td>\n",
       "      <td>госслужащий</td>\n",
       "      <td>0</td>\n",
       "      <td>NaN</td>\n",
       "      <td>сделка с подержанным автомобилем</td>\n",
       "    </tr>\n",
       "    <tr>\n",
       "      <th>55</th>\n",
       "      <td>0</td>\n",
       "      <td>NaN</td>\n",
       "      <td>54</td>\n",
       "      <td>среднее</td>\n",
       "      <td>1</td>\n",
       "      <td>гражданский брак</td>\n",
       "      <td>1</td>\n",
       "      <td>F</td>\n",
       "      <td>пенсионер</td>\n",
       "      <td>1</td>\n",
       "      <td>NaN</td>\n",
       "      <td>сыграть свадьбу</td>\n",
       "    </tr>\n",
       "    <tr>\n",
       "      <th>65</th>\n",
       "      <td>0</td>\n",
       "      <td>NaN</td>\n",
       "      <td>21</td>\n",
       "      <td>среднее</td>\n",
       "      <td>1</td>\n",
       "      <td>Не женат / не замужем</td>\n",
       "      <td>4</td>\n",
       "      <td>M</td>\n",
       "      <td>компаньон</td>\n",
       "      <td>0</td>\n",
       "      <td>NaN</td>\n",
       "      <td>операции с коммерческой недвижимостью</td>\n",
       "    </tr>\n",
       "    <tr>\n",
       "      <th>67</th>\n",
       "      <td>0</td>\n",
       "      <td>NaN</td>\n",
       "      <td>52</td>\n",
       "      <td>высшее</td>\n",
       "      <td>0</td>\n",
       "      <td>женат / замужем</td>\n",
       "      <td>0</td>\n",
       "      <td>F</td>\n",
       "      <td>пенсионер</td>\n",
       "      <td>0</td>\n",
       "      <td>NaN</td>\n",
       "      <td>покупка жилья для семьи</td>\n",
       "    </tr>\n",
       "    <tr>\n",
       "      <th>72</th>\n",
       "      <td>1</td>\n",
       "      <td>NaN</td>\n",
       "      <td>32</td>\n",
       "      <td>высшее</td>\n",
       "      <td>0</td>\n",
       "      <td>женат / замужем</td>\n",
       "      <td>0</td>\n",
       "      <td>M</td>\n",
       "      <td>госслужащий</td>\n",
       "      <td>0</td>\n",
       "      <td>NaN</td>\n",
       "      <td>операции с коммерческой недвижимостью</td>\n",
       "    </tr>\n",
       "    <tr>\n",
       "      <th>82</th>\n",
       "      <td>2</td>\n",
       "      <td>NaN</td>\n",
       "      <td>50</td>\n",
       "      <td>высшее</td>\n",
       "      <td>0</td>\n",
       "      <td>женат / замужем</td>\n",
       "      <td>0</td>\n",
       "      <td>F</td>\n",
       "      <td>сотрудник</td>\n",
       "      <td>0</td>\n",
       "      <td>NaN</td>\n",
       "      <td>жилье</td>\n",
       "    </tr>\n",
       "    <tr>\n",
       "      <th>83</th>\n",
       "      <td>0</td>\n",
       "      <td>NaN</td>\n",
       "      <td>52</td>\n",
       "      <td>среднее</td>\n",
       "      <td>1</td>\n",
       "      <td>женат / замужем</td>\n",
       "      <td>0</td>\n",
       "      <td>M</td>\n",
       "      <td>сотрудник</td>\n",
       "      <td>0</td>\n",
       "      <td>NaN</td>\n",
       "      <td>жилье</td>\n",
       "    </tr>\n",
       "    <tr>\n",
       "      <th>90</th>\n",
       "      <td>2</td>\n",
       "      <td>NaN</td>\n",
       "      <td>35</td>\n",
       "      <td>высшее</td>\n",
       "      <td>0</td>\n",
       "      <td>женат / замужем</td>\n",
       "      <td>0</td>\n",
       "      <td>F</td>\n",
       "      <td>сотрудник</td>\n",
       "      <td>0</td>\n",
       "      <td>NaN</td>\n",
       "      <td>операции с жильем</td>\n",
       "    </tr>\n",
       "    <tr>\n",
       "      <th>94</th>\n",
       "      <td>1</td>\n",
       "      <td>NaN</td>\n",
       "      <td>34</td>\n",
       "      <td>высшее</td>\n",
       "      <td>0</td>\n",
       "      <td>гражданский брак</td>\n",
       "      <td>1</td>\n",
       "      <td>F</td>\n",
       "      <td>компаньон</td>\n",
       "      <td>0</td>\n",
       "      <td>NaN</td>\n",
       "      <td>на проведение свадьбы</td>\n",
       "    </tr>\n",
       "    <tr>\n",
       "      <th>96</th>\n",
       "      <td>0</td>\n",
       "      <td>NaN</td>\n",
       "      <td>44</td>\n",
       "      <td>СРЕДНЕЕ</td>\n",
       "      <td>1</td>\n",
       "      <td>женат / замужем</td>\n",
       "      <td>0</td>\n",
       "      <td>F</td>\n",
       "      <td>сотрудник</td>\n",
       "      <td>0</td>\n",
       "      <td>NaN</td>\n",
       "      <td>покупка жилой недвижимости</td>\n",
       "    </tr>\n",
       "    <tr>\n",
       "      <th>97</th>\n",
       "      <td>0</td>\n",
       "      <td>NaN</td>\n",
       "      <td>47</td>\n",
       "      <td>высшее</td>\n",
       "      <td>0</td>\n",
       "      <td>женат / замужем</td>\n",
       "      <td>0</td>\n",
       "      <td>F</td>\n",
       "      <td>сотрудник</td>\n",
       "      <td>0</td>\n",
       "      <td>NaN</td>\n",
       "      <td>профильное образование</td>\n",
       "    </tr>\n",
       "    <tr>\n",
       "      <th>120</th>\n",
       "      <td>0</td>\n",
       "      <td>NaN</td>\n",
       "      <td>46</td>\n",
       "      <td>среднее</td>\n",
       "      <td>1</td>\n",
       "      <td>женат / замужем</td>\n",
       "      <td>0</td>\n",
       "      <td>F</td>\n",
       "      <td>сотрудник</td>\n",
       "      <td>0</td>\n",
       "      <td>NaN</td>\n",
       "      <td>высшее образование</td>\n",
       "    </tr>\n",
       "  </tbody>\n",
       "</table>\n",
       "</div>"
      ],
      "text/plain": [
       "     children  days_employed  dob_years education  education_id  \\\n",
       "12          0            NaN         65   среднее             1   \n",
       "26          0            NaN         41   среднее             1   \n",
       "29          0            NaN         63   среднее             1   \n",
       "41          0            NaN         50   среднее             1   \n",
       "55          0            NaN         54   среднее             1   \n",
       "65          0            NaN         21   среднее             1   \n",
       "67          0            NaN         52    высшее             0   \n",
       "72          1            NaN         32    высшее             0   \n",
       "82          2            NaN         50    высшее             0   \n",
       "83          0            NaN         52   среднее             1   \n",
       "90          2            NaN         35    высшее             0   \n",
       "94          1            NaN         34    высшее             0   \n",
       "96          0            NaN         44   СРЕДНЕЕ             1   \n",
       "97          0            NaN         47    высшее             0   \n",
       "120         0            NaN         46   среднее             1   \n",
       "\n",
       "             family_status  family_status_id gender  income_type  debt  \\\n",
       "12        гражданский брак                 1      M    пенсионер     0   \n",
       "26         женат / замужем                 0      M  госслужащий     0   \n",
       "29   Не женат / не замужем                 4      F    пенсионер     0   \n",
       "41         женат / замужем                 0      F  госслужащий     0   \n",
       "55        гражданский брак                 1      F    пенсионер     1   \n",
       "65   Не женат / не замужем                 4      M    компаньон     0   \n",
       "67         женат / замужем                 0      F    пенсионер     0   \n",
       "72         женат / замужем                 0      M  госслужащий     0   \n",
       "82         женат / замужем                 0      F    сотрудник     0   \n",
       "83         женат / замужем                 0      M    сотрудник     0   \n",
       "90         женат / замужем                 0      F    сотрудник     0   \n",
       "94        гражданский брак                 1      F    компаньон     0   \n",
       "96         женат / замужем                 0      F    сотрудник     0   \n",
       "97         женат / замужем                 0      F    сотрудник     0   \n",
       "120        женат / замужем                 0      F    сотрудник     0   \n",
       "\n",
       "     total_income                                purpose  \n",
       "12            NaN                        сыграть свадьбу  \n",
       "26            NaN                            образование  \n",
       "29            NaN       строительство жилой недвижимости  \n",
       "41            NaN       сделка с подержанным автомобилем  \n",
       "55            NaN                        сыграть свадьбу  \n",
       "65            NaN  операции с коммерческой недвижимостью  \n",
       "67            NaN                покупка жилья для семьи  \n",
       "72            NaN  операции с коммерческой недвижимостью  \n",
       "82            NaN                                  жилье  \n",
       "83            NaN                                  жилье  \n",
       "90            NaN                      операции с жильем  \n",
       "94            NaN                  на проведение свадьбы  \n",
       "96            NaN             покупка жилой недвижимости  \n",
       "97            NaN                 профильное образование  \n",
       "120           NaN                     высшее образование  "
      ]
     },
     "execution_count": 5,
     "metadata": {},
     "output_type": "execute_result"
    }
   ],
   "source": [
    "data[data['total_income'].isnull()].head(15)"
   ]
  },
  {
   "cell_type": "markdown",
   "metadata": {
    "id": "6Ix7M1JvSt6L"
   },
   "source": [
    "Мы видим, что отсутствие данных по двум столбцам встречается одновременно в одной строке. Скорее всего это случайная ошибка.\n",
    "\n",
    "Также мы видим, что пропуски нельзя заменить на среднее или медианное значение, поскольку стаж работы, как правило, зависит от возраста, а ежемесячный доход - от стажа, образования и других факторов. \n",
    "\n",
    "Для начала избавимся от минусов вначале некоторых строк в столбце *days_employed*, используя функцию *abs()*, которая возвращает модуль числа."
   ]
  },
  {
   "cell_type": "code",
   "execution_count": 6,
   "metadata": {
    "id": "4UoZn6KjSt6L"
   },
   "outputs": [],
   "source": [
    "data['days_employed'] = data['days_employed'].abs()"
   ]
  },
  {
   "cell_type": "markdown",
   "metadata": {
    "id": "FUqTjuYeSt6O"
   },
   "source": [
    "Теперь мы проверим как меняется среднее значение количества дней стажа в зависимости от возраста, используем группировку по столбцу *dob_years* и метод *agg()*."
   ]
  },
  {
   "cell_type": "code",
   "execution_count": 7,
   "metadata": {
    "colab": {
     "base_uri": "https://localhost:8080/",
     "height": 1000
    },
    "id": "_dJGFG57St6P",
    "outputId": "2b8a9177-8c50-41f2-8e19-04d6142c1342"
   },
   "outputs": [
    {
     "data": {
      "text/html": [
       "<div>\n",
       "<style scoped>\n",
       "    .dataframe tbody tr th:only-of-type {\n",
       "        vertical-align: middle;\n",
       "    }\n",
       "\n",
       "    .dataframe tbody tr th {\n",
       "        vertical-align: top;\n",
       "    }\n",
       "\n",
       "    .dataframe thead th {\n",
       "        text-align: right;\n",
       "    }\n",
       "</style>\n",
       "<table border=\"1\" class=\"dataframe\">\n",
       "  <thead>\n",
       "    <tr style=\"text-align: right;\">\n",
       "      <th></th>\n",
       "      <th>count</th>\n",
       "      <th>mean</th>\n",
       "    </tr>\n",
       "    <tr>\n",
       "      <th>dob_years</th>\n",
       "      <th></th>\n",
       "      <th></th>\n",
       "    </tr>\n",
       "  </thead>\n",
       "  <tbody>\n",
       "    <tr>\n",
       "      <th>0</th>\n",
       "      <td>91</td>\n",
       "      <td>69516.105102</td>\n",
       "    </tr>\n",
       "    <tr>\n",
       "      <th>19</th>\n",
       "      <td>13</td>\n",
       "      <td>633.678086</td>\n",
       "    </tr>\n",
       "    <tr>\n",
       "      <th>20</th>\n",
       "      <td>46</td>\n",
       "      <td>684.944308</td>\n",
       "    </tr>\n",
       "    <tr>\n",
       "      <th>21</th>\n",
       "      <td>93</td>\n",
       "      <td>709.440930</td>\n",
       "    </tr>\n",
       "    <tr>\n",
       "      <th>22</th>\n",
       "      <td>166</td>\n",
       "      <td>2793.321854</td>\n",
       "    </tr>\n",
       "    <tr>\n",
       "      <th>23</th>\n",
       "      <td>218</td>\n",
       "      <td>827.309437</td>\n",
       "    </tr>\n",
       "    <tr>\n",
       "      <th>24</th>\n",
       "      <td>243</td>\n",
       "      <td>1026.405485</td>\n",
       "    </tr>\n",
       "    <tr>\n",
       "      <th>25</th>\n",
       "      <td>334</td>\n",
       "      <td>1088.406453</td>\n",
       "    </tr>\n",
       "    <tr>\n",
       "      <th>26</th>\n",
       "      <td>373</td>\n",
       "      <td>3214.617245</td>\n",
       "    </tr>\n",
       "    <tr>\n",
       "      <th>27</th>\n",
       "      <td>457</td>\n",
       "      <td>3725.820728</td>\n",
       "    </tr>\n",
       "    <tr>\n",
       "      <th>28</th>\n",
       "      <td>446</td>\n",
       "      <td>2180.056457</td>\n",
       "    </tr>\n",
       "    <tr>\n",
       "      <th>29</th>\n",
       "      <td>495</td>\n",
       "      <td>1553.823200</td>\n",
       "    </tr>\n",
       "    <tr>\n",
       "      <th>30</th>\n",
       "      <td>482</td>\n",
       "      <td>1696.039355</td>\n",
       "    </tr>\n",
       "    <tr>\n",
       "      <th>31</th>\n",
       "      <td>495</td>\n",
       "      <td>2331.246721</td>\n",
       "    </tr>\n",
       "    <tr>\n",
       "      <th>32</th>\n",
       "      <td>473</td>\n",
       "      <td>3877.197466</td>\n",
       "    </tr>\n",
       "    <tr>\n",
       "      <th>33</th>\n",
       "      <td>530</td>\n",
       "      <td>3241.413096</td>\n",
       "    </tr>\n",
       "    <tr>\n",
       "      <th>34</th>\n",
       "      <td>534</td>\n",
       "      <td>4141.242883</td>\n",
       "    </tr>\n",
       "    <tr>\n",
       "      <th>35</th>\n",
       "      <td>553</td>\n",
       "      <td>2755.226484</td>\n",
       "    </tr>\n",
       "    <tr>\n",
       "      <th>36</th>\n",
       "      <td>492</td>\n",
       "      <td>4496.534938</td>\n",
       "    </tr>\n",
       "    <tr>\n",
       "      <th>37</th>\n",
       "      <td>484</td>\n",
       "      <td>5879.263440</td>\n",
       "    </tr>\n",
       "    <tr>\n",
       "      <th>38</th>\n",
       "      <td>544</td>\n",
       "      <td>7641.485465</td>\n",
       "    </tr>\n",
       "    <tr>\n",
       "      <th>39</th>\n",
       "      <td>522</td>\n",
       "      <td>5277.456460</td>\n",
       "    </tr>\n",
       "    <tr>\n",
       "      <th>40</th>\n",
       "      <td>543</td>\n",
       "      <td>7076.521918</td>\n",
       "    </tr>\n",
       "    <tr>\n",
       "      <th>41</th>\n",
       "      <td>548</td>\n",
       "      <td>6400.926359</td>\n",
       "    </tr>\n",
       "    <tr>\n",
       "      <th>42</th>\n",
       "      <td>532</td>\n",
       "      <td>8885.465110</td>\n",
       "    </tr>\n",
       "    <tr>\n",
       "      <th>43</th>\n",
       "      <td>463</td>\n",
       "      <td>9418.428468</td>\n",
       "    </tr>\n",
       "    <tr>\n",
       "      <th>44</th>\n",
       "      <td>503</td>\n",
       "      <td>9952.060042</td>\n",
       "    </tr>\n",
       "    <tr>\n",
       "      <th>45</th>\n",
       "      <td>447</td>\n",
       "      <td>11748.039481</td>\n",
       "    </tr>\n",
       "    <tr>\n",
       "      <th>46</th>\n",
       "      <td>427</td>\n",
       "      <td>14121.191502</td>\n",
       "    </tr>\n",
       "    <tr>\n",
       "      <th>47</th>\n",
       "      <td>421</td>\n",
       "      <td>14223.685900</td>\n",
       "    </tr>\n",
       "    <tr>\n",
       "      <th>48</th>\n",
       "      <td>492</td>\n",
       "      <td>18149.683912</td>\n",
       "    </tr>\n",
       "    <tr>\n",
       "      <th>49</th>\n",
       "      <td>458</td>\n",
       "      <td>26679.790846</td>\n",
       "    </tr>\n",
       "    <tr>\n",
       "      <th>50</th>\n",
       "      <td>463</td>\n",
       "      <td>50493.031018</td>\n",
       "    </tr>\n",
       "    <tr>\n",
       "      <th>51</th>\n",
       "      <td>398</td>\n",
       "      <td>68425.772762</td>\n",
       "    </tr>\n",
       "    <tr>\n",
       "      <th>52</th>\n",
       "      <td>431</td>\n",
       "      <td>82803.402429</td>\n",
       "    </tr>\n",
       "    <tr>\n",
       "      <th>53</th>\n",
       "      <td>415</td>\n",
       "      <td>94073.249426</td>\n",
       "    </tr>\n",
       "    <tr>\n",
       "      <th>54</th>\n",
       "      <td>424</td>\n",
       "      <td>126757.781831</td>\n",
       "    </tr>\n",
       "    <tr>\n",
       "      <th>55</th>\n",
       "      <td>395</td>\n",
       "      <td>152264.946612</td>\n",
       "    </tr>\n",
       "    <tr>\n",
       "      <th>56</th>\n",
       "      <td>433</td>\n",
       "      <td>157417.505013</td>\n",
       "    </tr>\n",
       "    <tr>\n",
       "      <th>57</th>\n",
       "      <td>404</td>\n",
       "      <td>193689.068297</td>\n",
       "    </tr>\n",
       "    <tr>\n",
       "      <th>58</th>\n",
       "      <td>405</td>\n",
       "      <td>188571.489818</td>\n",
       "    </tr>\n",
       "    <tr>\n",
       "      <th>59</th>\n",
       "      <td>410</td>\n",
       "      <td>227496.974028</td>\n",
       "    </tr>\n",
       "    <tr>\n",
       "      <th>60</th>\n",
       "      <td>338</td>\n",
       "      <td>262925.277586</td>\n",
       "    </tr>\n",
       "    <tr>\n",
       "      <th>61</th>\n",
       "      <td>317</td>\n",
       "      <td>246731.048849</td>\n",
       "    </tr>\n",
       "    <tr>\n",
       "      <th>62</th>\n",
       "      <td>314</td>\n",
       "      <td>274381.283863</td>\n",
       "    </tr>\n",
       "    <tr>\n",
       "      <th>63</th>\n",
       "      <td>240</td>\n",
       "      <td>293383.721011</td>\n",
       "    </tr>\n",
       "    <tr>\n",
       "      <th>64</th>\n",
       "      <td>228</td>\n",
       "      <td>287670.475737</td>\n",
       "    </tr>\n",
       "    <tr>\n",
       "      <th>65</th>\n",
       "      <td>174</td>\n",
       "      <td>287448.538552</td>\n",
       "    </tr>\n",
       "    <tr>\n",
       "      <th>66</th>\n",
       "      <td>163</td>\n",
       "      <td>313613.718234</td>\n",
       "    </tr>\n",
       "    <tr>\n",
       "      <th>67</th>\n",
       "      <td>151</td>\n",
       "      <td>317629.788586</td>\n",
       "    </tr>\n",
       "    <tr>\n",
       "      <th>68</th>\n",
       "      <td>90</td>\n",
       "      <td>326896.748566</td>\n",
       "    </tr>\n",
       "    <tr>\n",
       "      <th>69</th>\n",
       "      <td>80</td>\n",
       "      <td>338361.511981</td>\n",
       "    </tr>\n",
       "    <tr>\n",
       "      <th>70</th>\n",
       "      <td>62</td>\n",
       "      <td>318072.656240</td>\n",
       "    </tr>\n",
       "    <tr>\n",
       "      <th>71</th>\n",
       "      <td>53</td>\n",
       "      <td>332751.981663</td>\n",
       "    </tr>\n",
       "    <tr>\n",
       "      <th>72</th>\n",
       "      <td>31</td>\n",
       "      <td>333177.822570</td>\n",
       "    </tr>\n",
       "    <tr>\n",
       "      <th>73</th>\n",
       "      <td>7</td>\n",
       "      <td>313848.167175</td>\n",
       "    </tr>\n",
       "    <tr>\n",
       "      <th>74</th>\n",
       "      <td>6</td>\n",
       "      <td>241262.658935</td>\n",
       "    </tr>\n",
       "    <tr>\n",
       "      <th>75</th>\n",
       "      <td>1</td>\n",
       "      <td>1678.969771</td>\n",
       "    </tr>\n",
       "  </tbody>\n",
       "</table>\n",
       "</div>"
      ],
      "text/plain": [
       "           count           mean\n",
       "dob_years                      \n",
       "0             91   69516.105102\n",
       "19            13     633.678086\n",
       "20            46     684.944308\n",
       "21            93     709.440930\n",
       "22           166    2793.321854\n",
       "23           218     827.309437\n",
       "24           243    1026.405485\n",
       "25           334    1088.406453\n",
       "26           373    3214.617245\n",
       "27           457    3725.820728\n",
       "28           446    2180.056457\n",
       "29           495    1553.823200\n",
       "30           482    1696.039355\n",
       "31           495    2331.246721\n",
       "32           473    3877.197466\n",
       "33           530    3241.413096\n",
       "34           534    4141.242883\n",
       "35           553    2755.226484\n",
       "36           492    4496.534938\n",
       "37           484    5879.263440\n",
       "38           544    7641.485465\n",
       "39           522    5277.456460\n",
       "40           543    7076.521918\n",
       "41           548    6400.926359\n",
       "42           532    8885.465110\n",
       "43           463    9418.428468\n",
       "44           503    9952.060042\n",
       "45           447   11748.039481\n",
       "46           427   14121.191502\n",
       "47           421   14223.685900\n",
       "48           492   18149.683912\n",
       "49           458   26679.790846\n",
       "50           463   50493.031018\n",
       "51           398   68425.772762\n",
       "52           431   82803.402429\n",
       "53           415   94073.249426\n",
       "54           424  126757.781831\n",
       "55           395  152264.946612\n",
       "56           433  157417.505013\n",
       "57           404  193689.068297\n",
       "58           405  188571.489818\n",
       "59           410  227496.974028\n",
       "60           338  262925.277586\n",
       "61           317  246731.048849\n",
       "62           314  274381.283863\n",
       "63           240  293383.721011\n",
       "64           228  287670.475737\n",
       "65           174  287448.538552\n",
       "66           163  313613.718234\n",
       "67           151  317629.788586\n",
       "68            90  326896.748566\n",
       "69            80  338361.511981\n",
       "70            62  318072.656240\n",
       "71            53  332751.981663\n",
       "72            31  333177.822570\n",
       "73             7  313848.167175\n",
       "74             6  241262.658935\n",
       "75             1    1678.969771"
      ]
     },
     "execution_count": 7,
     "metadata": {},
     "output_type": "execute_result"
    }
   ],
   "source": [
    "data.groupby('dob_years')['days_employed'].agg(['count','mean'])"
   ]
  },
  {
   "cell_type": "markdown",
   "metadata": {
    "id": "vvZvcYj-St6R"
   },
   "source": [
    "Мы видим, что с увеличением возраста увеличивается и количество дней стажа. Поэтому для заполнения пропусков нам нужно разбить заёмщиков на группы по возрасту с шагом в десять лет, высчитать для каждой среднее число дней стажа и исправить наши данные.\n",
    "\n",
    "Также мы видим артефакт в переданных нам данных. Выделяются заёмщики с возрастом 0. Вряд ли 91 младенец со средним трудовым стажем в 70 тысяч дней обратился в банк за кредитом. Таких данных у нас менее 0.5%, поэтому мы можем избавиться от них без потери качества исследования."
   ]
  },
  {
   "cell_type": "code",
   "execution_count": 8,
   "metadata": {
    "id": "ETI84TcJSt6R"
   },
   "outputs": [],
   "source": [
    "data = data[data['dob_years'] != 0]"
   ]
  },
  {
   "cell_type": "markdown",
   "metadata": {
    "id": "4azUOEqtSt6T"
   },
   "source": [
    "Пропишем функцию, которая в зависимости от возраста клиента возвращала бы возрастную группу: *'30 лет и младше', 'от 31 до 40 лет', 'от 41 до 50 лет', 'от 51 до 60 лет', 'старше 60 лет'*. Затем добавим эти данные к нашей таблице в новый столбец *age_group*."
   ]
  },
  {
   "cell_type": "code",
   "execution_count": 9,
   "metadata": {
    "colab": {
     "base_uri": "https://localhost:8080/",
     "height": 533
    },
    "id": "0SZg2TdySt6U",
    "outputId": "7e3cd6d9-a82a-48aa-d729-d802cb28eb8a"
   },
   "outputs": [
    {
     "data": {
      "text/html": [
       "<div>\n",
       "<style scoped>\n",
       "    .dataframe tbody tr th:only-of-type {\n",
       "        vertical-align: middle;\n",
       "    }\n",
       "\n",
       "    .dataframe tbody tr th {\n",
       "        vertical-align: top;\n",
       "    }\n",
       "\n",
       "    .dataframe thead th {\n",
       "        text-align: right;\n",
       "    }\n",
       "</style>\n",
       "<table border=\"1\" class=\"dataframe\">\n",
       "  <thead>\n",
       "    <tr style=\"text-align: right;\">\n",
       "      <th></th>\n",
       "      <th>children</th>\n",
       "      <th>days_employed</th>\n",
       "      <th>dob_years</th>\n",
       "      <th>education</th>\n",
       "      <th>education_id</th>\n",
       "      <th>family_status</th>\n",
       "      <th>family_status_id</th>\n",
       "      <th>gender</th>\n",
       "      <th>income_type</th>\n",
       "      <th>debt</th>\n",
       "      <th>total_income</th>\n",
       "      <th>purpose</th>\n",
       "      <th>age_group</th>\n",
       "    </tr>\n",
       "  </thead>\n",
       "  <tbody>\n",
       "    <tr>\n",
       "      <th>0</th>\n",
       "      <td>1</td>\n",
       "      <td>8437.673028</td>\n",
       "      <td>42</td>\n",
       "      <td>высшее</td>\n",
       "      <td>0</td>\n",
       "      <td>женат / замужем</td>\n",
       "      <td>0</td>\n",
       "      <td>F</td>\n",
       "      <td>сотрудник</td>\n",
       "      <td>0</td>\n",
       "      <td>253875.639453</td>\n",
       "      <td>покупка жилья</td>\n",
       "      <td>от 41 до 50 лет</td>\n",
       "    </tr>\n",
       "    <tr>\n",
       "      <th>1</th>\n",
       "      <td>1</td>\n",
       "      <td>4024.803754</td>\n",
       "      <td>36</td>\n",
       "      <td>среднее</td>\n",
       "      <td>1</td>\n",
       "      <td>женат / замужем</td>\n",
       "      <td>0</td>\n",
       "      <td>F</td>\n",
       "      <td>сотрудник</td>\n",
       "      <td>0</td>\n",
       "      <td>112080.014102</td>\n",
       "      <td>приобретение автомобиля</td>\n",
       "      <td>от 31 до 40 лет</td>\n",
       "    </tr>\n",
       "    <tr>\n",
       "      <th>2</th>\n",
       "      <td>0</td>\n",
       "      <td>5623.422610</td>\n",
       "      <td>33</td>\n",
       "      <td>Среднее</td>\n",
       "      <td>1</td>\n",
       "      <td>женат / замужем</td>\n",
       "      <td>0</td>\n",
       "      <td>M</td>\n",
       "      <td>сотрудник</td>\n",
       "      <td>0</td>\n",
       "      <td>145885.952297</td>\n",
       "      <td>покупка жилья</td>\n",
       "      <td>от 31 до 40 лет</td>\n",
       "    </tr>\n",
       "    <tr>\n",
       "      <th>3</th>\n",
       "      <td>3</td>\n",
       "      <td>4124.747207</td>\n",
       "      <td>32</td>\n",
       "      <td>среднее</td>\n",
       "      <td>1</td>\n",
       "      <td>женат / замужем</td>\n",
       "      <td>0</td>\n",
       "      <td>M</td>\n",
       "      <td>сотрудник</td>\n",
       "      <td>0</td>\n",
       "      <td>267628.550329</td>\n",
       "      <td>дополнительное образование</td>\n",
       "      <td>от 31 до 40 лет</td>\n",
       "    </tr>\n",
       "    <tr>\n",
       "      <th>4</th>\n",
       "      <td>0</td>\n",
       "      <td>340266.072047</td>\n",
       "      <td>53</td>\n",
       "      <td>среднее</td>\n",
       "      <td>1</td>\n",
       "      <td>гражданский брак</td>\n",
       "      <td>1</td>\n",
       "      <td>F</td>\n",
       "      <td>пенсионер</td>\n",
       "      <td>0</td>\n",
       "      <td>158616.077870</td>\n",
       "      <td>сыграть свадьбу</td>\n",
       "      <td>от 51 до 60 лет</td>\n",
       "    </tr>\n",
       "    <tr>\n",
       "      <th>5</th>\n",
       "      <td>0</td>\n",
       "      <td>926.185831</td>\n",
       "      <td>27</td>\n",
       "      <td>высшее</td>\n",
       "      <td>0</td>\n",
       "      <td>гражданский брак</td>\n",
       "      <td>1</td>\n",
       "      <td>M</td>\n",
       "      <td>компаньон</td>\n",
       "      <td>0</td>\n",
       "      <td>255763.565419</td>\n",
       "      <td>покупка жилья</td>\n",
       "      <td>30 лет и младше</td>\n",
       "    </tr>\n",
       "    <tr>\n",
       "      <th>6</th>\n",
       "      <td>0</td>\n",
       "      <td>2879.202052</td>\n",
       "      <td>43</td>\n",
       "      <td>высшее</td>\n",
       "      <td>0</td>\n",
       "      <td>женат / замужем</td>\n",
       "      <td>0</td>\n",
       "      <td>F</td>\n",
       "      <td>компаньон</td>\n",
       "      <td>0</td>\n",
       "      <td>240525.971920</td>\n",
       "      <td>операции с жильем</td>\n",
       "      <td>от 41 до 50 лет</td>\n",
       "    </tr>\n",
       "    <tr>\n",
       "      <th>7</th>\n",
       "      <td>0</td>\n",
       "      <td>152.779569</td>\n",
       "      <td>50</td>\n",
       "      <td>СРЕДНЕЕ</td>\n",
       "      <td>1</td>\n",
       "      <td>женат / замужем</td>\n",
       "      <td>0</td>\n",
       "      <td>M</td>\n",
       "      <td>сотрудник</td>\n",
       "      <td>0</td>\n",
       "      <td>135823.934197</td>\n",
       "      <td>образование</td>\n",
       "      <td>от 41 до 50 лет</td>\n",
       "    </tr>\n",
       "    <tr>\n",
       "      <th>8</th>\n",
       "      <td>2</td>\n",
       "      <td>6929.865299</td>\n",
       "      <td>35</td>\n",
       "      <td>ВЫСШЕЕ</td>\n",
       "      <td>0</td>\n",
       "      <td>гражданский брак</td>\n",
       "      <td>1</td>\n",
       "      <td>F</td>\n",
       "      <td>сотрудник</td>\n",
       "      <td>0</td>\n",
       "      <td>95856.832424</td>\n",
       "      <td>на проведение свадьбы</td>\n",
       "      <td>от 31 до 40 лет</td>\n",
       "    </tr>\n",
       "    <tr>\n",
       "      <th>9</th>\n",
       "      <td>0</td>\n",
       "      <td>2188.756445</td>\n",
       "      <td>41</td>\n",
       "      <td>среднее</td>\n",
       "      <td>1</td>\n",
       "      <td>женат / замужем</td>\n",
       "      <td>0</td>\n",
       "      <td>M</td>\n",
       "      <td>сотрудник</td>\n",
       "      <td>0</td>\n",
       "      <td>144425.938277</td>\n",
       "      <td>покупка жилья для семьи</td>\n",
       "      <td>от 41 до 50 лет</td>\n",
       "    </tr>\n",
       "    <tr>\n",
       "      <th>10</th>\n",
       "      <td>2</td>\n",
       "      <td>4171.483647</td>\n",
       "      <td>36</td>\n",
       "      <td>высшее</td>\n",
       "      <td>0</td>\n",
       "      <td>женат / замужем</td>\n",
       "      <td>0</td>\n",
       "      <td>M</td>\n",
       "      <td>компаньон</td>\n",
       "      <td>0</td>\n",
       "      <td>113943.491460</td>\n",
       "      <td>покупка недвижимости</td>\n",
       "      <td>от 31 до 40 лет</td>\n",
       "    </tr>\n",
       "    <tr>\n",
       "      <th>11</th>\n",
       "      <td>0</td>\n",
       "      <td>792.701887</td>\n",
       "      <td>40</td>\n",
       "      <td>среднее</td>\n",
       "      <td>1</td>\n",
       "      <td>женат / замужем</td>\n",
       "      <td>0</td>\n",
       "      <td>F</td>\n",
       "      <td>сотрудник</td>\n",
       "      <td>0</td>\n",
       "      <td>77069.234271</td>\n",
       "      <td>покупка коммерческой недвижимости</td>\n",
       "      <td>от 31 до 40 лет</td>\n",
       "    </tr>\n",
       "    <tr>\n",
       "      <th>12</th>\n",
       "      <td>0</td>\n",
       "      <td>NaN</td>\n",
       "      <td>65</td>\n",
       "      <td>среднее</td>\n",
       "      <td>1</td>\n",
       "      <td>гражданский брак</td>\n",
       "      <td>1</td>\n",
       "      <td>M</td>\n",
       "      <td>пенсионер</td>\n",
       "      <td>0</td>\n",
       "      <td>NaN</td>\n",
       "      <td>сыграть свадьбу</td>\n",
       "      <td>старше 60 лет</td>\n",
       "    </tr>\n",
       "    <tr>\n",
       "      <th>13</th>\n",
       "      <td>0</td>\n",
       "      <td>1846.641941</td>\n",
       "      <td>54</td>\n",
       "      <td>неоконченное высшее</td>\n",
       "      <td>2</td>\n",
       "      <td>женат / замужем</td>\n",
       "      <td>0</td>\n",
       "      <td>F</td>\n",
       "      <td>сотрудник</td>\n",
       "      <td>0</td>\n",
       "      <td>130458.228857</td>\n",
       "      <td>приобретение автомобиля</td>\n",
       "      <td>от 51 до 60 лет</td>\n",
       "    </tr>\n",
       "    <tr>\n",
       "      <th>14</th>\n",
       "      <td>0</td>\n",
       "      <td>1844.956182</td>\n",
       "      <td>56</td>\n",
       "      <td>высшее</td>\n",
       "      <td>0</td>\n",
       "      <td>гражданский брак</td>\n",
       "      <td>1</td>\n",
       "      <td>F</td>\n",
       "      <td>компаньон</td>\n",
       "      <td>1</td>\n",
       "      <td>165127.911772</td>\n",
       "      <td>покупка жилой недвижимости</td>\n",
       "      <td>от 51 до 60 лет</td>\n",
       "    </tr>\n",
       "  </tbody>\n",
       "</table>\n",
       "</div>"
      ],
      "text/plain": [
       "    children  days_employed  dob_years            education  education_id  \\\n",
       "0          1    8437.673028         42               высшее             0   \n",
       "1          1    4024.803754         36              среднее             1   \n",
       "2          0    5623.422610         33              Среднее             1   \n",
       "3          3    4124.747207         32              среднее             1   \n",
       "4          0  340266.072047         53              среднее             1   \n",
       "5          0     926.185831         27               высшее             0   \n",
       "6          0    2879.202052         43               высшее             0   \n",
       "7          0     152.779569         50              СРЕДНЕЕ             1   \n",
       "8          2    6929.865299         35               ВЫСШЕЕ             0   \n",
       "9          0    2188.756445         41              среднее             1   \n",
       "10         2    4171.483647         36               высшее             0   \n",
       "11         0     792.701887         40              среднее             1   \n",
       "12         0            NaN         65              среднее             1   \n",
       "13         0    1846.641941         54  неоконченное высшее             2   \n",
       "14         0    1844.956182         56               высшее             0   \n",
       "\n",
       "       family_status  family_status_id gender income_type  debt  \\\n",
       "0    женат / замужем                 0      F   сотрудник     0   \n",
       "1    женат / замужем                 0      F   сотрудник     0   \n",
       "2    женат / замужем                 0      M   сотрудник     0   \n",
       "3    женат / замужем                 0      M   сотрудник     0   \n",
       "4   гражданский брак                 1      F   пенсионер     0   \n",
       "5   гражданский брак                 1      M   компаньон     0   \n",
       "6    женат / замужем                 0      F   компаньон     0   \n",
       "7    женат / замужем                 0      M   сотрудник     0   \n",
       "8   гражданский брак                 1      F   сотрудник     0   \n",
       "9    женат / замужем                 0      M   сотрудник     0   \n",
       "10   женат / замужем                 0      M   компаньон     0   \n",
       "11   женат / замужем                 0      F   сотрудник     0   \n",
       "12  гражданский брак                 1      M   пенсионер     0   \n",
       "13   женат / замужем                 0      F   сотрудник     0   \n",
       "14  гражданский брак                 1      F   компаньон     1   \n",
       "\n",
       "     total_income                            purpose        age_group  \n",
       "0   253875.639453                      покупка жилья  от 41 до 50 лет  \n",
       "1   112080.014102            приобретение автомобиля  от 31 до 40 лет  \n",
       "2   145885.952297                      покупка жилья  от 31 до 40 лет  \n",
       "3   267628.550329         дополнительное образование  от 31 до 40 лет  \n",
       "4   158616.077870                    сыграть свадьбу  от 51 до 60 лет  \n",
       "5   255763.565419                      покупка жилья  30 лет и младше  \n",
       "6   240525.971920                  операции с жильем  от 41 до 50 лет  \n",
       "7   135823.934197                        образование  от 41 до 50 лет  \n",
       "8    95856.832424              на проведение свадьбы  от 31 до 40 лет  \n",
       "9   144425.938277            покупка жилья для семьи  от 41 до 50 лет  \n",
       "10  113943.491460               покупка недвижимости  от 31 до 40 лет  \n",
       "11   77069.234271  покупка коммерческой недвижимости  от 31 до 40 лет  \n",
       "12            NaN                    сыграть свадьбу    старше 60 лет  \n",
       "13  130458.228857            приобретение автомобиля  от 51 до 60 лет  \n",
       "14  165127.911772         покупка жилой недвижимости  от 51 до 60 лет  "
      ]
     },
     "execution_count": 9,
     "metadata": {},
     "output_type": "execute_result"
    }
   ],
   "source": [
    "def age_group(age):\n",
    "    if age <= 30:\n",
    "        return '30 лет и младше'\n",
    "    if 30 < age <= 40:\n",
    "        return 'от 31 до 40 лет'\n",
    "    if 40 < age <= 50:\n",
    "        return 'от 41 до 50 лет'\n",
    "    if 50 < age <= 60:\n",
    "        return 'от 51 до 60 лет'\n",
    "    return 'старше 60 лет'\n",
    "\n",
    "data['age_group'] = data['dob_years'].apply(age_group)\n",
    "data.head(15)"
   ]
  },
  {
   "cell_type": "markdown",
   "metadata": {
    "id": "iDEkZQyOSt6W"
   },
   "source": [
    "Знакомым нам уже методом группировки выведем сводную таблицу, отражающую среднюю величину трудового стажа в днях по возрастным группам."
   ]
  },
  {
   "cell_type": "code",
   "execution_count": 10,
   "metadata": {
    "colab": {
     "base_uri": "https://localhost:8080/",
     "height": 226
    },
    "id": "63Bv0MqtSt6X",
    "outputId": "48f6577e-93fb-4544-ccf5-4dc388abfc56"
   },
   "outputs": [
    {
     "data": {
      "text/html": [
       "<div>\n",
       "<style scoped>\n",
       "    .dataframe tbody tr th:only-of-type {\n",
       "        vertical-align: middle;\n",
       "    }\n",
       "\n",
       "    .dataframe tbody tr th {\n",
       "        vertical-align: top;\n",
       "    }\n",
       "\n",
       "    .dataframe thead th {\n",
       "        text-align: right;\n",
       "    }\n",
       "</style>\n",
       "<table border=\"1\" class=\"dataframe\">\n",
       "  <thead>\n",
       "    <tr style=\"text-align: right;\">\n",
       "      <th></th>\n",
       "      <th>mean</th>\n",
       "    </tr>\n",
       "    <tr>\n",
       "      <th>age_group</th>\n",
       "      <th></th>\n",
       "    </tr>\n",
       "  </thead>\n",
       "  <tbody>\n",
       "    <tr>\n",
       "      <th>30 лет и младше</th>\n",
       "      <td>2027.154893</td>\n",
       "    </tr>\n",
       "    <tr>\n",
       "      <th>от 31 до 40 лет</th>\n",
       "      <td>4691.122800</td>\n",
       "    </tr>\n",
       "    <tr>\n",
       "      <th>от 41 до 50 лет</th>\n",
       "      <td>16701.293627</td>\n",
       "    </tr>\n",
       "    <tr>\n",
       "      <th>от 51 до 60 лет</th>\n",
       "      <td>153165.111212</td>\n",
       "    </tr>\n",
       "    <tr>\n",
       "      <th>старше 60 лет</th>\n",
       "      <td>290708.554837</td>\n",
       "    </tr>\n",
       "  </tbody>\n",
       "</table>\n",
       "</div>"
      ],
      "text/plain": [
       "                          mean\n",
       "age_group                     \n",
       "30 лет и младше    2027.154893\n",
       "от 31 до 40 лет    4691.122800\n",
       "от 41 до 50 лет   16701.293627\n",
       "от 51 до 60 лет  153165.111212\n",
       "старше 60 лет    290708.554837"
      ]
     },
     "execution_count": 10,
     "metadata": {},
     "output_type": "execute_result"
    }
   ],
   "source": [
    "mean_days_employed = data.groupby('age_group')['days_employed'].agg(['mean'])\n",
    "mean_days_employed"
   ]
  },
  {
   "cell_type": "markdown",
   "metadata": {
    "id": "o--91UO-St6Z"
   },
   "source": [
    "Теперь мы можем заполнить недостающие значения в столбце *days_employed*. Для начала присвоим пропущенным данным значение 0, а затем, отыскав по условию нужные строчки, присвоим им значение *mean* из таблицы *mean_days_employed*."
   ]
  },
  {
   "cell_type": "code",
   "execution_count": 11,
   "metadata": {
    "colab": {
     "base_uri": "https://localhost:8080/"
    },
    "id": "inU2_meSSt6a",
    "outputId": "0757fffb-141b-4f4d-8c4e-4824a94b8936"
   },
   "outputs": [],
   "source": [
    "data['days_employed'] = data['days_employed'].fillna(0)"
   ]
  },
  {
   "cell_type": "code",
   "execution_count": 12,
   "metadata": {},
   "outputs": [
    {
     "data": {
      "text/html": [
       "<div>\n",
       "<style scoped>\n",
       "    .dataframe tbody tr th:only-of-type {\n",
       "        vertical-align: middle;\n",
       "    }\n",
       "\n",
       "    .dataframe tbody tr th {\n",
       "        vertical-align: top;\n",
       "    }\n",
       "\n",
       "    .dataframe thead th {\n",
       "        text-align: right;\n",
       "    }\n",
       "</style>\n",
       "<table border=\"1\" class=\"dataframe\">\n",
       "  <thead>\n",
       "    <tr style=\"text-align: right;\">\n",
       "      <th></th>\n",
       "      <th>children</th>\n",
       "      <th>days_employed</th>\n",
       "      <th>dob_years</th>\n",
       "      <th>education</th>\n",
       "      <th>education_id</th>\n",
       "      <th>family_status</th>\n",
       "      <th>family_status_id</th>\n",
       "      <th>gender</th>\n",
       "      <th>income_type</th>\n",
       "      <th>debt</th>\n",
       "      <th>total_income</th>\n",
       "      <th>purpose</th>\n",
       "      <th>age_group</th>\n",
       "    </tr>\n",
       "  </thead>\n",
       "  <tbody>\n",
       "    <tr>\n",
       "      <th>0</th>\n",
       "      <td>1</td>\n",
       "      <td>8437.673028</td>\n",
       "      <td>42</td>\n",
       "      <td>высшее</td>\n",
       "      <td>0</td>\n",
       "      <td>женат / замужем</td>\n",
       "      <td>0</td>\n",
       "      <td>F</td>\n",
       "      <td>сотрудник</td>\n",
       "      <td>0</td>\n",
       "      <td>253875.639453</td>\n",
       "      <td>покупка жилья</td>\n",
       "      <td>от 41 до 50 лет</td>\n",
       "    </tr>\n",
       "    <tr>\n",
       "      <th>1</th>\n",
       "      <td>1</td>\n",
       "      <td>4024.803754</td>\n",
       "      <td>36</td>\n",
       "      <td>среднее</td>\n",
       "      <td>1</td>\n",
       "      <td>женат / замужем</td>\n",
       "      <td>0</td>\n",
       "      <td>F</td>\n",
       "      <td>сотрудник</td>\n",
       "      <td>0</td>\n",
       "      <td>112080.014102</td>\n",
       "      <td>приобретение автомобиля</td>\n",
       "      <td>от 31 до 40 лет</td>\n",
       "    </tr>\n",
       "    <tr>\n",
       "      <th>2</th>\n",
       "      <td>0</td>\n",
       "      <td>5623.422610</td>\n",
       "      <td>33</td>\n",
       "      <td>Среднее</td>\n",
       "      <td>1</td>\n",
       "      <td>женат / замужем</td>\n",
       "      <td>0</td>\n",
       "      <td>M</td>\n",
       "      <td>сотрудник</td>\n",
       "      <td>0</td>\n",
       "      <td>145885.952297</td>\n",
       "      <td>покупка жилья</td>\n",
       "      <td>от 31 до 40 лет</td>\n",
       "    </tr>\n",
       "    <tr>\n",
       "      <th>3</th>\n",
       "      <td>3</td>\n",
       "      <td>4124.747207</td>\n",
       "      <td>32</td>\n",
       "      <td>среднее</td>\n",
       "      <td>1</td>\n",
       "      <td>женат / замужем</td>\n",
       "      <td>0</td>\n",
       "      <td>M</td>\n",
       "      <td>сотрудник</td>\n",
       "      <td>0</td>\n",
       "      <td>267628.550329</td>\n",
       "      <td>дополнительное образование</td>\n",
       "      <td>от 31 до 40 лет</td>\n",
       "    </tr>\n",
       "    <tr>\n",
       "      <th>4</th>\n",
       "      <td>0</td>\n",
       "      <td>340266.072047</td>\n",
       "      <td>53</td>\n",
       "      <td>среднее</td>\n",
       "      <td>1</td>\n",
       "      <td>гражданский брак</td>\n",
       "      <td>1</td>\n",
       "      <td>F</td>\n",
       "      <td>пенсионер</td>\n",
       "      <td>0</td>\n",
       "      <td>158616.077870</td>\n",
       "      <td>сыграть свадьбу</td>\n",
       "      <td>от 51 до 60 лет</td>\n",
       "    </tr>\n",
       "    <tr>\n",
       "      <th>5</th>\n",
       "      <td>0</td>\n",
       "      <td>926.185831</td>\n",
       "      <td>27</td>\n",
       "      <td>высшее</td>\n",
       "      <td>0</td>\n",
       "      <td>гражданский брак</td>\n",
       "      <td>1</td>\n",
       "      <td>M</td>\n",
       "      <td>компаньон</td>\n",
       "      <td>0</td>\n",
       "      <td>255763.565419</td>\n",
       "      <td>покупка жилья</td>\n",
       "      <td>30 лет и младше</td>\n",
       "    </tr>\n",
       "    <tr>\n",
       "      <th>6</th>\n",
       "      <td>0</td>\n",
       "      <td>2879.202052</td>\n",
       "      <td>43</td>\n",
       "      <td>высшее</td>\n",
       "      <td>0</td>\n",
       "      <td>женат / замужем</td>\n",
       "      <td>0</td>\n",
       "      <td>F</td>\n",
       "      <td>компаньон</td>\n",
       "      <td>0</td>\n",
       "      <td>240525.971920</td>\n",
       "      <td>операции с жильем</td>\n",
       "      <td>от 41 до 50 лет</td>\n",
       "    </tr>\n",
       "    <tr>\n",
       "      <th>7</th>\n",
       "      <td>0</td>\n",
       "      <td>152.779569</td>\n",
       "      <td>50</td>\n",
       "      <td>СРЕДНЕЕ</td>\n",
       "      <td>1</td>\n",
       "      <td>женат / замужем</td>\n",
       "      <td>0</td>\n",
       "      <td>M</td>\n",
       "      <td>сотрудник</td>\n",
       "      <td>0</td>\n",
       "      <td>135823.934197</td>\n",
       "      <td>образование</td>\n",
       "      <td>от 41 до 50 лет</td>\n",
       "    </tr>\n",
       "    <tr>\n",
       "      <th>8</th>\n",
       "      <td>2</td>\n",
       "      <td>6929.865299</td>\n",
       "      <td>35</td>\n",
       "      <td>ВЫСШЕЕ</td>\n",
       "      <td>0</td>\n",
       "      <td>гражданский брак</td>\n",
       "      <td>1</td>\n",
       "      <td>F</td>\n",
       "      <td>сотрудник</td>\n",
       "      <td>0</td>\n",
       "      <td>95856.832424</td>\n",
       "      <td>на проведение свадьбы</td>\n",
       "      <td>от 31 до 40 лет</td>\n",
       "    </tr>\n",
       "    <tr>\n",
       "      <th>9</th>\n",
       "      <td>0</td>\n",
       "      <td>2188.756445</td>\n",
       "      <td>41</td>\n",
       "      <td>среднее</td>\n",
       "      <td>1</td>\n",
       "      <td>женат / замужем</td>\n",
       "      <td>0</td>\n",
       "      <td>M</td>\n",
       "      <td>сотрудник</td>\n",
       "      <td>0</td>\n",
       "      <td>144425.938277</td>\n",
       "      <td>покупка жилья для семьи</td>\n",
       "      <td>от 41 до 50 лет</td>\n",
       "    </tr>\n",
       "    <tr>\n",
       "      <th>10</th>\n",
       "      <td>2</td>\n",
       "      <td>4171.483647</td>\n",
       "      <td>36</td>\n",
       "      <td>высшее</td>\n",
       "      <td>0</td>\n",
       "      <td>женат / замужем</td>\n",
       "      <td>0</td>\n",
       "      <td>M</td>\n",
       "      <td>компаньон</td>\n",
       "      <td>0</td>\n",
       "      <td>113943.491460</td>\n",
       "      <td>покупка недвижимости</td>\n",
       "      <td>от 31 до 40 лет</td>\n",
       "    </tr>\n",
       "    <tr>\n",
       "      <th>11</th>\n",
       "      <td>0</td>\n",
       "      <td>792.701887</td>\n",
       "      <td>40</td>\n",
       "      <td>среднее</td>\n",
       "      <td>1</td>\n",
       "      <td>женат / замужем</td>\n",
       "      <td>0</td>\n",
       "      <td>F</td>\n",
       "      <td>сотрудник</td>\n",
       "      <td>0</td>\n",
       "      <td>77069.234271</td>\n",
       "      <td>покупка коммерческой недвижимости</td>\n",
       "      <td>от 31 до 40 лет</td>\n",
       "    </tr>\n",
       "    <tr>\n",
       "      <th>12</th>\n",
       "      <td>0</td>\n",
       "      <td>290708.554837</td>\n",
       "      <td>65</td>\n",
       "      <td>среднее</td>\n",
       "      <td>1</td>\n",
       "      <td>гражданский брак</td>\n",
       "      <td>1</td>\n",
       "      <td>M</td>\n",
       "      <td>пенсионер</td>\n",
       "      <td>0</td>\n",
       "      <td>NaN</td>\n",
       "      <td>сыграть свадьбу</td>\n",
       "      <td>старше 60 лет</td>\n",
       "    </tr>\n",
       "    <tr>\n",
       "      <th>13</th>\n",
       "      <td>0</td>\n",
       "      <td>1846.641941</td>\n",
       "      <td>54</td>\n",
       "      <td>неоконченное высшее</td>\n",
       "      <td>2</td>\n",
       "      <td>женат / замужем</td>\n",
       "      <td>0</td>\n",
       "      <td>F</td>\n",
       "      <td>сотрудник</td>\n",
       "      <td>0</td>\n",
       "      <td>130458.228857</td>\n",
       "      <td>приобретение автомобиля</td>\n",
       "      <td>от 51 до 60 лет</td>\n",
       "    </tr>\n",
       "    <tr>\n",
       "      <th>14</th>\n",
       "      <td>0</td>\n",
       "      <td>1844.956182</td>\n",
       "      <td>56</td>\n",
       "      <td>высшее</td>\n",
       "      <td>0</td>\n",
       "      <td>гражданский брак</td>\n",
       "      <td>1</td>\n",
       "      <td>F</td>\n",
       "      <td>компаньон</td>\n",
       "      <td>1</td>\n",
       "      <td>165127.911772</td>\n",
       "      <td>покупка жилой недвижимости</td>\n",
       "      <td>от 51 до 60 лет</td>\n",
       "    </tr>\n",
       "  </tbody>\n",
       "</table>\n",
       "</div>"
      ],
      "text/plain": [
       "    children  days_employed  dob_years            education  education_id  \\\n",
       "0          1    8437.673028         42               высшее             0   \n",
       "1          1    4024.803754         36              среднее             1   \n",
       "2          0    5623.422610         33              Среднее             1   \n",
       "3          3    4124.747207         32              среднее             1   \n",
       "4          0  340266.072047         53              среднее             1   \n",
       "5          0     926.185831         27               высшее             0   \n",
       "6          0    2879.202052         43               высшее             0   \n",
       "7          0     152.779569         50              СРЕДНЕЕ             1   \n",
       "8          2    6929.865299         35               ВЫСШЕЕ             0   \n",
       "9          0    2188.756445         41              среднее             1   \n",
       "10         2    4171.483647         36               высшее             0   \n",
       "11         0     792.701887         40              среднее             1   \n",
       "12         0  290708.554837         65              среднее             1   \n",
       "13         0    1846.641941         54  неоконченное высшее             2   \n",
       "14         0    1844.956182         56               высшее             0   \n",
       "\n",
       "       family_status  family_status_id gender income_type  debt  \\\n",
       "0    женат / замужем                 0      F   сотрудник     0   \n",
       "1    женат / замужем                 0      F   сотрудник     0   \n",
       "2    женат / замужем                 0      M   сотрудник     0   \n",
       "3    женат / замужем                 0      M   сотрудник     0   \n",
       "4   гражданский брак                 1      F   пенсионер     0   \n",
       "5   гражданский брак                 1      M   компаньон     0   \n",
       "6    женат / замужем                 0      F   компаньон     0   \n",
       "7    женат / замужем                 0      M   сотрудник     0   \n",
       "8   гражданский брак                 1      F   сотрудник     0   \n",
       "9    женат / замужем                 0      M   сотрудник     0   \n",
       "10   женат / замужем                 0      M   компаньон     0   \n",
       "11   женат / замужем                 0      F   сотрудник     0   \n",
       "12  гражданский брак                 1      M   пенсионер     0   \n",
       "13   женат / замужем                 0      F   сотрудник     0   \n",
       "14  гражданский брак                 1      F   компаньон     1   \n",
       "\n",
       "     total_income                            purpose        age_group  \n",
       "0   253875.639453                      покупка жилья  от 41 до 50 лет  \n",
       "1   112080.014102            приобретение автомобиля  от 31 до 40 лет  \n",
       "2   145885.952297                      покупка жилья  от 31 до 40 лет  \n",
       "3   267628.550329         дополнительное образование  от 31 до 40 лет  \n",
       "4   158616.077870                    сыграть свадьбу  от 51 до 60 лет  \n",
       "5   255763.565419                      покупка жилья  30 лет и младше  \n",
       "6   240525.971920                  операции с жильем  от 41 до 50 лет  \n",
       "7   135823.934197                        образование  от 41 до 50 лет  \n",
       "8    95856.832424              на проведение свадьбы  от 31 до 40 лет  \n",
       "9   144425.938277            покупка жилья для семьи  от 41 до 50 лет  \n",
       "10  113943.491460               покупка недвижимости  от 31 до 40 лет  \n",
       "11   77069.234271  покупка коммерческой недвижимости  от 31 до 40 лет  \n",
       "12            NaN                    сыграть свадьбу    старше 60 лет  \n",
       "13  130458.228857            приобретение автомобиля  от 51 до 60 лет  \n",
       "14  165127.911772         покупка жилой недвижимости  от 51 до 60 лет  "
      ]
     },
     "execution_count": 12,
     "metadata": {},
     "output_type": "execute_result"
    }
   ],
   "source": [
    "def mean_days(age_group):\n",
    "    if age_group == '30 лет и младше':\n",
    "        return mean_days_employed['mean'][0]\n",
    "    if age_group == 'от 31 до 40 лет':\n",
    "        return mean_days_employed['mean'][1]\n",
    "    if age_group == 'от 41 до 50 лет':\n",
    "        return mean_days_employed['mean'][2]\n",
    "    if age_group == 'от 51 до 60 лет':\n",
    "        return mean_days_employed['mean'][3]\n",
    "    if age_group == 'старше 60 лет':\n",
    "        return mean_days_employed['mean'][4]\n",
    "\n",
    "data.loc[data['days_employed'] == 0, 'days_employed'] = data['age_group'].apply(mean_days)\n",
    "data.head(15)"
   ]
  },
  {
   "cell_type": "markdown",
   "metadata": {
    "id": "goV50N35St6e"
   },
   "source": [
    "Как мы видим, пустых строчек в столбце *days_employed* не осталось. Теперь разберёмся с пропусками в столбце с ежемесячным доходом. Проверим, как соотносится ежемесячный доход клиента с его типом занятости, стажем работы (для удобства возьмём возрастные группы) и образованием. "
   ]
  },
  {
   "cell_type": "code",
   "execution_count": 13,
   "metadata": {
    "colab": {
     "base_uri": "https://localhost:8080/",
     "height": 316
    },
    "id": "YbaEJToVSt6e",
    "outputId": "7d53f199-aa44-4f27-818f-391019758fbe"
   },
   "outputs": [
    {
     "data": {
      "text/html": [
       "<div>\n",
       "<style scoped>\n",
       "    .dataframe tbody tr th:only-of-type {\n",
       "        vertical-align: middle;\n",
       "    }\n",
       "\n",
       "    .dataframe tbody tr th {\n",
       "        vertical-align: top;\n",
       "    }\n",
       "\n",
       "    .dataframe thead th {\n",
       "        text-align: right;\n",
       "    }\n",
       "</style>\n",
       "<table border=\"1\" class=\"dataframe\">\n",
       "  <thead>\n",
       "    <tr style=\"text-align: right;\">\n",
       "      <th></th>\n",
       "      <th>count</th>\n",
       "      <th>mean</th>\n",
       "      <th>median</th>\n",
       "    </tr>\n",
       "    <tr>\n",
       "      <th>income_type</th>\n",
       "      <th></th>\n",
       "      <th></th>\n",
       "      <th></th>\n",
       "    </tr>\n",
       "  </thead>\n",
       "  <tbody>\n",
       "    <tr>\n",
       "      <th>безработный</th>\n",
       "      <td>2</td>\n",
       "      <td>131339.751676</td>\n",
       "      <td>131339.751676</td>\n",
       "    </tr>\n",
       "    <tr>\n",
       "      <th>в декрете</th>\n",
       "      <td>1</td>\n",
       "      <td>53829.130729</td>\n",
       "      <td>53829.130729</td>\n",
       "    </tr>\n",
       "    <tr>\n",
       "      <th>госслужащий</th>\n",
       "      <td>1306</td>\n",
       "      <td>171008.225815</td>\n",
       "      <td>150521.917580</td>\n",
       "    </tr>\n",
       "    <tr>\n",
       "      <th>компаньон</th>\n",
       "      <td>4559</td>\n",
       "      <td>202483.482019</td>\n",
       "      <td>172280.581712</td>\n",
       "    </tr>\n",
       "    <tr>\n",
       "      <th>пенсионер</th>\n",
       "      <td>3426</td>\n",
       "      <td>137120.690001</td>\n",
       "      <td>118557.179415</td>\n",
       "    </tr>\n",
       "    <tr>\n",
       "      <th>предприниматель</th>\n",
       "      <td>1</td>\n",
       "      <td>499163.144947</td>\n",
       "      <td>499163.144947</td>\n",
       "    </tr>\n",
       "    <tr>\n",
       "      <th>сотрудник</th>\n",
       "      <td>9964</td>\n",
       "      <td>161404.247418</td>\n",
       "      <td>142594.396847</td>\n",
       "    </tr>\n",
       "    <tr>\n",
       "      <th>студент</th>\n",
       "      <td>1</td>\n",
       "      <td>98201.625314</td>\n",
       "      <td>98201.625314</td>\n",
       "    </tr>\n",
       "  </tbody>\n",
       "</table>\n",
       "</div>"
      ],
      "text/plain": [
       "                 count           mean         median\n",
       "income_type                                         \n",
       "безработный          2  131339.751676  131339.751676\n",
       "в декрете            1   53829.130729   53829.130729\n",
       "госслужащий       1306  171008.225815  150521.917580\n",
       "компаньон         4559  202483.482019  172280.581712\n",
       "пенсионер         3426  137120.690001  118557.179415\n",
       "предприниматель      1  499163.144947  499163.144947\n",
       "сотрудник         9964  161404.247418  142594.396847\n",
       "студент              1   98201.625314   98201.625314"
      ]
     },
     "execution_count": 13,
     "metadata": {},
     "output_type": "execute_result"
    }
   ],
   "source": [
    "data.groupby('income_type')['total_income'].agg(['count','mean', 'median'])"
   ]
  },
  {
   "cell_type": "code",
   "execution_count": 14,
   "metadata": {
    "colab": {
     "base_uri": "https://localhost:8080/",
     "height": 226
    },
    "id": "XJF9qf3iSt6h",
    "outputId": "10982aa9-565c-44c0-ab14-4847ab4586b4"
   },
   "outputs": [
    {
     "data": {
      "text/html": [
       "<div>\n",
       "<style scoped>\n",
       "    .dataframe tbody tr th:only-of-type {\n",
       "        vertical-align: middle;\n",
       "    }\n",
       "\n",
       "    .dataframe tbody tr th {\n",
       "        vertical-align: top;\n",
       "    }\n",
       "\n",
       "    .dataframe thead th {\n",
       "        text-align: right;\n",
       "    }\n",
       "</style>\n",
       "<table border=\"1\" class=\"dataframe\">\n",
       "  <thead>\n",
       "    <tr style=\"text-align: right;\">\n",
       "      <th></th>\n",
       "      <th>count</th>\n",
       "      <th>mean</th>\n",
       "      <th>median</th>\n",
       "    </tr>\n",
       "    <tr>\n",
       "      <th>age_group</th>\n",
       "      <th></th>\n",
       "      <th></th>\n",
       "      <th></th>\n",
       "    </tr>\n",
       "  </thead>\n",
       "  <tbody>\n",
       "    <tr>\n",
       "      <th>30 лет и младше</th>\n",
       "      <td>3366</td>\n",
       "      <td>161360.467702</td>\n",
       "      <td>143482.406904</td>\n",
       "    </tr>\n",
       "    <tr>\n",
       "      <th>от 31 до 40 лет</th>\n",
       "      <td>5170</td>\n",
       "      <td>177354.594640</td>\n",
       "      <td>155157.414803</td>\n",
       "    </tr>\n",
       "    <tr>\n",
       "      <th>от 41 до 50 лет</th>\n",
       "      <td>4754</td>\n",
       "      <td>177438.794269</td>\n",
       "      <td>153562.300598</td>\n",
       "    </tr>\n",
       "    <tr>\n",
       "      <th>от 51 до 60 лет</th>\n",
       "      <td>4053</td>\n",
       "      <td>159267.851798</td>\n",
       "      <td>137854.819127</td>\n",
       "    </tr>\n",
       "    <tr>\n",
       "      <th>старше 60 лет</th>\n",
       "      <td>1917</td>\n",
       "      <td>144111.109129</td>\n",
       "      <td>122731.599800</td>\n",
       "    </tr>\n",
       "  </tbody>\n",
       "</table>\n",
       "</div>"
      ],
      "text/plain": [
       "                 count           mean         median\n",
       "age_group                                           \n",
       "30 лет и младше   3366  161360.467702  143482.406904\n",
       "от 31 до 40 лет   5170  177354.594640  155157.414803\n",
       "от 41 до 50 лет   4754  177438.794269  153562.300598\n",
       "от 51 до 60 лет   4053  159267.851798  137854.819127\n",
       "старше 60 лет     1917  144111.109129  122731.599800"
      ]
     },
     "execution_count": 14,
     "metadata": {},
     "output_type": "execute_result"
    }
   ],
   "source": [
    "data.groupby('age_group')['total_income'].agg(['count','mean', 'median'])"
   ]
  },
  {
   "cell_type": "code",
   "execution_count": 15,
   "metadata": {
    "colab": {
     "base_uri": "https://localhost:8080/",
     "height": 524
    },
    "id": "1_jm8z5fSt6j",
    "outputId": "2c8b4978-d794-4180-ac0c-2a4065a9a55f"
   },
   "outputs": [
    {
     "data": {
      "text/html": [
       "<div>\n",
       "<style scoped>\n",
       "    .dataframe tbody tr th:only-of-type {\n",
       "        vertical-align: middle;\n",
       "    }\n",
       "\n",
       "    .dataframe tbody tr th {\n",
       "        vertical-align: top;\n",
       "    }\n",
       "\n",
       "    .dataframe thead th {\n",
       "        text-align: right;\n",
       "    }\n",
       "</style>\n",
       "<table border=\"1\" class=\"dataframe\">\n",
       "  <thead>\n",
       "    <tr style=\"text-align: right;\">\n",
       "      <th></th>\n",
       "      <th>count</th>\n",
       "      <th>mean</th>\n",
       "      <th>median</th>\n",
       "    </tr>\n",
       "    <tr>\n",
       "      <th>education</th>\n",
       "      <th></th>\n",
       "      <th></th>\n",
       "      <th></th>\n",
       "    </tr>\n",
       "  </thead>\n",
       "  <tbody>\n",
       "    <tr>\n",
       "      <th>ВЫСШЕЕ</th>\n",
       "      <td>250</td>\n",
       "      <td>199986.563897</td>\n",
       "      <td>167206.162054</td>\n",
       "    </tr>\n",
       "    <tr>\n",
       "      <th>Высшее</th>\n",
       "      <td>242</td>\n",
       "      <td>215035.923783</td>\n",
       "      <td>180186.682659</td>\n",
       "    </tr>\n",
       "    <tr>\n",
       "      <th>НАЧАЛЬНОЕ</th>\n",
       "      <td>16</td>\n",
       "      <td>153573.262494</td>\n",
       "      <td>129666.892242</td>\n",
       "    </tr>\n",
       "    <tr>\n",
       "      <th>НЕОКОНЧЕННОЕ ВЫСШЕЕ</th>\n",
       "      <td>22</td>\n",
       "      <td>176496.585093</td>\n",
       "      <td>163911.559034</td>\n",
       "    </tr>\n",
       "    <tr>\n",
       "      <th>Начальное</th>\n",
       "      <td>14</td>\n",
       "      <td>110757.228534</td>\n",
       "      <td>104570.429306</td>\n",
       "    </tr>\n",
       "    <tr>\n",
       "      <th>Неоконченное высшее</th>\n",
       "      <td>40</td>\n",
       "      <td>159188.363670</td>\n",
       "      <td>160402.480835</td>\n",
       "    </tr>\n",
       "    <tr>\n",
       "      <th>СРЕДНЕЕ</th>\n",
       "      <td>703</td>\n",
       "      <td>151269.983491</td>\n",
       "      <td>133814.426277</td>\n",
       "    </tr>\n",
       "    <tr>\n",
       "      <th>Среднее</th>\n",
       "      <td>643</td>\n",
       "      <td>153976.652438</td>\n",
       "      <td>135293.829632</td>\n",
       "    </tr>\n",
       "    <tr>\n",
       "      <th>УЧЕНАЯ СТЕПЕНЬ</th>\n",
       "      <td>1</td>\n",
       "      <td>198570.757322</td>\n",
       "      <td>198570.757322</td>\n",
       "    </tr>\n",
       "    <tr>\n",
       "      <th>Ученая степень</th>\n",
       "      <td>1</td>\n",
       "      <td>98752.495442</td>\n",
       "      <td>98752.495442</td>\n",
       "    </tr>\n",
       "    <tr>\n",
       "      <th>высшее</th>\n",
       "      <td>4192</td>\n",
       "      <td>207320.492971</td>\n",
       "      <td>175679.250823</td>\n",
       "    </tr>\n",
       "    <tr>\n",
       "      <th>начальное</th>\n",
       "      <td>231</td>\n",
       "      <td>131968.898948</td>\n",
       "      <td>117314.518552</td>\n",
       "    </tr>\n",
       "    <tr>\n",
       "      <th>неоконченное высшее</th>\n",
       "      <td>611</td>\n",
       "      <td>183143.516801</td>\n",
       "      <td>159780.923803</td>\n",
       "    </tr>\n",
       "    <tr>\n",
       "      <th>среднее</th>\n",
       "      <td>12290</td>\n",
       "      <td>153882.453288</td>\n",
       "      <td>136672.973467</td>\n",
       "    </tr>\n",
       "    <tr>\n",
       "      <th>ученая степень</th>\n",
       "      <td>4</td>\n",
       "      <td>187794.420497</td>\n",
       "      <td>185687.118172</td>\n",
       "    </tr>\n",
       "  </tbody>\n",
       "</table>\n",
       "</div>"
      ],
      "text/plain": [
       "                     count           mean         median\n",
       "education                                               \n",
       "ВЫСШЕЕ                 250  199986.563897  167206.162054\n",
       "Высшее                 242  215035.923783  180186.682659\n",
       "НАЧАЛЬНОЕ               16  153573.262494  129666.892242\n",
       "НЕОКОНЧЕННОЕ ВЫСШЕЕ     22  176496.585093  163911.559034\n",
       "Начальное               14  110757.228534  104570.429306\n",
       "Неоконченное высшее     40  159188.363670  160402.480835\n",
       "СРЕДНЕЕ                703  151269.983491  133814.426277\n",
       "Среднее                643  153976.652438  135293.829632\n",
       "УЧЕНАЯ СТЕПЕНЬ           1  198570.757322  198570.757322\n",
       "Ученая степень           1   98752.495442   98752.495442\n",
       "высшее                4192  207320.492971  175679.250823\n",
       "начальное              231  131968.898948  117314.518552\n",
       "неоконченное высшее    611  183143.516801  159780.923803\n",
       "среднее              12290  153882.453288  136672.973467\n",
       "ученая степень           4  187794.420497  185687.118172"
      ]
     },
     "execution_count": 15,
     "metadata": {},
     "output_type": "execute_result"
    }
   ],
   "source": [
    "data.groupby('education')['total_income'].agg(['count','mean', 'median'])"
   ]
  },
  {
   "cell_type": "markdown",
   "metadata": {
    "id": "QVhcuVHOSt6l"
   },
   "source": [
    "Как видно из таблиц и тип занятости, и стаж влияют на различия в среднем ежемесячном доходе, а уровень образования не всегда влияет на заработок человека, хотя и прослеживается определённая корреляция. К тому же, видно, что в столбце с образованием много дибликатов, от которых ещё предстоит избавиться. Из методов определения усреднённого значания для заполнения наших пропусков воспользуемся медианным значением, как более подходящим для нашего вопроса. Составим сводную таблицу *data_pivot* используя метод *pivot_table()*, где в качестве индекса возьмем столбец *income_type* по колонке *age_group*, а в качестве значений - медианное значение по *total_income*."
   ]
  },
  {
   "cell_type": "code",
   "execution_count": 16,
   "metadata": {
    "colab": {
     "base_uri": "https://localhost:8080/",
     "height": 316
    },
    "id": "u8ZpSofbSt6l",
    "outputId": "0c9dd75c-bf9f-43ce-f2bf-38cebdda3432"
   },
   "outputs": [
    {
     "data": {
      "text/html": [
       "<div>\n",
       "<style scoped>\n",
       "    .dataframe tbody tr th:only-of-type {\n",
       "        vertical-align: middle;\n",
       "    }\n",
       "\n",
       "    .dataframe tbody tr th {\n",
       "        vertical-align: top;\n",
       "    }\n",
       "\n",
       "    .dataframe thead th {\n",
       "        text-align: right;\n",
       "    }\n",
       "</style>\n",
       "<table border=\"1\" class=\"dataframe\">\n",
       "  <thead>\n",
       "    <tr style=\"text-align: right;\">\n",
       "      <th>age_group</th>\n",
       "      <th>30 лет и младше</th>\n",
       "      <th>от 31 до 40 лет</th>\n",
       "      <th>от 41 до 50 лет</th>\n",
       "      <th>от 51 до 60 лет</th>\n",
       "      <th>старше 60 лет</th>\n",
       "    </tr>\n",
       "    <tr>\n",
       "      <th>income_type</th>\n",
       "      <th></th>\n",
       "      <th></th>\n",
       "      <th></th>\n",
       "      <th></th>\n",
       "      <th></th>\n",
       "    </tr>\n",
       "  </thead>\n",
       "  <tbody>\n",
       "    <tr>\n",
       "      <th>безработный</th>\n",
       "      <td>NaN</td>\n",
       "      <td>59956.991984</td>\n",
       "      <td>202722.511368</td>\n",
       "      <td>NaN</td>\n",
       "      <td>NaN</td>\n",
       "    </tr>\n",
       "    <tr>\n",
       "      <th>в декрете</th>\n",
       "      <td>NaN</td>\n",
       "      <td>53829.130729</td>\n",
       "      <td>NaN</td>\n",
       "      <td>NaN</td>\n",
       "      <td>NaN</td>\n",
       "    </tr>\n",
       "    <tr>\n",
       "      <th>госслужащий</th>\n",
       "      <td>145017.937533</td>\n",
       "      <td>156345.493872</td>\n",
       "      <td>149045.531406</td>\n",
       "      <td>146204.734300</td>\n",
       "      <td>153899.233202</td>\n",
       "    </tr>\n",
       "    <tr>\n",
       "      <th>компаньон</th>\n",
       "      <td>160715.180925</td>\n",
       "      <td>181059.871123</td>\n",
       "      <td>177202.579089</td>\n",
       "      <td>170928.667481</td>\n",
       "      <td>182324.934270</td>\n",
       "    </tr>\n",
       "    <tr>\n",
       "      <th>пенсионер</th>\n",
       "      <td>80044.196101</td>\n",
       "      <td>115469.381690</td>\n",
       "      <td>142125.429143</td>\n",
       "      <td>120367.978195</td>\n",
       "      <td>115080.782380</td>\n",
       "    </tr>\n",
       "    <tr>\n",
       "      <th>предприниматель</th>\n",
       "      <td>499163.144947</td>\n",
       "      <td>NaN</td>\n",
       "      <td>NaN</td>\n",
       "      <td>NaN</td>\n",
       "      <td>NaN</td>\n",
       "    </tr>\n",
       "    <tr>\n",
       "      <th>сотрудник</th>\n",
       "      <td>135737.638845</td>\n",
       "      <td>145390.317641</td>\n",
       "      <td>143450.248617</td>\n",
       "      <td>141852.298615</td>\n",
       "      <td>147190.698952</td>\n",
       "    </tr>\n",
       "    <tr>\n",
       "      <th>студент</th>\n",
       "      <td>98201.625314</td>\n",
       "      <td>NaN</td>\n",
       "      <td>NaN</td>\n",
       "      <td>NaN</td>\n",
       "      <td>NaN</td>\n",
       "    </tr>\n",
       "  </tbody>\n",
       "</table>\n",
       "</div>"
      ],
      "text/plain": [
       "age_group        30 лет и младше  от 31 до 40 лет  от 41 до 50 лет  \\\n",
       "income_type                                                          \n",
       "безработный                  NaN     59956.991984    202722.511368   \n",
       "в декрете                    NaN     53829.130729              NaN   \n",
       "госслужащий        145017.937533    156345.493872    149045.531406   \n",
       "компаньон          160715.180925    181059.871123    177202.579089   \n",
       "пенсионер           80044.196101    115469.381690    142125.429143   \n",
       "предприниматель    499163.144947              NaN              NaN   \n",
       "сотрудник          135737.638845    145390.317641    143450.248617   \n",
       "студент             98201.625314              NaN              NaN   \n",
       "\n",
       "age_group        от 51 до 60 лет  старше 60 лет  \n",
       "income_type                                      \n",
       "безработный                  NaN            NaN  \n",
       "в декрете                    NaN            NaN  \n",
       "госслужащий        146204.734300  153899.233202  \n",
       "компаньон          170928.667481  182324.934270  \n",
       "пенсионер          120367.978195  115080.782380  \n",
       "предприниматель              NaN            NaN  \n",
       "сотрудник          141852.298615  147190.698952  \n",
       "студент                      NaN            NaN  "
      ]
     },
     "execution_count": 16,
     "metadata": {},
     "output_type": "execute_result"
    }
   ],
   "source": [
    "data_pivot = data.pivot_table(index=['income_type'], columns='age_group', values='total_income', aggfunc='median')\n",
    "data_pivot"
   ]
  },
  {
   "cell_type": "code",
   "execution_count": 17,
   "metadata": {},
   "outputs": [
    {
     "data": {
      "text/plain": [
       "145017.93753253992"
      ]
     },
     "execution_count": 17,
     "metadata": {},
     "output_type": "execute_result"
    }
   ],
   "source": [
    "data_pivot['30 лет и младше'][2]"
   ]
  },
  {
   "cell_type": "markdown",
   "metadata": {
    "id": "eGIwwXVcSt6n"
   },
   "source": [
    "Посмотрим, сколько строк с пустыми значениями по каждому типу занятости."
   ]
  },
  {
   "cell_type": "code",
   "execution_count": 18,
   "metadata": {
    "colab": {
     "base_uri": "https://localhost:8080/"
    },
    "id": "qUDsmSJGSt6o",
    "outputId": "f8c841e2-7f03-46e3-f0d3-6401f822ed7d"
   },
   "outputs": [
    {
     "data": {
      "text/plain": [
       "сотрудник          1100\n",
       "компаньон           506\n",
       "пенсионер           410\n",
       "госслужащий         147\n",
       "предприниматель       1\n",
       "Name: income_type, dtype: int64"
      ]
     },
     "execution_count": 18,
     "metadata": {},
     "output_type": "execute_result"
    }
   ],
   "source": [
    "data_income_null = data[data['total_income'].isnull()]\n",
    "data_income_null['income_type'].value_counts()"
   ]
  },
  {
   "cell_type": "markdown",
   "metadata": {
    "id": "1Kv_aGfnSt6p"
   },
   "source": [
    "Теперь для удобства сначала заменим все пропущенные значения в столбце *total_income* на 0, а затем присвоим им соответствующие значения из таблицы *data_pivot*. После вызовем метод *value_counts()* и выведем первые 20 значений, чтобы убедиться, что нулей не осталось."
   ]
  },
  {
   "cell_type": "code",
   "execution_count": 19,
   "metadata": {
    "id": "bt4GXD4z26Yi"
   },
   "outputs": [],
   "source": [
    "data['total_income'] = data['total_income'].fillna(0)"
   ]
  },
  {
   "cell_type": "code",
   "execution_count": 20,
   "metadata": {
    "colab": {
     "base_uri": "https://localhost:8080/"
    },
    "id": "eseiiygISt6q",
    "outputId": "e0f54b9c-7074-4161-cfbd-1ddd49909594"
   },
   "outputs": [
    {
     "data": {
      "text/plain": [
       "143450.248617    340\n",
       "145390.317641    330\n",
       "135737.638845    239\n",
       "120367.978195    213\n",
       "181059.871123    185\n",
       "115080.782380    173\n",
       "141852.298615    156\n",
       "177202.579089    129\n",
       "170928.667481     95\n",
       "160715.180925     93\n",
       "156345.493872     54\n",
       "147190.698952     39\n",
       "149045.531406     36\n",
       "145017.937533     27\n",
       "146204.734300     27\n",
       "142125.429143     20\n",
       "182324.934270      9\n",
       "115469.381690      6\n",
       "153899.233202      5\n",
       "499163.144947      2\n",
       "Name: total_income, dtype: int64"
      ]
     },
     "execution_count": 20,
     "metadata": {},
     "output_type": "execute_result"
    }
   ],
   "source": [
    "data.loc[(data['age_group'] == '30 лет и младше') & (data['total_income'] == 0) \n",
    "         & (data['income_type'] == 'госслужащий'), 'total_income'] = data_pivot['30 лет и младше'][2]\n",
    "data.loc[(data['age_group'] == 'от 31 до 40 лет') & (data['total_income'] == 0) \n",
    "         & (data['income_type'] == 'госслужащий'), 'total_income'] = data_pivot['от 31 до 40 лет'][2]\n",
    "data.loc[(data['age_group'] == 'от 41 до 50 лет') & (data['total_income'] == 0) \n",
    "         & (data['income_type'] == 'госслужащий'), 'total_income'] = data_pivot['от 41 до 50 лет'][2]\n",
    "data.loc[(data['age_group'] == 'от 51 до 60 лет') & (data['total_income'] == 0) \n",
    "         & (data['income_type'] == 'госслужащий'), 'total_income'] = data_pivot['от 51 до 60 лет'][2]\n",
    "data.loc[(data['age_group'] == 'старше 60 лет') & (data['total_income'] == 0) \n",
    "         & (data['income_type'] == 'госслужащий'), 'total_income'] = data_pivot['старше 60 лет'][2]\n",
    "data.loc[(data['age_group'] == '30 лет и младше') & (data['total_income'] == 0) \n",
    "         & (data['income_type'] == 'компаньон'), 'total_income'] = data_pivot['30 лет и младше'][3]\n",
    "data.loc[(data['age_group'] == 'от 31 до 40 лет') & (data['total_income'] == 0) \n",
    "         & (data['income_type'] == 'компаньон'), 'total_income'] = data_pivot['от 31 до 40 лет'][3]\n",
    "data.loc[(data['age_group'] == 'от 41 до 50 лет') & (data['total_income'] == 0) \n",
    "         & (data['income_type'] == 'компаньон'), 'total_income'] = data_pivot['от 41 до 50 лет'][3]\n",
    "data.loc[(data['age_group'] == 'от 51 до 60 лет') & (data['total_income'] == 0) \n",
    "         & (data['income_type'] == 'компаньон'), 'total_income'] = data_pivot['от 51 до 60 лет'][3]\n",
    "data.loc[(data['age_group'] == 'старше 60 лет') & (data['total_income'] == 0) \n",
    "         & (data['income_type'] == 'компаньон'), 'total_income'] = data_pivot['старше 60 лет'][3]\n",
    "data.loc[(data['age_group'] == '30 лет и младше') & (data['total_income'] == 0) \n",
    "         & (data['income_type'] == 'пенсионер'), 'total_income'] = data_pivot['30 лет и младше'][4]\n",
    "data.loc[(data['age_group'] == 'от 31 до 40 лет') & (data['total_income'] == 0) \n",
    "         & (data['income_type'] == 'пенсионер'), 'total_income'] = data_pivot['от 31 до 40 лет'][4]\n",
    "data.loc[(data['age_group'] == 'от 41 до 50 лет') & (data['total_income'] == 0) \n",
    "         & (data['income_type'] == 'пенсионер'), 'total_income'] = data_pivot['от 41 до 50 лет'][4]\n",
    "data.loc[(data['age_group'] == 'от 51 до 60 лет') & (data['total_income'] == 0) \n",
    "         & (data['income_type'] == 'пенсионер'), 'total_income'] = data_pivot['от 51 до 60 лет'][4]\n",
    "data.loc[(data['age_group'] == 'старше 60 лет') & (data['total_income'] == 0) \n",
    "         & (data['income_type'] == 'пенсионер'), 'total_income'] = data_pivot['старше 60 лет'][4]\n",
    "data.loc[(data['age_group'] == '30 лет и младше') & (data['total_income'] == 0) \n",
    "         & (data['income_type'] == 'сотрудник'), 'total_income'] = data_pivot['30 лет и младше'][6]\n",
    "data.loc[(data['age_group'] == 'от 31 до 40 лет') & (data['total_income'] == 0) \n",
    "         & (data['income_type'] == 'сотрудник'), 'total_income'] = data_pivot['от 31 до 40 лет'][6]\n",
    "data.loc[(data['age_group'] == 'от 41 до 50 лет') & (data['total_income'] == 0) \n",
    "         & (data['income_type'] == 'сотрудник'), 'total_income'] = data_pivot['от 41 до 50 лет'][6]\n",
    "data.loc[(data['age_group'] == 'от 51 до 60 лет') & (data['total_income'] == 0) \n",
    "         & (data['income_type'] == 'сотрудник'), 'total_income'] = data_pivot['от 51 до 60 лет'][6]\n",
    "data.loc[(data['age_group'] == 'старше 60 лет') & (data['total_income'] == 0) \n",
    "         & (data['income_type'] == 'сотрудник'), 'total_income'] = data_pivot['старше 60 лет'][6]\n",
    "data.loc[(data['total_income'] == 0) \n",
    "         & (data['income_type'] == 'предприниматель'), 'total_income'] = data_pivot['30 лет и младше'][5]\n",
    "\n",
    "data['total_income'].value_counts().head(20)"
   ]
  },
  {
   "cell_type": "code",
   "execution_count": 21,
   "metadata": {
    "colab": {
     "base_uri": "https://localhost:8080/"
    },
    "id": "oSeXymX4St6s",
    "outputId": "e7bd5e53-a5f0-47b3-b634-59c9ae819adf"
   },
   "outputs": [
    {
     "name": "stdout",
     "output_type": "stream",
     "text": [
      "<class 'pandas.core.frame.DataFrame'>\n",
      "Int64Index: 21424 entries, 0 to 21524\n",
      "Data columns (total 13 columns):\n",
      " #   Column            Non-Null Count  Dtype  \n",
      "---  ------            --------------  -----  \n",
      " 0   children          21424 non-null  int64  \n",
      " 1   days_employed     21424 non-null  float64\n",
      " 2   dob_years         21424 non-null  int64  \n",
      " 3   education         21424 non-null  object \n",
      " 4   education_id      21424 non-null  int64  \n",
      " 5   family_status     21424 non-null  object \n",
      " 6   family_status_id  21424 non-null  int64  \n",
      " 7   gender            21424 non-null  object \n",
      " 8   income_type       21424 non-null  object \n",
      " 9   debt              21424 non-null  int64  \n",
      " 10  total_income      21424 non-null  float64\n",
      " 11  purpose           21424 non-null  object \n",
      " 12  age_group         21424 non-null  object \n",
      "dtypes: float64(2), int64(5), object(6)\n",
      "memory usage: 2.9+ MB\n"
     ]
    }
   ],
   "source": [
    "data.info()"
   ]
  },
  {
   "cell_type": "markdown",
   "metadata": {
    "id": "LhxTZEZeSt6u"
   },
   "source": [
    "Пустых значений в наших данных больше не осталось."
   ]
  },
  {
   "cell_type": "markdown",
   "metadata": {
    "id": "9VLae8cWSt6v"
   },
   "source": [
    "### Вывод"
   ]
  },
  {
   "cell_type": "markdown",
   "metadata": {
    "id": "1Xwj3s71St6v"
   },
   "source": [
    "Итак, мы полностью избавились от пропущенных значений в столбцах со стажем и ежемесячным доходом с минимальными потерями и заменили их усреднёнными значениями. Поскольку пропуски были в одних и тех же строках, то скорее всего это случайная ошибка. Либо при выгрузке данных в один файл потерялись данные, либо какой-то сотрудник просто забыл их добавить."
   ]
  },
  {
   "cell_type": "markdown",
   "metadata": {
    "id": "ytfhPh-ZSt6w"
   },
   "source": [
    "### Замена типа данных"
   ]
  },
  {
   "cell_type": "markdown",
   "metadata": {
    "id": "oago0crLSt6w"
   },
   "source": [
    "Избавившись от пропусков в данных, продолжим приводить наши данные в порядок. В нашей таблице столбец *days_emploeyd*, отвечающий за трудовой стаж в днях, имеет тип *float* и выдаёт десятичные значения. Но количество дней не может быть дробным. поэтому приведём эти данные к целочисленным значениям. Используем метод *astype* и укажем тип данных *int*."
   ]
  },
  {
   "cell_type": "code",
   "execution_count": 22,
   "metadata": {
    "id": "OAxM6E_tSt6w"
   },
   "outputs": [],
   "source": [
    "data['days_employed'] = data['days_employed'].astype('int')"
   ]
  },
  {
   "cell_type": "code",
   "execution_count": 23,
   "metadata": {
    "colab": {
     "base_uri": "https://localhost:8080/",
     "height": 300
    },
    "id": "nLaj2r6KSt6y",
    "outputId": "338ce446-b11c-40ac-f4c0-73aafb6554d7"
   },
   "outputs": [
    {
     "data": {
      "text/html": [
       "<div>\n",
       "<style scoped>\n",
       "    .dataframe tbody tr th:only-of-type {\n",
       "        vertical-align: middle;\n",
       "    }\n",
       "\n",
       "    .dataframe tbody tr th {\n",
       "        vertical-align: top;\n",
       "    }\n",
       "\n",
       "    .dataframe thead th {\n",
       "        text-align: right;\n",
       "    }\n",
       "</style>\n",
       "<table border=\"1\" class=\"dataframe\">\n",
       "  <thead>\n",
       "    <tr style=\"text-align: right;\">\n",
       "      <th></th>\n",
       "      <th>children</th>\n",
       "      <th>days_employed</th>\n",
       "      <th>dob_years</th>\n",
       "      <th>education</th>\n",
       "      <th>education_id</th>\n",
       "      <th>family_status</th>\n",
       "      <th>family_status_id</th>\n",
       "      <th>gender</th>\n",
       "      <th>income_type</th>\n",
       "      <th>debt</th>\n",
       "      <th>total_income</th>\n",
       "      <th>purpose</th>\n",
       "      <th>age_group</th>\n",
       "    </tr>\n",
       "  </thead>\n",
       "  <tbody>\n",
       "    <tr>\n",
       "      <th>0</th>\n",
       "      <td>1</td>\n",
       "      <td>8437</td>\n",
       "      <td>42</td>\n",
       "      <td>высшее</td>\n",
       "      <td>0</td>\n",
       "      <td>женат / замужем</td>\n",
       "      <td>0</td>\n",
       "      <td>F</td>\n",
       "      <td>сотрудник</td>\n",
       "      <td>0</td>\n",
       "      <td>253875.639453</td>\n",
       "      <td>покупка жилья</td>\n",
       "      <td>от 41 до 50 лет</td>\n",
       "    </tr>\n",
       "    <tr>\n",
       "      <th>1</th>\n",
       "      <td>1</td>\n",
       "      <td>4024</td>\n",
       "      <td>36</td>\n",
       "      <td>среднее</td>\n",
       "      <td>1</td>\n",
       "      <td>женат / замужем</td>\n",
       "      <td>0</td>\n",
       "      <td>F</td>\n",
       "      <td>сотрудник</td>\n",
       "      <td>0</td>\n",
       "      <td>112080.014102</td>\n",
       "      <td>приобретение автомобиля</td>\n",
       "      <td>от 31 до 40 лет</td>\n",
       "    </tr>\n",
       "    <tr>\n",
       "      <th>2</th>\n",
       "      <td>0</td>\n",
       "      <td>5623</td>\n",
       "      <td>33</td>\n",
       "      <td>Среднее</td>\n",
       "      <td>1</td>\n",
       "      <td>женат / замужем</td>\n",
       "      <td>0</td>\n",
       "      <td>M</td>\n",
       "      <td>сотрудник</td>\n",
       "      <td>0</td>\n",
       "      <td>145885.952297</td>\n",
       "      <td>покупка жилья</td>\n",
       "      <td>от 31 до 40 лет</td>\n",
       "    </tr>\n",
       "    <tr>\n",
       "      <th>3</th>\n",
       "      <td>3</td>\n",
       "      <td>4124</td>\n",
       "      <td>32</td>\n",
       "      <td>среднее</td>\n",
       "      <td>1</td>\n",
       "      <td>женат / замужем</td>\n",
       "      <td>0</td>\n",
       "      <td>M</td>\n",
       "      <td>сотрудник</td>\n",
       "      <td>0</td>\n",
       "      <td>267628.550329</td>\n",
       "      <td>дополнительное образование</td>\n",
       "      <td>от 31 до 40 лет</td>\n",
       "    </tr>\n",
       "    <tr>\n",
       "      <th>4</th>\n",
       "      <td>0</td>\n",
       "      <td>340266</td>\n",
       "      <td>53</td>\n",
       "      <td>среднее</td>\n",
       "      <td>1</td>\n",
       "      <td>гражданский брак</td>\n",
       "      <td>1</td>\n",
       "      <td>F</td>\n",
       "      <td>пенсионер</td>\n",
       "      <td>0</td>\n",
       "      <td>158616.077870</td>\n",
       "      <td>сыграть свадьбу</td>\n",
       "      <td>от 51 до 60 лет</td>\n",
       "    </tr>\n",
       "  </tbody>\n",
       "</table>\n",
       "</div>"
      ],
      "text/plain": [
       "   children  days_employed  dob_years education  education_id  \\\n",
       "0         1           8437         42    высшее             0   \n",
       "1         1           4024         36   среднее             1   \n",
       "2         0           5623         33   Среднее             1   \n",
       "3         3           4124         32   среднее             1   \n",
       "4         0         340266         53   среднее             1   \n",
       "\n",
       "      family_status  family_status_id gender income_type  debt   total_income  \\\n",
       "0   женат / замужем                 0      F   сотрудник     0  253875.639453   \n",
       "1   женат / замужем                 0      F   сотрудник     0  112080.014102   \n",
       "2   женат / замужем                 0      M   сотрудник     0  145885.952297   \n",
       "3   женат / замужем                 0      M   сотрудник     0  267628.550329   \n",
       "4  гражданский брак                 1      F   пенсионер     0  158616.077870   \n",
       "\n",
       "                      purpose        age_group  \n",
       "0               покупка жилья  от 41 до 50 лет  \n",
       "1     приобретение автомобиля  от 31 до 40 лет  \n",
       "2               покупка жилья  от 31 до 40 лет  \n",
       "3  дополнительное образование  от 31 до 40 лет  \n",
       "4             сыграть свадьбу  от 51 до 60 лет  "
      ]
     },
     "execution_count": 23,
     "metadata": {},
     "output_type": "execute_result"
    }
   ],
   "source": [
    "data.head()"
   ]
  },
  {
   "cell_type": "markdown",
   "metadata": {
    "id": "JntKufURSt60"
   },
   "source": [
    "### Вывод"
   ]
  },
  {
   "cell_type": "markdown",
   "metadata": {
    "id": "VKf2u-XgSt61"
   },
   "source": [
    "Мы исправили очередную неточность в данных, изменив тип данных столбца со стажем работы в днях и столбца *debt*. В остальных столбцах тип данных соответствует тому, что там представлено."
   ]
  },
  {
   "cell_type": "markdown",
   "metadata": {
    "id": "FGfHL5sLSt61"
   },
   "source": [
    "### Обработка дубликатов"
   ]
  },
  {
   "cell_type": "markdown",
   "metadata": {
    "id": "sff-S7IBSt62"
   },
   "source": [
    "Теперь проверим, нет ли в наших данных дубликатов, которые могут повлиять на наше исследование и исказить данные. Вызовем метод поиска дубливатов *duplicated()* и просуммируем результат. "
   ]
  },
  {
   "cell_type": "code",
   "execution_count": 24,
   "metadata": {
    "colab": {
     "base_uri": "https://localhost:8080/"
    },
    "id": "6jmWOSIfSt62",
    "outputId": "0c100e19-8207-4cc0-93e3-15bc5a6045c1"
   },
   "outputs": [
    {
     "data": {
      "text/plain": [
       "54"
      ]
     },
     "execution_count": 24,
     "metadata": {},
     "output_type": "execute_result"
    }
   ],
   "source": [
    "data.duplicated().sum()"
   ]
  },
  {
   "cell_type": "code",
   "execution_count": 25,
   "metadata": {
    "colab": {
     "base_uri": "https://localhost:8080/"
    },
    "id": "MFcfKAdASt64",
    "outputId": "45c6bbc9-80a1-40e6-f172-f7a718f425e9"
   },
   "outputs": [
    {
     "data": {
      "text/plain": [
       "(21424, 13)"
      ]
     },
     "execution_count": 25,
     "metadata": {},
     "output_type": "execute_result"
    }
   ],
   "source": [
    "data.shape"
   ]
  },
  {
   "cell_type": "markdown",
   "metadata": {
    "id": "KwB8S66SSt66"
   },
   "source": [
    "Мы нашли 54 дубликата в наших данных. избавимся от них вызвав метод *drop_duplicates()*."
   ]
  },
  {
   "cell_type": "code",
   "execution_count": 26,
   "metadata": {
    "colab": {
     "base_uri": "https://localhost:8080/"
    },
    "id": "qABMwtMKSt66",
    "outputId": "fd51d14b-791e-4bed-af49-eee27da7e4dd"
   },
   "outputs": [
    {
     "data": {
      "text/plain": [
       "(21370, 13)"
      ]
     },
     "execution_count": 26,
     "metadata": {},
     "output_type": "execute_result"
    }
   ],
   "source": [
    "data = data.drop_duplicates().reset_index(drop = True)\n",
    "data.shape"
   ]
  },
  {
   "cell_type": "markdown",
   "metadata": {
    "id": "J03a9aATSt68"
   },
   "source": [
    "Количество строчек в наших данных ещё уменьшилось. Проверим по столбцам какие уникальные данные в них содержатся, применив к столбцам метод *unique()*. В данных о количестве детей не может быть дубликатов, но мы на всякий случай проверим какие уникальные значения там есть."
   ]
  },
  {
   "cell_type": "code",
   "execution_count": 27,
   "metadata": {
    "colab": {
     "base_uri": "https://localhost:8080/"
    },
    "id": "i5H_JE1kSt68",
    "outputId": "3fdfdf92-6ce3-4fc8-9fcd-1d811c3fb7c3"
   },
   "outputs": [
    {
     "data": {
      "text/plain": [
       "array([ 1,  0,  3,  2, -1,  4, 20,  5], dtype=int64)"
      ]
     },
     "execution_count": 27,
     "metadata": {},
     "output_type": "execute_result"
    }
   ],
   "source": [
    "data['children'].unique()"
   ]
  },
  {
   "cell_type": "markdown",
   "metadata": {
    "id": "Vqb9b6tFSt6_"
   },
   "source": [
    "Неожиданно тут мы встретили отрицательное значение, а также странную цифру 20. У кого-то есть 20 детей в семье! Исправим отрицательное значение с помощью *abs()* и проверим сколько же таких многодетных клиентов клиентов. Для этого вызовем метод *value_counts*."
   ]
  },
  {
   "cell_type": "code",
   "execution_count": 28,
   "metadata": {
    "colab": {
     "base_uri": "https://localhost:8080/"
    },
    "id": "FUzXADcGSt7A",
    "outputId": "b4d037ef-1539-4348-eef3-4069fc3cc451"
   },
   "outputs": [
    {
     "data": {
      "text/plain": [
       "0     14038\n",
       "1      4840\n",
       "2      2039\n",
       "3       328\n",
       "20       75\n",
       "4        41\n",
       "5         9\n",
       "Name: children, dtype: int64"
      ]
     },
     "execution_count": 28,
     "metadata": {},
     "output_type": "execute_result"
    }
   ],
   "source": [
    "data['children'] = data['children'].abs()\n",
    "data['children'].value_counts()"
   ]
  },
  {
   "cell_type": "markdown",
   "metadata": {
    "id": "WhaYD3iASt7C"
   },
   "source": [
    "У 75 клиентов банка по 20 детей! Учитывая, что следующая по количеству детей группа это 5, то такая цифра выглядит как артефакт. Чтобы не портить результат наших исследований, удалим эти строчки."
   ]
  },
  {
   "cell_type": "code",
   "execution_count": 29,
   "metadata": {
    "colab": {
     "base_uri": "https://localhost:8080/"
    },
    "id": "Yg1JeOxRSt7C",
    "outputId": "9e35f7d4-0e1a-4fd0-a44b-cfee37f1a905"
   },
   "outputs": [
    {
     "data": {
      "text/plain": [
       "0    14038\n",
       "1     4840\n",
       "2     2039\n",
       "3      328\n",
       "4       41\n",
       "5        9\n",
       "Name: children, dtype: int64"
      ]
     },
     "execution_count": 29,
     "metadata": {},
     "output_type": "execute_result"
    }
   ],
   "source": [
    "data = data[data['children'] != 20]\n",
    "data['children'].value_counts()"
   ]
  },
  {
   "cell_type": "markdown",
   "metadata": {
    "id": "FRKn-u3ASt7E"
   },
   "source": [
    "Исправив данные в столбце *children*, перейдём к остальным столбцам."
   ]
  },
  {
   "cell_type": "code",
   "execution_count": 30,
   "metadata": {
    "colab": {
     "base_uri": "https://localhost:8080/"
    },
    "id": "PPo-oGeySt7G",
    "outputId": "5970284c-9124-4af1-a275-8bc7ee7760f4"
   },
   "outputs": [
    {
     "data": {
      "text/plain": [
       "array(['высшее', 'среднее', 'Среднее', 'СРЕДНЕЕ', 'ВЫСШЕЕ',\n",
       "       'неоконченное высшее', 'начальное', 'Высшее',\n",
       "       'НЕОКОНЧЕННОЕ ВЫСШЕЕ', 'Неоконченное высшее', 'НАЧАЛЬНОЕ',\n",
       "       'Начальное', 'Ученая степень', 'УЧЕНАЯ СТЕПЕНЬ', 'ученая степень'],\n",
       "      dtype=object)"
      ]
     },
     "execution_count": 30,
     "metadata": {},
     "output_type": "execute_result"
    }
   ],
   "source": [
    "data['education'].unique()"
   ]
  },
  {
   "cell_type": "markdown",
   "metadata": {
    "id": "aND_ZKfGSt7J"
   },
   "source": [
    "В данных с уровнем образования клиента явно есть дубликаты, вызванные тем, что данные различаются по регистру. Исправим этот недочёт. Приведём строчки в столбце к нижнему регистру методом *str.low()* и снова выведем на экран уникальные значения по столбцу."
   ]
  },
  {
   "cell_type": "code",
   "execution_count": 31,
   "metadata": {
    "id": "6eliG37OSt7J"
   },
   "outputs": [],
   "source": [
    "data['education'] = data['education'].str.lower()"
   ]
  },
  {
   "cell_type": "code",
   "execution_count": 32,
   "metadata": {
    "colab": {
     "base_uri": "https://localhost:8080/"
    },
    "id": "R-XhiEekSt7M",
    "outputId": "d8a5d27a-cd9e-4439-8a52-09c22a6a06f1"
   },
   "outputs": [
    {
     "data": {
      "text/plain": [
       "array(['высшее', 'среднее', 'неоконченное высшее', 'начальное',\n",
       "       'ученая степень'], dtype=object)"
      ]
     },
     "execution_count": 32,
     "metadata": {},
     "output_type": "execute_result"
    }
   ],
   "source": [
    "data['education'].unique()"
   ]
  },
  {
   "cell_type": "markdown",
   "metadata": {
    "id": "_X4YmTazSt7O"
   },
   "source": [
    "Тепрь у нас в данных всего 5 типов уровня образования: начальное, среднее, высшее, неоконченное высшее и учёная степень. Продолжим искать дубликаты."
   ]
  },
  {
   "cell_type": "code",
   "execution_count": 33,
   "metadata": {
    "colab": {
     "base_uri": "https://localhost:8080/"
    },
    "id": "BqPUSc4ESt7P",
    "outputId": "adafb808-d94f-4004-f815-a9f6667e7d2d"
   },
   "outputs": [
    {
     "data": {
      "text/plain": [
       "array(['женат / замужем', 'гражданский брак', 'вдовец / вдова',\n",
       "       'в разводе', 'Не женат / не замужем'], dtype=object)"
      ]
     },
     "execution_count": 33,
     "metadata": {},
     "output_type": "execute_result"
    }
   ],
   "source": [
    "data['family_status'].unique()"
   ]
  },
  {
   "cell_type": "markdown",
   "metadata": {
    "id": "B9Z16KZ6St7R"
   },
   "source": [
    "В столбце *family_status* мы не нашли дубликатов, только пять категорий."
   ]
  },
  {
   "cell_type": "code",
   "execution_count": 34,
   "metadata": {
    "colab": {
     "base_uri": "https://localhost:8080/"
    },
    "id": "DE6woTITSt7R",
    "outputId": "ddf2a1f5-9224-4b59-b3d3-50adbab7cb82"
   },
   "outputs": [
    {
     "data": {
      "text/plain": [
       "свадьба                                   787\n",
       "на проведение свадьбы                     765\n",
       "сыграть свадьбу                           760\n",
       "операции с недвижимостью                  671\n",
       "покупка коммерческой недвижимости         656\n",
       "покупка жилья для сдачи                   649\n",
       "операции с коммерческой недвижимостью     644\n",
       "операции с жильем                         642\n",
       "покупка жилья                             637\n",
       "покупка жилья для семьи                   636\n",
       "жилье                                     636\n",
       "недвижимость                              628\n",
       "строительство собственной недвижимости    627\n",
       "операции со своей недвижимостью           626\n",
       "строительство жилой недвижимости          621\n",
       "покупка своего жилья                      619\n",
       "строительство недвижимости                619\n",
       "покупка недвижимости                      616\n",
       "ремонт жилью                              603\n",
       "покупка жилой недвижимости                601\n",
       "на покупку своего автомобиля              502\n",
       "заняться высшим образованием              493\n",
       "автомобиль                                489\n",
       "сделка с подержанным автомобилем          480\n",
       "автомобили                                475\n",
       "свой автомобиль                           473\n",
       "на покупку подержанного автомобиля        472\n",
       "на покупку автомобиля                     467\n",
       "приобретение автомобиля                   459\n",
       "дополнительное образование                455\n",
       "сделка с автомобилем                      454\n",
       "высшее образование                        444\n",
       "получение дополнительного образования     444\n",
       "образование                               442\n",
       "получение образования                     440\n",
       "профильное образование                    433\n",
       "получение высшего образования             423\n",
       "заняться образованием                     407\n",
       "Name: purpose, dtype: int64"
      ]
     },
     "execution_count": 34,
     "metadata": {},
     "output_type": "execute_result"
    }
   ],
   "source": [
    "data['purpose'].value_counts()"
   ]
  },
  {
   "cell_type": "markdown",
   "metadata": {
    "id": "jLS2RhbxSt7T"
   },
   "source": [
    "В столбце с целью получения кредита обнаружилось много строк с разными данными, которые по сути являются дубликатами, но простыми методами от них не избавиться. Здесь нам поможет лемматизация. "
   ]
  },
  {
   "cell_type": "markdown",
   "metadata": {
    "id": "4xN1DBsrSt7U"
   },
   "source": [
    "### Вывод"
   ]
  },
  {
   "cell_type": "markdown",
   "metadata": {
    "id": "15tNW3l9St7U"
   },
   "source": [
    "Мы избавились от дубликатов и прочих артефактов в наших данных во всех столбцах кроме *purpose*. В этом столбце одни и те же цели записаны по-разному. В целом их можно свести к нескольким категориям для удобства."
   ]
  },
  {
   "cell_type": "markdown",
   "metadata": {
    "id": "dvpLSUDUSt7V"
   },
   "source": [
    "### Лемматизация"
   ]
  },
  {
   "cell_type": "markdown",
   "metadata": {
    "id": "D2J5aZvnSt7W"
   },
   "source": [
    "Импортируем библиотеку *pymystem3*, которая поможет нам решить проблему с определением категорий."
   ]
  },
  {
   "cell_type": "code",
   "execution_count": 35,
   "metadata": {},
   "outputs": [
    {
     "name": "stdout",
     "output_type": "stream",
     "text": [
      "Requirement already satisfied: pymystem3 in c:\\users\\user\\anaconda3\\lib\\site-packages (0.2.0)\n",
      "Requirement already satisfied: requests in c:\\users\\user\\anaconda3\\lib\\site-packages (from pymystem3) (2.24.0)\n",
      "Requirement already satisfied: urllib3!=1.25.0,!=1.25.1,<1.26,>=1.21.1 in c:\\users\\user\\anaconda3\\lib\\site-packages (from requests->pymystem3) (1.25.11)\n",
      "Requirement already satisfied: certifi>=2017.4.17 in c:\\users\\user\\anaconda3\\lib\\site-packages (from requests->pymystem3) (2020.6.20)\n",
      "Requirement already satisfied: idna<3,>=2.5 in c:\\users\\user\\anaconda3\\lib\\site-packages (from requests->pymystem3) (2.10)\n",
      "Requirement already satisfied: chardet<4,>=3.0.2 in c:\\users\\user\\anaconda3\\lib\\site-packages (from requests->pymystem3) (3.0.4)\n",
      "Note: you may need to restart the kernel to use updated packages.\n"
     ]
    }
   ],
   "source": [
    "pip install pymystem3"
   ]
  },
  {
   "cell_type": "code",
   "execution_count": 36,
   "metadata": {
    "colab": {
     "base_uri": "https://localhost:8080/"
    },
    "id": "Ts1Zs0YsSt7X",
    "outputId": "06a0963f-0d89-418e-a412-39f55b95d906"
   },
   "outputs": [],
   "source": [
    "from pymystem3 import Mystem\n",
    "m = Mystem()"
   ]
  },
  {
   "cell_type": "markdown",
   "metadata": {
    "id": "bngebUjjSt7Z"
   },
   "source": [
    "Выберем все уникальные значения в столбце с целями кредита и сохраним их в отдельную переменную *data_purpose*."
   ]
  },
  {
   "cell_type": "code",
   "execution_count": 37,
   "metadata": {
    "colab": {
     "base_uri": "https://localhost:8080/"
    },
    "id": "5hIEZG1PSt7a",
    "outputId": "118ac2e4-7a04-4d71-e462-3f3a0be885e2"
   },
   "outputs": [
    {
     "data": {
      "text/plain": [
       "array(['покупка жилья', 'приобретение автомобиля',\n",
       "       'дополнительное образование', 'сыграть свадьбу',\n",
       "       'операции с жильем', 'образование', 'на проведение свадьбы',\n",
       "       'покупка жилья для семьи', 'покупка недвижимости',\n",
       "       'покупка коммерческой недвижимости', 'покупка жилой недвижимости',\n",
       "       'строительство собственной недвижимости', 'недвижимость',\n",
       "       'строительство недвижимости', 'на покупку подержанного автомобиля',\n",
       "       'на покупку своего автомобиля',\n",
       "       'операции с коммерческой недвижимостью',\n",
       "       'строительство жилой недвижимости', 'жилье',\n",
       "       'операции со своей недвижимостью', 'автомобили',\n",
       "       'заняться образованием', 'сделка с подержанным автомобилем',\n",
       "       'получение образования', 'автомобиль', 'свадьба',\n",
       "       'получение дополнительного образования', 'покупка своего жилья',\n",
       "       'операции с недвижимостью', 'получение высшего образования',\n",
       "       'свой автомобиль', 'сделка с автомобилем',\n",
       "       'профильное образование', 'высшее образование',\n",
       "       'покупка жилья для сдачи', 'на покупку автомобиля', 'ремонт жилью',\n",
       "       'заняться высшим образованием'], dtype=object)"
      ]
     },
     "execution_count": 37,
     "metadata": {},
     "output_type": "execute_result"
    }
   ],
   "source": [
    "data_purpose = data['purpose'].unique()\n",
    "data_purpose"
   ]
  },
  {
   "cell_type": "markdown",
   "metadata": {
    "id": "cHChC7u1St7d"
   },
   "source": [
    "Соберём в одну строчку все наши уникальные значения, чтобы потом можно было подсчитать количество упоминаний слов в *purpose*."
   ]
  },
  {
   "cell_type": "code",
   "execution_count": 38,
   "metadata": {
    "colab": {
     "base_uri": "https://localhost:8080/",
     "height": 152
    },
    "id": "UP9jd8a1St7e",
    "outputId": "dfcb7d80-e3c2-4da4-936a-073f140245da"
   },
   "outputs": [
    {
     "data": {
      "text/plain": [
       "'покупка жилья приобретение автомобиля дополнительное образование сыграть свадьбу операции с жильем образование на проведение свадьбы покупка жилья для семьи покупка недвижимости покупка коммерческой недвижимости покупка жилой недвижимости строительство собственной недвижимости недвижимость строительство недвижимости на покупку подержанного автомобиля на покупку своего автомобиля операции с коммерческой недвижимостью строительство жилой недвижимости жилье операции со своей недвижимостью автомобили заняться образованием сделка с подержанным автомобилем получение образования автомобиль свадьба получение дополнительного образования покупка своего жилья операции с недвижимостью получение высшего образования свой автомобиль сделка с автомобилем профильное образование высшее образование покупка жилья для сдачи на покупку автомобиля ремонт жилью заняться высшим образованием '"
      ]
     },
     "execution_count": 38,
     "metadata": {},
     "output_type": "execute_result"
    }
   ],
   "source": [
    "data_lemmas = ''\n",
    "for i in data_purpose:\n",
    "    data_lemmas += (i + ' ')\n",
    "data_lemmas"
   ]
  },
  {
   "cell_type": "code",
   "execution_count": 39,
   "metadata": {
    "colab": {
     "base_uri": "https://localhost:8080/"
    },
    "id": "HXH08Hk5St7h",
    "outputId": "0dddc058-1e9b-4a82-c48e-fd65a8ce797d"
   },
   "outputs": [
    {
     "data": {
      "text/plain": [
       "Counter({'покупка жилья': 1,\n",
       "         'приобретение автомобиля': 1,\n",
       "         'дополнительное образование': 1,\n",
       "         'сыграть свадьбу': 1,\n",
       "         'операции с жильем': 1,\n",
       "         'образование': 1,\n",
       "         'на проведение свадьбы': 1,\n",
       "         'покупка жилья для семьи': 1,\n",
       "         'покупка недвижимости': 1,\n",
       "         'покупка коммерческой недвижимости': 1,\n",
       "         'покупка жилой недвижимости': 1,\n",
       "         'строительство собственной недвижимости': 1,\n",
       "         'недвижимость': 1,\n",
       "         'строительство недвижимости': 1,\n",
       "         'на покупку подержанного автомобиля': 1,\n",
       "         'на покупку своего автомобиля': 1,\n",
       "         'операции с коммерческой недвижимостью': 1,\n",
       "         'строительство жилой недвижимости': 1,\n",
       "         'жилье': 1,\n",
       "         'операции со своей недвижимостью': 1,\n",
       "         'автомобили': 1,\n",
       "         'заняться образованием': 1,\n",
       "         'сделка с подержанным автомобилем': 1,\n",
       "         'получение образования': 1,\n",
       "         'автомобиль': 1,\n",
       "         'свадьба': 1,\n",
       "         'получение дополнительного образования': 1,\n",
       "         'покупка своего жилья': 1,\n",
       "         'операции с недвижимостью': 1,\n",
       "         'получение высшего образования': 1,\n",
       "         'свой автомобиль': 1,\n",
       "         'сделка с автомобилем': 1,\n",
       "         'профильное образование': 1,\n",
       "         'высшее образование': 1,\n",
       "         'покупка жилья для сдачи': 1,\n",
       "         'на покупку автомобиля': 1,\n",
       "         'ремонт жилью': 1,\n",
       "         'заняться высшим образованием': 1})"
      ]
     },
     "execution_count": 39,
     "metadata": {},
     "output_type": "execute_result"
    }
   ],
   "source": [
    "lemmas = m.lemmatize(data_lemmas)\n",
    "\n",
    "Counter(data_purpose)"
   ]
  },
  {
   "cell_type": "markdown",
   "metadata": {
    "id": "cTVIc9ZdSt7j"
   },
   "source": [
    "### Вывод"
   ]
  },
  {
   "cell_type": "markdown",
   "metadata": {
    "id": "bnw9_49dSt7j"
   },
   "source": [
    "Не смотря на то, что цели были записаны в разных формулировках, мы видим, что в основном люди берут кредит на покупку чего-либо. В нашем случае это недвижимость и автомобили. Также некоторые занимают у банка на свадьбу и образование, а кто-то захотел сделать ремонт."
   ]
  },
  {
   "cell_type": "markdown",
   "metadata": {
    "id": "zwv5LVexSt7k"
   },
   "source": [
    "### Категоризация данных"
   ]
  },
  {
   "cell_type": "markdown",
   "metadata": {
    "id": "ejgbPy3-St7l"
   },
   "source": [
    "Для удобства нашего анализа приведём все цели к нескольким категориям. Мы будем использовать для этого стемминг. Пройдёмся по данным *data_purpose* и определим основу ключевых слов, по которым мы потом будем выбирать наши данные и группировать."
   ]
  },
  {
   "cell_type": "code",
   "execution_count": 40,
   "metadata": {
    "colab": {
     "base_uri": "https://localhost:8080/"
    },
    "id": "wJp4ZCeJSt7l",
    "outputId": "82d33817-6ed4-4790-8cab-140a49dc81b5"
   },
   "outputs": [
    {
     "name": "stdout",
     "output_type": "stream",
     "text": [
      "Исходное слово - покупка жилья, после стемминга - покупка жил\n",
      "Исходное слово - приобретение автомобиля, после стемминга - приобретение автомобил\n",
      "Исходное слово - дополнительное образование, после стемминга - дополнительное образован\n",
      "Исходное слово - сыграть свадьбу, после стемминга - сыграть свадьб\n",
      "Исходное слово - операции с жильем, после стемминга - операции с жил\n",
      "Исходное слово - образование, после стемминга - образован\n",
      "Исходное слово - на проведение свадьбы, после стемминга - на проведение свадьб\n",
      "Исходное слово - покупка жилья для семьи, после стемминга - покупка жилья для сем\n",
      "Исходное слово - покупка недвижимости, после стемминга - покупка недвижим\n",
      "Исходное слово - покупка коммерческой недвижимости, после стемминга - покупка коммерческой недвижим\n",
      "Исходное слово - покупка жилой недвижимости, после стемминга - покупка жилой недвижим\n",
      "Исходное слово - строительство собственной недвижимости, после стемминга - строительство собственной недвижим\n",
      "Исходное слово - недвижимость, после стемминга - недвижим\n",
      "Исходное слово - строительство недвижимости, после стемминга - строительство недвижим\n",
      "Исходное слово - на покупку подержанного автомобиля, после стемминга - на покупку подержанного автомобил\n",
      "Исходное слово - на покупку своего автомобиля, после стемминга - на покупку своего автомобил\n",
      "Исходное слово - операции с коммерческой недвижимостью, после стемминга - операции с коммерческой недвижим\n",
      "Исходное слово - строительство жилой недвижимости, после стемминга - строительство жилой недвижим\n",
      "Исходное слово - жилье, после стемминга - жил\n",
      "Исходное слово - операции со своей недвижимостью, после стемминга - операции со своей недвижим\n",
      "Исходное слово - автомобили, после стемминга - автомоб\n",
      "Исходное слово - заняться образованием, после стемминга - заняться образован\n",
      "Исходное слово - сделка с подержанным автомобилем, после стемминга - сделка с подержанным автомобил\n",
      "Исходное слово - получение образования, после стемминга - получение образован\n",
      "Исходное слово - автомобиль, после стемминга - автомобил\n",
      "Исходное слово - свадьба, после стемминга - свадьб\n",
      "Исходное слово - получение дополнительного образования, после стемминга - получение дополнительного образован\n",
      "Исходное слово - покупка своего жилья, после стемминга - покупка своего жил\n",
      "Исходное слово - операции с недвижимостью, после стемминга - операции с недвижим\n",
      "Исходное слово - получение высшего образования, после стемминга - получение высшего образован\n",
      "Исходное слово - свой автомобиль, после стемминга - свой автомобил\n",
      "Исходное слово - сделка с автомобилем, после стемминга - сделка с автомобил\n",
      "Исходное слово - профильное образование, после стемминга - профильное образован\n",
      "Исходное слово - высшее образование, после стемминга - высшее образован\n",
      "Исходное слово - покупка жилья для сдачи, после стемминга - покупка жилья для сдач\n",
      "Исходное слово - на покупку автомобиля, после стемминга - на покупку автомобил\n",
      "Исходное слово - ремонт жилью, после стемминга - ремонт жил\n",
      "Исходное слово - заняться высшим образованием, после стемминга - заняться высшим образован\n"
     ]
    }
   ],
   "source": [
    "\n",
    "russian_stemmer = SnowballStemmer('russian')\n",
    "\n",
    "for word in data_purpose:\n",
    "    print ('Исходное слово - ' + word + ', после стемминга - ' + russian_stemmer.stem(word))"
   ]
  },
  {
   "cell_type": "markdown",
   "metadata": {
    "id": "S8YO1URiSt7n"
   },
   "source": [
    "Итак, мы выяснили основу слов, по которым мы будем группировать: *автомобил* для категории *автомобиль*, *жил* и *недвижим* для категории *недвижимость* и *свадьб* для категории *свадьба*. Тепрь напишем функцию, которая добавит к нашей исходной таблице ещё один столбец *purpose_group*, где будем хранить категории целей кредита."
   ]
  },
  {
   "cell_type": "code",
   "execution_count": 41,
   "metadata": {
    "colab": {
     "base_uri": "https://localhost:8080/",
     "height": 533
    },
    "id": "3J-JJe9uSt7o",
    "outputId": "9c7ecbe7-54d8-4a04-9cbe-318162c4898e"
   },
   "outputs": [
    {
     "data": {
      "text/html": [
       "<div>\n",
       "<style scoped>\n",
       "    .dataframe tbody tr th:only-of-type {\n",
       "        vertical-align: middle;\n",
       "    }\n",
       "\n",
       "    .dataframe tbody tr th {\n",
       "        vertical-align: top;\n",
       "    }\n",
       "\n",
       "    .dataframe thead th {\n",
       "        text-align: right;\n",
       "    }\n",
       "</style>\n",
       "<table border=\"1\" class=\"dataframe\">\n",
       "  <thead>\n",
       "    <tr style=\"text-align: right;\">\n",
       "      <th></th>\n",
       "      <th>children</th>\n",
       "      <th>days_employed</th>\n",
       "      <th>dob_years</th>\n",
       "      <th>education</th>\n",
       "      <th>education_id</th>\n",
       "      <th>family_status</th>\n",
       "      <th>family_status_id</th>\n",
       "      <th>gender</th>\n",
       "      <th>income_type</th>\n",
       "      <th>debt</th>\n",
       "      <th>total_income</th>\n",
       "      <th>purpose</th>\n",
       "      <th>age_group</th>\n",
       "      <th>purpose_group</th>\n",
       "    </tr>\n",
       "  </thead>\n",
       "  <tbody>\n",
       "    <tr>\n",
       "      <th>0</th>\n",
       "      <td>1</td>\n",
       "      <td>8437</td>\n",
       "      <td>42</td>\n",
       "      <td>высшее</td>\n",
       "      <td>0</td>\n",
       "      <td>женат / замужем</td>\n",
       "      <td>0</td>\n",
       "      <td>F</td>\n",
       "      <td>сотрудник</td>\n",
       "      <td>0</td>\n",
       "      <td>253875.639453</td>\n",
       "      <td>покупка жилья</td>\n",
       "      <td>от 41 до 50 лет</td>\n",
       "      <td>недвижимость</td>\n",
       "    </tr>\n",
       "    <tr>\n",
       "      <th>1</th>\n",
       "      <td>1</td>\n",
       "      <td>4024</td>\n",
       "      <td>36</td>\n",
       "      <td>среднее</td>\n",
       "      <td>1</td>\n",
       "      <td>женат / замужем</td>\n",
       "      <td>0</td>\n",
       "      <td>F</td>\n",
       "      <td>сотрудник</td>\n",
       "      <td>0</td>\n",
       "      <td>112080.014102</td>\n",
       "      <td>приобретение автомобиля</td>\n",
       "      <td>от 31 до 40 лет</td>\n",
       "      <td>автомобиль</td>\n",
       "    </tr>\n",
       "    <tr>\n",
       "      <th>2</th>\n",
       "      <td>0</td>\n",
       "      <td>5623</td>\n",
       "      <td>33</td>\n",
       "      <td>среднее</td>\n",
       "      <td>1</td>\n",
       "      <td>женат / замужем</td>\n",
       "      <td>0</td>\n",
       "      <td>M</td>\n",
       "      <td>сотрудник</td>\n",
       "      <td>0</td>\n",
       "      <td>145885.952297</td>\n",
       "      <td>покупка жилья</td>\n",
       "      <td>от 31 до 40 лет</td>\n",
       "      <td>недвижимость</td>\n",
       "    </tr>\n",
       "    <tr>\n",
       "      <th>3</th>\n",
       "      <td>3</td>\n",
       "      <td>4124</td>\n",
       "      <td>32</td>\n",
       "      <td>среднее</td>\n",
       "      <td>1</td>\n",
       "      <td>женат / замужем</td>\n",
       "      <td>0</td>\n",
       "      <td>M</td>\n",
       "      <td>сотрудник</td>\n",
       "      <td>0</td>\n",
       "      <td>267628.550329</td>\n",
       "      <td>дополнительное образование</td>\n",
       "      <td>от 31 до 40 лет</td>\n",
       "      <td>образование</td>\n",
       "    </tr>\n",
       "    <tr>\n",
       "      <th>4</th>\n",
       "      <td>0</td>\n",
       "      <td>340266</td>\n",
       "      <td>53</td>\n",
       "      <td>среднее</td>\n",
       "      <td>1</td>\n",
       "      <td>гражданский брак</td>\n",
       "      <td>1</td>\n",
       "      <td>F</td>\n",
       "      <td>пенсионер</td>\n",
       "      <td>0</td>\n",
       "      <td>158616.077870</td>\n",
       "      <td>сыграть свадьбу</td>\n",
       "      <td>от 51 до 60 лет</td>\n",
       "      <td>свадьба</td>\n",
       "    </tr>\n",
       "    <tr>\n",
       "      <th>5</th>\n",
       "      <td>0</td>\n",
       "      <td>926</td>\n",
       "      <td>27</td>\n",
       "      <td>высшее</td>\n",
       "      <td>0</td>\n",
       "      <td>гражданский брак</td>\n",
       "      <td>1</td>\n",
       "      <td>M</td>\n",
       "      <td>компаньон</td>\n",
       "      <td>0</td>\n",
       "      <td>255763.565419</td>\n",
       "      <td>покупка жилья</td>\n",
       "      <td>30 лет и младше</td>\n",
       "      <td>недвижимость</td>\n",
       "    </tr>\n",
       "    <tr>\n",
       "      <th>6</th>\n",
       "      <td>0</td>\n",
       "      <td>2879</td>\n",
       "      <td>43</td>\n",
       "      <td>высшее</td>\n",
       "      <td>0</td>\n",
       "      <td>женат / замужем</td>\n",
       "      <td>0</td>\n",
       "      <td>F</td>\n",
       "      <td>компаньон</td>\n",
       "      <td>0</td>\n",
       "      <td>240525.971920</td>\n",
       "      <td>операции с жильем</td>\n",
       "      <td>от 41 до 50 лет</td>\n",
       "      <td>недвижимость</td>\n",
       "    </tr>\n",
       "    <tr>\n",
       "      <th>7</th>\n",
       "      <td>0</td>\n",
       "      <td>152</td>\n",
       "      <td>50</td>\n",
       "      <td>среднее</td>\n",
       "      <td>1</td>\n",
       "      <td>женат / замужем</td>\n",
       "      <td>0</td>\n",
       "      <td>M</td>\n",
       "      <td>сотрудник</td>\n",
       "      <td>0</td>\n",
       "      <td>135823.934197</td>\n",
       "      <td>образование</td>\n",
       "      <td>от 41 до 50 лет</td>\n",
       "      <td>образование</td>\n",
       "    </tr>\n",
       "    <tr>\n",
       "      <th>8</th>\n",
       "      <td>2</td>\n",
       "      <td>6929</td>\n",
       "      <td>35</td>\n",
       "      <td>высшее</td>\n",
       "      <td>0</td>\n",
       "      <td>гражданский брак</td>\n",
       "      <td>1</td>\n",
       "      <td>F</td>\n",
       "      <td>сотрудник</td>\n",
       "      <td>0</td>\n",
       "      <td>95856.832424</td>\n",
       "      <td>на проведение свадьбы</td>\n",
       "      <td>от 31 до 40 лет</td>\n",
       "      <td>свадьба</td>\n",
       "    </tr>\n",
       "    <tr>\n",
       "      <th>9</th>\n",
       "      <td>0</td>\n",
       "      <td>2188</td>\n",
       "      <td>41</td>\n",
       "      <td>среднее</td>\n",
       "      <td>1</td>\n",
       "      <td>женат / замужем</td>\n",
       "      <td>0</td>\n",
       "      <td>M</td>\n",
       "      <td>сотрудник</td>\n",
       "      <td>0</td>\n",
       "      <td>144425.938277</td>\n",
       "      <td>покупка жилья для семьи</td>\n",
       "      <td>от 41 до 50 лет</td>\n",
       "      <td>недвижимость</td>\n",
       "    </tr>\n",
       "  </tbody>\n",
       "</table>\n",
       "</div>"
      ],
      "text/plain": [
       "   children  days_employed  dob_years education  education_id  \\\n",
       "0         1           8437         42    высшее             0   \n",
       "1         1           4024         36   среднее             1   \n",
       "2         0           5623         33   среднее             1   \n",
       "3         3           4124         32   среднее             1   \n",
       "4         0         340266         53   среднее             1   \n",
       "5         0            926         27    высшее             0   \n",
       "6         0           2879         43    высшее             0   \n",
       "7         0            152         50   среднее             1   \n",
       "8         2           6929         35    высшее             0   \n",
       "9         0           2188         41   среднее             1   \n",
       "\n",
       "      family_status  family_status_id gender income_type  debt   total_income  \\\n",
       "0   женат / замужем                 0      F   сотрудник     0  253875.639453   \n",
       "1   женат / замужем                 0      F   сотрудник     0  112080.014102   \n",
       "2   женат / замужем                 0      M   сотрудник     0  145885.952297   \n",
       "3   женат / замужем                 0      M   сотрудник     0  267628.550329   \n",
       "4  гражданский брак                 1      F   пенсионер     0  158616.077870   \n",
       "5  гражданский брак                 1      M   компаньон     0  255763.565419   \n",
       "6   женат / замужем                 0      F   компаньон     0  240525.971920   \n",
       "7   женат / замужем                 0      M   сотрудник     0  135823.934197   \n",
       "8  гражданский брак                 1      F   сотрудник     0   95856.832424   \n",
       "9   женат / замужем                 0      M   сотрудник     0  144425.938277   \n",
       "\n",
       "                      purpose        age_group purpose_group  \n",
       "0               покупка жилья  от 41 до 50 лет  недвижимость  \n",
       "1     приобретение автомобиля  от 31 до 40 лет    автомобиль  \n",
       "2               покупка жилья  от 31 до 40 лет  недвижимость  \n",
       "3  дополнительное образование  от 31 до 40 лет   образование  \n",
       "4             сыграть свадьбу  от 51 до 60 лет       свадьба  \n",
       "5               покупка жилья  30 лет и младше  недвижимость  \n",
       "6           операции с жильем  от 41 до 50 лет  недвижимость  \n",
       "7                 образование  от 41 до 50 лет   образование  \n",
       "8       на проведение свадьбы  от 31 до 40 лет       свадьба  \n",
       "9     покупка жилья для семьи  от 41 до 50 лет  недвижимость  "
      ]
     },
     "execution_count": 41,
     "metadata": {},
     "output_type": "execute_result"
    }
   ],
   "source": [
    "def purpose_group(row):\n",
    "    for word in row.split(' '):\n",
    "        stemmed_word = russian_stemmer.stem(word)\n",
    "        if stemmed_word == 'автомобил':\n",
    "            return 'автомобиль'\n",
    "        if stemmed_word == 'жил' or stemmed_word == 'недвижим':\n",
    "            return 'недвижимость'\n",
    "        if stemmed_word == 'образован':\n",
    "            return 'образование'\n",
    "        if stemmed_word ==  'свадьб':\n",
    "            return 'свадьба'\n",
    "\n",
    "data['purpose_group'] = data['purpose'].apply(purpose_group)\n",
    "data.head(10)"
   ]
  },
  {
   "cell_type": "code",
   "execution_count": 42,
   "metadata": {
    "colab": {
     "base_uri": "https://localhost:8080/"
    },
    "id": "yOD8q2E_St7p",
    "outputId": "65218c3a-1979-4866-8ede-1db4f0be5d71"
   },
   "outputs": [
    {
     "data": {
      "text/plain": [
       "недвижимость    10731\n",
       "образование      3981\n",
       "автомобиль       3796\n",
       "свадьба          2312\n",
       "Name: purpose_group, dtype: int64"
      ]
     },
     "execution_count": 42,
     "metadata": {},
     "output_type": "execute_result"
    }
   ],
   "source": [
    "data['purpose_group'].value_counts()"
   ]
  },
  {
   "cell_type": "markdown",
   "metadata": {
    "id": "oAa0FzaeSt7s"
   },
   "source": [
    "### Вывод"
   ]
  },
  {
   "cell_type": "markdown",
   "metadata": {
    "id": "hL8UNdfJSt7s"
   },
   "source": [
    "Как мы можем судить по основным категориям, то больше половины из всех случаев займа это кредит на недвижимость. Примерно в равной степени берут кредиты на образование и покупку автомобиля, и реже - на свадебные торжества."
   ]
  },
  {
   "cell_type": "markdown",
   "metadata": {
    "id": "2V4-MRI6St7t"
   },
   "source": [
    "### Шаг 3. Ответьте на вопросы"
   ]
  },
  {
   "cell_type": "markdown",
   "metadata": {
    "id": "uFtLhQq4St7t"
   },
   "source": [
    "- Есть ли зависимость между наличием детей и возвратом кредита в срок?"
   ]
  },
  {
   "cell_type": "markdown",
   "metadata": {
    "id": "3o6gD81SSt7t"
   },
   "source": [
    "Поскольку в столбце *debt* у нас всего два значения, подсчитаем для начала среднее значение по столбцу, которое будет отражать долю должников."
   ]
  },
  {
   "cell_type": "code",
   "execution_count": 43,
   "metadata": {
    "colab": {
     "base_uri": "https://localhost:8080/"
    },
    "id": "IybodPwwSt7u",
    "outputId": "db151496-12c7-4cec-d205-823e4a64f4f6"
   },
   "outputs": [
    {
     "data": {
      "text/plain": [
       "0.0810049307349143"
      ]
     },
     "execution_count": 43,
     "metadata": {},
     "output_type": "execute_result"
    }
   ],
   "source": [
    "data['debt'].mean()"
   ]
  },
  {
   "cell_type": "markdown",
   "metadata": {
    "id": "AulpklmWSt7w"
   },
   "source": [
    "Доля должников в целом небольшая 0.08 или 8% от числа всех заёмщиков. А теперь возьмём сводную таблицу и посмотрим, как количество детей влияет на возврат кредита в срок."
   ]
  },
  {
   "cell_type": "code",
   "execution_count": 44,
   "metadata": {
    "colab": {
     "base_uri": "https://localhost:8080/",
     "height": 256
    },
    "id": "8BMdZwLiSt7w",
    "outputId": "b4e1a017-154e-4810-f57a-408eb76d50f0"
   },
   "outputs": [
    {
     "data": {
      "text/html": [
       "<div>\n",
       "<style scoped>\n",
       "    .dataframe tbody tr th:only-of-type {\n",
       "        vertical-align: middle;\n",
       "    }\n",
       "\n",
       "    .dataframe tbody tr th {\n",
       "        vertical-align: top;\n",
       "    }\n",
       "\n",
       "    .dataframe thead th {\n",
       "        text-align: right;\n",
       "    }\n",
       "</style>\n",
       "<table border=\"1\" class=\"dataframe\">\n",
       "  <thead>\n",
       "    <tr style=\"text-align: right;\">\n",
       "      <th></th>\n",
       "      <th>mean</th>\n",
       "      <th>count</th>\n",
       "    </tr>\n",
       "    <tr>\n",
       "      <th>children</th>\n",
       "      <th></th>\n",
       "      <th></th>\n",
       "    </tr>\n",
       "  </thead>\n",
       "  <tbody>\n",
       "    <tr>\n",
       "      <th>0</th>\n",
       "      <td>0.075367</td>\n",
       "      <td>14038</td>\n",
       "    </tr>\n",
       "    <tr>\n",
       "      <th>1</th>\n",
       "      <td>0.091322</td>\n",
       "      <td>4840</td>\n",
       "    </tr>\n",
       "    <tr>\n",
       "      <th>2</th>\n",
       "      <td>0.095145</td>\n",
       "      <td>2039</td>\n",
       "    </tr>\n",
       "    <tr>\n",
       "      <th>3</th>\n",
       "      <td>0.082317</td>\n",
       "      <td>328</td>\n",
       "    </tr>\n",
       "    <tr>\n",
       "      <th>4</th>\n",
       "      <td>0.097561</td>\n",
       "      <td>41</td>\n",
       "    </tr>\n",
       "    <tr>\n",
       "      <th>5</th>\n",
       "      <td>0.000000</td>\n",
       "      <td>9</td>\n",
       "    </tr>\n",
       "  </tbody>\n",
       "</table>\n",
       "</div>"
      ],
      "text/plain": [
       "              mean  count\n",
       "children                 \n",
       "0         0.075367  14038\n",
       "1         0.091322   4840\n",
       "2         0.095145   2039\n",
       "3         0.082317    328\n",
       "4         0.097561     41\n",
       "5         0.000000      9"
      ]
     },
     "execution_count": 44,
     "metadata": {},
     "output_type": "execute_result"
    }
   ],
   "source": [
    "data.groupby('children')['debt'].agg(['mean', 'count'])"
   ]
  },
  {
   "cell_type": "markdown",
   "metadata": {
    "id": "qWfKE7wqSt7y"
   },
   "source": [
    "Как мы видим, доля должников по количеству детей не сильно меняется и варьируется в пределах двух процентов. Посмотрим наглядно на графике. "
   ]
  },
  {
   "cell_type": "code",
   "execution_count": 45,
   "metadata": {
    "colab": {
     "base_uri": "https://localhost:8080/",
     "height": 293
    },
    "id": "scHTMMGwSt7z",
    "outputId": "a39f8390-3c3e-4162-cfca-03c0552440ec"
   },
   "outputs": [
    {
     "data": {
      "image/png": "[encoded data removed]",
      "text/plain": [
       "<Figure size 576x432 with 1 Axes>"
      ]
     },
     "metadata": {
      "needs_background": "light"
     },
     "output_type": "display_data"
    }
   ],
   "source": [
    "data.groupby('children')['debt'].agg(['mean']).plot(kind='bar', \n",
    "                                                    grid=True, figsize=(8,6), \n",
    "                                                    title='Зависимость просрочки по кредиту от количества детей');"
   ]
  },
  {
   "cell_type": "markdown",
   "metadata": {
    "id": "6OEEInBmSt71"
   },
   "source": [
    "### Вывод"
   ]
  },
  {
   "cell_type": "markdown",
   "metadata": {
    "id": "-6GdtKSRSt72"
   },
   "source": [
    "В целом количество детей не сильно влияет возврат кредита в срок. Чуть меньше должников с реди тех, у кого один ребёнок, чуть больше - у кого четверо детей. То, что люди с пятью детьми вовсе не являются должниками, не говорит, что они всегда выплачивают кредиты в срок. В нашей выборке всего 9 таких случаев, этого не достаточно, чтобы делать какие-то выводы."
   ]
  },
  {
   "cell_type": "markdown",
   "metadata": {
    "id": "MdRUNI4gSt73"
   },
   "source": [
    "- Есть ли зависимость между семейным положением и возвратом кредита в срок?"
   ]
  },
  {
   "cell_type": "code",
   "execution_count": 46,
   "metadata": {
    "colab": {
     "base_uri": "https://localhost:8080/",
     "height": 226
    },
    "id": "wFGqF0sFSt73",
    "outputId": "8fa954d2-cbe9-4151-e848-95fb6302be1d"
   },
   "outputs": [
    {
     "data": {
      "text/html": [
       "<div>\n",
       "<style scoped>\n",
       "    .dataframe tbody tr th:only-of-type {\n",
       "        vertical-align: middle;\n",
       "    }\n",
       "\n",
       "    .dataframe tbody tr th {\n",
       "        vertical-align: top;\n",
       "    }\n",
       "\n",
       "    .dataframe thead th {\n",
       "        text-align: right;\n",
       "    }\n",
       "</style>\n",
       "<table border=\"1\" class=\"dataframe\">\n",
       "  <thead>\n",
       "    <tr style=\"text-align: right;\">\n",
       "      <th></th>\n",
       "      <th>mean</th>\n",
       "      <th>count</th>\n",
       "    </tr>\n",
       "    <tr>\n",
       "      <th>family_status</th>\n",
       "      <th></th>\n",
       "      <th></th>\n",
       "    </tr>\n",
       "  </thead>\n",
       "  <tbody>\n",
       "    <tr>\n",
       "      <th>Не женат / не замужем</th>\n",
       "      <td>0.097666</td>\n",
       "      <td>2785</td>\n",
       "    </tr>\n",
       "    <tr>\n",
       "      <th>в разводе</th>\n",
       "      <td>0.071006</td>\n",
       "      <td>1183</td>\n",
       "    </tr>\n",
       "    <tr>\n",
       "      <th>вдовец / вдова</th>\n",
       "      <td>0.065263</td>\n",
       "      <td>950</td>\n",
       "    </tr>\n",
       "    <tr>\n",
       "      <th>гражданский брак</th>\n",
       "      <td>0.092736</td>\n",
       "      <td>4130</td>\n",
       "    </tr>\n",
       "    <tr>\n",
       "      <th>женат / замужем</th>\n",
       "      <td>0.075447</td>\n",
       "      <td>12247</td>\n",
       "    </tr>\n",
       "  </tbody>\n",
       "</table>\n",
       "</div>"
      ],
      "text/plain": [
       "                           mean  count\n",
       "family_status                         \n",
       "Не женат / не замужем  0.097666   2785\n",
       "в разводе              0.071006   1183\n",
       "вдовец / вдова         0.065263    950\n",
       "гражданский брак       0.092736   4130\n",
       "женат / замужем        0.075447  12247"
      ]
     },
     "execution_count": 46,
     "metadata": {},
     "output_type": "execute_result"
    }
   ],
   "source": [
    "data.groupby('family_status')['debt'].agg(['mean', 'count'])"
   ]
  },
  {
   "cell_type": "code",
   "execution_count": 47,
   "metadata": {
    "colab": {
     "base_uri": "https://localhost:8080/",
     "height": 409
    },
    "id": "ET7_wdknSt79",
    "outputId": "b172c793-cbfa-4611-bb13-1e8e4ad17388"
   },
   "outputs": [
    {
     "data": {
      "image/png": "[encoded data removed]",
      "text/plain": [
       "<Figure size 576x432 with 1 Axes>"
      ]
     },
     "metadata": {
      "needs_background": "light"
     },
     "output_type": "display_data"
    }
   ],
   "source": [
    "data.groupby('family_status')['debt'].agg(['mean']).plot(kind='bar', \n",
    "                                                         grid=True, figsize=(8,6), \n",
    "                                                         title='Зависимость просрочки по кредиту от семейного статуса');"
   ]
  },
  {
   "cell_type": "markdown",
   "metadata": {
    "id": "lk4YpDFpSt7_"
   },
   "source": [
    "### Вывод"
   ]
  },
  {
   "cell_type": "markdown",
   "metadata": {
    "id": "anzEAS2xSt7_"
   },
   "source": [
    "Смотря на зависимость между семейным положением мы можем сказать, что люди не вступавшие в брак чаще являются должниками по кредиту, чем те, кто прошёл через ЗАГС. Видимо ответственный поступок создания семьи заставляет ответственнее подходить ко всему, в том числе  и к возврату кредита. Меньше всего должников среди вдов и вдовцов."
   ]
  },
  {
   "cell_type": "markdown",
   "metadata": {
    "id": "lTYZ0uuESt7_"
   },
   "source": [
    "- Есть ли зависимость между уровнем дохода и возвратом кредита в срок?"
   ]
  },
  {
   "cell_type": "code",
   "execution_count": 48,
   "metadata": {
    "id": "VHhK9vzSSt8A"
   },
   "outputs": [
    {
     "data": {
      "text/html": [
       "<div>\n",
       "<style scoped>\n",
       "    .dataframe tbody tr th:only-of-type {\n",
       "        vertical-align: middle;\n",
       "    }\n",
       "\n",
       "    .dataframe tbody tr th {\n",
       "        vertical-align: top;\n",
       "    }\n",
       "\n",
       "    .dataframe thead th {\n",
       "        text-align: right;\n",
       "    }\n",
       "</style>\n",
       "<table border=\"1\" class=\"dataframe\">\n",
       "  <thead>\n",
       "    <tr style=\"text-align: right;\">\n",
       "      <th></th>\n",
       "      <th>mean</th>\n",
       "      <th>count</th>\n",
       "    </tr>\n",
       "    <tr>\n",
       "      <th>total_income</th>\n",
       "      <th></th>\n",
       "      <th></th>\n",
       "    </tr>\n",
       "  </thead>\n",
       "  <tbody>\n",
       "    <tr>\n",
       "      <th>2.066726e+04</th>\n",
       "      <td>1.0</td>\n",
       "      <td>1</td>\n",
       "    </tr>\n",
       "    <tr>\n",
       "      <th>2.120528e+04</th>\n",
       "      <td>0.0</td>\n",
       "      <td>1</td>\n",
       "    </tr>\n",
       "    <tr>\n",
       "      <th>2.136765e+04</th>\n",
       "      <td>0.0</td>\n",
       "      <td>1</td>\n",
       "    </tr>\n",
       "    <tr>\n",
       "      <th>2.169510e+04</th>\n",
       "      <td>0.0</td>\n",
       "      <td>1</td>\n",
       "    </tr>\n",
       "    <tr>\n",
       "      <th>2.189561e+04</th>\n",
       "      <td>0.0</td>\n",
       "      <td>1</td>\n",
       "    </tr>\n",
       "    <tr>\n",
       "      <th>...</th>\n",
       "      <td>...</td>\n",
       "      <td>...</td>\n",
       "    </tr>\n",
       "    <tr>\n",
       "      <th>1.711309e+06</th>\n",
       "      <td>0.0</td>\n",
       "      <td>1</td>\n",
       "    </tr>\n",
       "    <tr>\n",
       "      <th>1.715018e+06</th>\n",
       "      <td>0.0</td>\n",
       "      <td>1</td>\n",
       "    </tr>\n",
       "    <tr>\n",
       "      <th>1.726276e+06</th>\n",
       "      <td>0.0</td>\n",
       "      <td>1</td>\n",
       "    </tr>\n",
       "    <tr>\n",
       "      <th>2.200852e+06</th>\n",
       "      <td>1.0</td>\n",
       "      <td>1</td>\n",
       "    </tr>\n",
       "    <tr>\n",
       "      <th>2.265604e+06</th>\n",
       "      <td>0.0</td>\n",
       "      <td>1</td>\n",
       "    </tr>\n",
       "  </tbody>\n",
       "</table>\n",
       "<p>19199 rows × 2 columns</p>\n",
       "</div>"
      ],
      "text/plain": [
       "              mean  count\n",
       "total_income             \n",
       "2.066726e+04   1.0      1\n",
       "2.120528e+04   0.0      1\n",
       "2.136765e+04   0.0      1\n",
       "2.169510e+04   0.0      1\n",
       "2.189561e+04   0.0      1\n",
       "...            ...    ...\n",
       "1.711309e+06   0.0      1\n",
       "1.715018e+06   0.0      1\n",
       "1.726276e+06   0.0      1\n",
       "2.200852e+06   1.0      1\n",
       "2.265604e+06   0.0      1\n",
       "\n",
       "[19199 rows x 2 columns]"
      ]
     },
     "execution_count": 48,
     "metadata": {},
     "output_type": "execute_result"
    }
   ],
   "source": [
    "data.groupby('total_income')['debt'].agg(['mean', 'count'])"
   ]
  },
  {
   "cell_type": "markdown",
   "metadata": {
    "id": "pyi9AVrhSt8C"
   },
   "source": [
    "В таком виде данные не репрезентативны, разобъём их на равные группы. Для этого используем метод *pd.cut()*, чтобы получить пять групп."
   ]
  },
  {
   "cell_type": "code",
   "execution_count": 49,
   "metadata": {
    "id": "x1RQ31d7St8C"
   },
   "outputs": [],
   "source": [
    "data['total_income_group'] = pd.cut(data['total_income'],5)"
   ]
  },
  {
   "cell_type": "code",
   "execution_count": 50,
   "metadata": {
    "id": "RBVOo5elSt8F"
   },
   "outputs": [
    {
     "data": {
      "text/html": [
       "<div>\n",
       "<style scoped>\n",
       "    .dataframe tbody tr th:only-of-type {\n",
       "        vertical-align: middle;\n",
       "    }\n",
       "\n",
       "    .dataframe tbody tr th {\n",
       "        vertical-align: top;\n",
       "    }\n",
       "\n",
       "    .dataframe thead th {\n",
       "        text-align: right;\n",
       "    }\n",
       "</style>\n",
       "<table border=\"1\" class=\"dataframe\">\n",
       "  <thead>\n",
       "    <tr style=\"text-align: right;\">\n",
       "      <th></th>\n",
       "      <th>mean</th>\n",
       "      <th>count</th>\n",
       "    </tr>\n",
       "    <tr>\n",
       "      <th>total_income_group</th>\n",
       "      <th></th>\n",
       "      <th></th>\n",
       "    </tr>\n",
       "  </thead>\n",
       "  <tbody>\n",
       "    <tr>\n",
       "      <th>(18422.327, 469654.617]</th>\n",
       "      <td>0.081350</td>\n",
       "      <td>21008</td>\n",
       "    </tr>\n",
       "    <tr>\n",
       "      <th>(469654.617, 918641.97]</th>\n",
       "      <td>0.054264</td>\n",
       "      <td>258</td>\n",
       "    </tr>\n",
       "    <tr>\n",
       "      <th>(918641.97, 1367629.323]</th>\n",
       "      <td>0.047619</td>\n",
       "      <td>21</td>\n",
       "    </tr>\n",
       "    <tr>\n",
       "      <th>(1367629.323, 1816616.676]</th>\n",
       "      <td>0.000000</td>\n",
       "      <td>6</td>\n",
       "    </tr>\n",
       "    <tr>\n",
       "      <th>(1816616.676, 2265604.029]</th>\n",
       "      <td>0.500000</td>\n",
       "      <td>2</td>\n",
       "    </tr>\n",
       "  </tbody>\n",
       "</table>\n",
       "</div>"
      ],
      "text/plain": [
       "                                mean  count\n",
       "total_income_group                         \n",
       "(18422.327, 469654.617]     0.081350  21008\n",
       "(469654.617, 918641.97]     0.054264    258\n",
       "(918641.97, 1367629.323]    0.047619     21\n",
       "(1367629.323, 1816616.676]  0.000000      6\n",
       "(1816616.676, 2265604.029]  0.500000      2"
      ]
     },
     "execution_count": 50,
     "metadata": {},
     "output_type": "execute_result"
    }
   ],
   "source": [
    "data.groupby('total_income_group')['debt'].agg(['mean', 'count'])"
   ]
  },
  {
   "cell_type": "code",
   "execution_count": 51,
   "metadata": {
    "id": "1bTx9hVFSt8G"
   },
   "outputs": [
    {
     "data": {
      "image/png": "[encoded data removed]",
      "text/plain": [
       "<Figure size 576x432 with 1 Axes>"
      ]
     },
     "metadata": {
      "needs_background": "light"
     },
     "output_type": "display_data"
    }
   ],
   "source": [
    "data.groupby('total_income_group')['debt'].agg(['mean']).plot(kind='bar', \n",
    "                                                              grid=True, figsize=(8,6), rot=45,\n",
    "                                                              title='Зависимость просрочки по кредиту от дохода');"
   ]
  },
  {
   "cell_type": "markdown",
   "metadata": {
    "id": "RT_ouVQUSt8I"
   },
   "source": [
    "### Вывод"
   ]
  },
  {
   "cell_type": "markdown",
   "metadata": {
    "id": "VGVEVssdSt8I"
   },
   "source": [
    "При сопоставлении данных ежемесячного дохода и возврата кредита мы видим, что чем больше доход человека, тем реже он становится должником. Исключение составляет группа, доход которой около двух миллионов в месяц, в ней один из двух заёмщиков имел задолженность по возврату, чем испортил статистику."
   ]
  },
  {
   "cell_type": "markdown",
   "metadata": {
    "id": "0JevaiPbSt8J"
   },
   "source": [
    "- Как разные цели кредита влияют на его возврат в срок?"
   ]
  },
  {
   "cell_type": "code",
   "execution_count": 52,
   "metadata": {
    "id": "aXtUcaAxSt8J"
   },
   "outputs": [
    {
     "data": {
      "text/html": [
       "<div>\n",
       "<style scoped>\n",
       "    .dataframe tbody tr th:only-of-type {\n",
       "        vertical-align: middle;\n",
       "    }\n",
       "\n",
       "    .dataframe tbody tr th {\n",
       "        vertical-align: top;\n",
       "    }\n",
       "\n",
       "    .dataframe thead th {\n",
       "        text-align: right;\n",
       "    }\n",
       "</style>\n",
       "<table border=\"1\" class=\"dataframe\">\n",
       "  <thead>\n",
       "    <tr style=\"text-align: right;\">\n",
       "      <th></th>\n",
       "      <th>mean</th>\n",
       "      <th>count</th>\n",
       "    </tr>\n",
       "    <tr>\n",
       "      <th>purpose_group</th>\n",
       "      <th></th>\n",
       "      <th></th>\n",
       "    </tr>\n",
       "  </thead>\n",
       "  <tbody>\n",
       "    <tr>\n",
       "      <th>автомобиль</th>\n",
       "      <td>0.093256</td>\n",
       "      <td>3796</td>\n",
       "    </tr>\n",
       "    <tr>\n",
       "      <th>недвижимость</th>\n",
       "      <td>0.072407</td>\n",
       "      <td>10731</td>\n",
       "    </tr>\n",
       "    <tr>\n",
       "      <th>образование</th>\n",
       "      <td>0.092690</td>\n",
       "      <td>3981</td>\n",
       "    </tr>\n",
       "    <tr>\n",
       "      <th>свадьба</th>\n",
       "      <td>0.078287</td>\n",
       "      <td>2312</td>\n",
       "    </tr>\n",
       "  </tbody>\n",
       "</table>\n",
       "</div>"
      ],
      "text/plain": [
       "                   mean  count\n",
       "purpose_group                 \n",
       "автомобиль     0.093256   3796\n",
       "недвижимость   0.072407  10731\n",
       "образование    0.092690   3981\n",
       "свадьба        0.078287   2312"
      ]
     },
     "execution_count": 52,
     "metadata": {},
     "output_type": "execute_result"
    }
   ],
   "source": [
    "data.groupby('purpose_group')['debt'].agg(['mean', 'count'])"
   ]
  },
  {
   "cell_type": "code",
   "execution_count": 53,
   "metadata": {
    "id": "7hwva8RkSt8L"
   },
   "outputs": [
    {
     "data": {
      "image/png": "[encoded data removed]",
      "text/plain": [
       "<Figure size 576x432 with 1 Axes>"
      ]
     },
     "metadata": {
      "needs_background": "light"
     },
     "output_type": "display_data"
    }
   ],
   "source": [
    "data.groupby('purpose_group')['debt'].agg(['mean']).plot(grid=True, figsize=(8,6), rot=90, \n",
    "                                                         title='Зависимость просрочки по кредиту от цели кредита');"
   ]
  },
  {
   "cell_type": "markdown",
   "metadata": {
    "id": "GgvD4E1lSt8N"
   },
   "source": [
    "### Вывод"
   ]
  },
  {
   "cell_type": "markdown",
   "metadata": {
    "id": "Mtl3nRS0St8N"
   },
   "source": [
    "Сравнив данные по тому, был ли кредитор должником и на какую цель занимал у банка, мы можем прийти к выводу, что охотнее возвращают в срок те, кто собирался сыграть свадьбу или купить недвижимость. Те же, кто занимал на образование или покупку автомобиля становились должниками чаще."
   ]
  },
  {
   "cell_type": "markdown",
   "metadata": {
    "id": "PE3-1JycSt8N"
   },
   "source": [
    "### Шаг 4. Общий вывод"
   ]
  },
  {
   "cell_type": "markdown",
   "metadata": {
    "id": "m-EoDu82St8N"
   },
   "source": [
    "Подводя итог нашему исследованию мы можем сказать, что:\n",
    "* количество детей не влияет на возврат кредита в срок, но есть небольшая тенденция на увеличение вероятности просрочки по кредиту с увеличением количества детей;\n",
    "* люди не вступавшие в брак, чаще становятся должниками, чем те, кто состоит или состоял в браке;\n",
    "* чем больше ежемесячный доход заёмщика, тем больше вероятность, что он заплатит по кредиту в срок;\n",
    "* люди занимающие у банка на покупку автомобиля или на образование реже соблюдают сроки по платежу, чем те, кто покупает недвижимость или организует свадьбу.\n",
    "В целом процент должников по какой-либо выборке не превышает 10%. Самым добросовестным заёмщиком будет вдова или вдовец без детей с высоким уровнем дохода (от 1 миллиона рублей), собирающися приобрести жильё. А большая вероятность стать должником у не женатого(не замужнего) человека с четырьмя детьми и небольшим ежемесячным доходом, который хочет купить автомобиль."
   ]
  }
 ],
 "metadata": {
  "colab": {
   "collapsed_sections": [],
   "name": "debt_analysis.ipynb",
   "provenance": [],
   "toc_visible": true
  },
  "kernelspec": {
   "display_name": "Python 3",
   "language": "python",
   "name": "python3"
  },
  "language_info": {
   "codemirror_mode": {
    "name": "ipython",
    "version": 3
   },
   "file_extension": ".py",
   "mimetype": "text/x-python",
   "name": "python",
   "nbconvert_exporter": "python",
   "pygments_lexer": "ipython3",
   "version": "3.8.5"
  }
 },
 "nbformat": 4,
 "nbformat_minor": 1
}
